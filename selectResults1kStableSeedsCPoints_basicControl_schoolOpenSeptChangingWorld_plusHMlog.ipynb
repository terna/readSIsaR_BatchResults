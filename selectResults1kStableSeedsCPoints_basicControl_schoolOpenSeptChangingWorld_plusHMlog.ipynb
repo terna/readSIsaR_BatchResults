{
 "cells": [
  {
   "cell_type": "code",
   "execution_count": 1,
   "metadata": {},
   "outputs": [
    {
     "data": {
      "application/javascript": [
       "// to avoid scroll in windows\n",
       "IPython.OutputArea.prototype._should_scroll = function(lines) {\n",
       "    return false;\n",
       "}\n"
      ],
      "text/plain": [
       "<IPython.core.display.Javascript object>"
      ]
     },
     "metadata": {},
     "output_type": "display_data"
    }
   ],
   "source": [
    "%%javascript\n",
    "// to avoid scroll in windows\n",
    "IPython.OutputArea.prototype._should_scroll = function(lines) {\n",
    "    return false;\n",
    "}"
   ]
  },
  {
   "cell_type": "code",
   "execution_count": 2,
   "metadata": {
    "scrolled": true
   },
   "outputs": [],
   "source": [
    "from IPython.display import Markdown as md\n",
    "import pandas as pd\n",
    "import numpy as np\n",
    "from datetime import datetime\n",
    "from datetime import timedelta\n",
    "def day(n):\n",
    "    return datetime(2020, 2, 3) + timedelta(n)"
   ]
  },
  {
   "cell_type": "code",
   "execution_count": 3,
   "metadata": {
    "scrolled": true
   },
   "outputs": [
    {
     "data": {
      "text/markdown": [
       "# select 1000 epidemics with non-pharmaceutical containment measures, schools open in Sep, changing world, using checkpoints"
      ],
      "text/plain": [
       "<IPython.core.display.Markdown object>"
      ]
     },
     "execution_count": 3,
     "metadata": {},
     "output_type": "execute_result"
    }
   ],
   "source": [
    "rundf = pd.read_csv('results/'+\n",
    "    'SIsaR_0.9.5.4 experiments 2 seeds-tableChangeworld_1000_basic_control_schoolOnSept.csv',\n",
    "                    sep=',',skiprows=6)\n",
    "case=\"# select 1000 epidemics with non-pharmaceutical containment measures, \"+\\\n",
    "          \"schools open in Sep, changing world, using checkpoints\"\n",
    "md(case)"
   ]
  },
  {
   "cell_type": "code",
   "execution_count": 4,
   "metadata": {
    "scrolled": true
   },
   "outputs": [],
   "source": [
    "rundf[\"totalInfected\"]=rundf[\"cumulativeRedCount\"]+rundf[\"cumulativeVioletCount\"]\n",
    "rundf[\"totalInfected&Deceased\"]=rundf[\"totalInfected\"]+rundf[\"cumulativeDeadCount\"]\n",
    "\n",
    "rundf[\"cp1totalInfected\"]=rundf[\"cp1cRed\"]+rundf[\"cp1cViolet\"]\n",
    "rundf[\"cp1totalInfected&Deceased\"]=rundf[\"cp1totalInfected\"]+rundf[\"cp1cDead\"]\n",
    "\n",
    "rundf[\"cp2totalInfected\"]=rundf[\"cp1cRed\"]+rundf[\"cp2cViolet\"]\n",
    "rundf[\"cp2totalInfected&Deceased\"]=rundf[\"cp2totalInfected\"]+rundf[\"cp2cDead\"]\n",
    "\n",
    "rundf[\"cp3totalInfected\"]=rundf[\"cp1cRed\"]+rundf[\"cp3cViolet\"]\n",
    "rundf[\"cp3totalInfected&Deceased\"]=rundf[\"cp3totalInfected\"]+rundf[\"cp2cDead\"]\n",
    "\n",
    "rundf[\"cp4totalInfected\"]=rundf[\"cp1cRed\"]+rundf[\"cp4cViolet\"]\n",
    "rundf[\"cp4totalInfected&Deceased\"]=rundf[\"cp4totalInfected\"]+rundf[\"cp4cDead\"]\n",
    "\n",
    "rundf[\"cp5totalInfected\"]=rundf[\"cp1cRed\"]+rundf[\"cp5cViolet\"]\n",
    "rundf[\"cp5totalInfected&Deceased\"]=rundf[\"cp5totalInfected\"]+rundf[\"cp5cDead\"]\n",
    "\n",
    "rundf[\"cp6totalInfected\"]=rundf[\"cp1cRed\"]+rundf[\"cp6cViolet\"]\n",
    "rundf[\"cp6totalInfected&Deceased\"]=rundf[\"cp6totalInfected\"]+rundf[\"cp6cDead\"]"
   ]
  },
  {
   "cell_type": "code",
   "execution_count": 5,
   "metadata": {
    "scrolled": true
   },
   "outputs": [
    {
     "data": {
      "text/plain": [
       "Index(['[run number]', 'run#', '[step]', 'seed0', 'seed', 'seedD', 'cp1cRed',\n",
       "       'cp1cRedNH', 'cp1cViolet', 'cp1cVioletNH', 'cp1cDead', 'cp2cRed',\n",
       "       'cp2cRedNH', 'cp2cViolet', 'cp2cVioletNH', 'cp2cDead', 'cp3cRed',\n",
       "       'cp3cRedNH', 'cp3cViolet', 'cp3cVioletNH', 'cp3cDead', 'cp4cRed',\n",
       "       'cp4cRedNH', 'cp4cViolet', 'cp4cVioletNH', 'cp4cDead', 'cp5cRed',\n",
       "       'cp5cRedNH', 'cp5cViolet', 'cp5cVioletNH', 'cp5cDead', 'cp6cRed',\n",
       "       'cp6cRedNH', 'cp6cViolet', 'cp6cVioletNH', 'cp6cDead',\n",
       "       'cumulativeRedCount', 'cumulativeVioletCount', 'cumulativeDeadCount',\n",
       "       'ticks', 'TinfSch', 'SinfSch', 'TinfNotSch', 'SinfNotSch',\n",
       "       'totalInfected', 'totalInfected&Deceased', 'cp1totalInfected',\n",
       "       'cp1totalInfected&Deceased', 'cp2totalInfected',\n",
       "       'cp2totalInfected&Deceased', 'cp3totalInfected',\n",
       "       'cp3totalInfected&Deceased', 'cp4totalInfected',\n",
       "       'cp4totalInfected&Deceased', 'cp5totalInfected',\n",
       "       'cp5totalInfected&Deceased', 'cp6totalInfected',\n",
       "       'cp6totalInfected&Deceased'],\n",
       "      dtype='object')"
      ]
     },
     "execution_count": 5,
     "metadata": {},
     "output_type": "execute_result"
    }
   ],
   "source": [
    "rundf.columns"
   ]
  },
  {
   "cell_type": "code",
   "execution_count": 6,
   "metadata": {
    "scrolled": true
   },
   "outputs": [],
   "source": [
    "rundf.replace(-1, np.nan, inplace=True)"
   ]
  },
  {
   "cell_type": "code",
   "execution_count": 7,
   "metadata": {
    "scrolled": true
   },
   "outputs": [],
   "source": [
    "pd.set_option('display.float_format', lambda x: '%.2f' % x)"
   ]
  },
  {
   "cell_type": "code",
   "execution_count": 8,
   "metadata": {
    "scrolled": true
   },
   "outputs": [
    {
     "data": {
      "text/html": [
       "<div>\n",
       "<style scoped>\n",
       "    .dataframe tbody tr th:only-of-type {\n",
       "        vertical-align: middle;\n",
       "    }\n",
       "\n",
       "    .dataframe tbody tr th {\n",
       "        vertical-align: top;\n",
       "    }\n",
       "\n",
       "    .dataframe thead th {\n",
       "        text-align: right;\n",
       "    }\n",
       "</style>\n",
       "<table border=\"1\" class=\"dataframe\">\n",
       "  <thead>\n",
       "    <tr style=\"text-align: right;\">\n",
       "      <th></th>\n",
       "      <th>cp1cRedNH</th>\n",
       "      <th>cumulativeRedCount</th>\n",
       "      <th>totalInfected&amp;Deceased</th>\n",
       "      <th>ticks</th>\n",
       "    </tr>\n",
       "  </thead>\n",
       "  <tbody>\n",
       "    <tr>\n",
       "      <th>count</th>\n",
       "      <td>973.00</td>\n",
       "      <td>1000.00</td>\n",
       "      <td>1000.00</td>\n",
       "      <td>1000.00</td>\n",
       "    </tr>\n",
       "    <tr>\n",
       "      <th>mean</th>\n",
       "      <td>1.82</td>\n",
       "      <td>348.58</td>\n",
       "      <td>861.64</td>\n",
       "      <td>279.50</td>\n",
       "    </tr>\n",
       "    <tr>\n",
       "      <th>std</th>\n",
       "      <td>4.49</td>\n",
       "      <td>367.47</td>\n",
       "      <td>913.46</td>\n",
       "      <td>210.08</td>\n",
       "    </tr>\n",
       "    <tr>\n",
       "      <th>min</th>\n",
       "      <td>0.00</td>\n",
       "      <td>0.00</td>\n",
       "      <td>2.00</td>\n",
       "      <td>12.00</td>\n",
       "    </tr>\n",
       "    <tr>\n",
       "      <th>25%</th>\n",
       "      <td>0.00</td>\n",
       "      <td>10.00</td>\n",
       "      <td>22.00</td>\n",
       "      <td>94.00</td>\n",
       "    </tr>\n",
       "    <tr>\n",
       "      <th>50%</th>\n",
       "      <td>0.00</td>\n",
       "      <td>126.00</td>\n",
       "      <td>309.50</td>\n",
       "      <td>159.00</td>\n",
       "    </tr>\n",
       "    <tr>\n",
       "      <th>75%</th>\n",
       "      <td>1.00</td>\n",
       "      <td>733.00</td>\n",
       "      <td>1825.00</td>\n",
       "      <td>475.00</td>\n",
       "    </tr>\n",
       "    <tr>\n",
       "      <th>max</th>\n",
       "      <td>34.00</td>\n",
       "      <td>1141.00</td>\n",
       "      <td>2807.00</td>\n",
       "      <td>935.00</td>\n",
       "    </tr>\n",
       "  </tbody>\n",
       "</table>\n",
       "</div>"
      ],
      "text/plain": [
       "       cp1cRedNH  cumulativeRedCount  totalInfected&Deceased   ticks\n",
       "count     973.00             1000.00                 1000.00 1000.00\n",
       "mean        1.82              348.58                  861.64  279.50\n",
       "std         4.49              367.47                  913.46  210.08\n",
       "min         0.00                0.00                    2.00   12.00\n",
       "25%         0.00               10.00                   22.00   94.00\n",
       "50%         0.00              126.00                  309.50  159.00\n",
       "75%         1.00              733.00                 1825.00  475.00\n",
       "max        34.00             1141.00                 2807.00  935.00"
      ]
     },
     "execution_count": 8,
     "metadata": {},
     "output_type": "execute_result"
    }
   ],
   "source": [
    "rundf[['cp1cRedNH','cumulativeRedCount','totalInfected&Deceased','ticks']].describe()"
   ]
  },
  {
   "cell_type": "code",
   "execution_count": 9,
   "metadata": {
    "scrolled": true
   },
   "outputs": [],
   "source": [
    "tmp=rundf[['cp1cRedNH','cumulativeRedCount','totalInfected&Deceased','ticks']].describe()"
   ]
  },
  {
   "cell_type": "code",
   "execution_count": 10,
   "metadata": {
    "scrolled": true
   },
   "outputs": [
    {
     "name": "stdout",
     "output_type": "stream",
     "text": [
      "\\begin{tabular}{lrrrr}\n",
      "\\toprule\n",
      "{} &  cp1cRedNH &  cumulativeRedCount &  totalInfected\\&Deceased &   ticks \\\\\n",
      "\\midrule\n",
      "count &     973.00 &             1000.00 &                 1000.00 & 1000.00 \\\\\n",
      "mean  &       1.82 &              348.58 &                  861.64 &  279.50 \\\\\n",
      "std   &       4.49 &              367.47 &                  913.46 &  210.08 \\\\\n",
      "min   &       0.00 &                0.00 &                    2.00 &   12.00 \\\\\n",
      "25\\%   &       0.00 &               10.00 &                   22.00 &   94.00 \\\\\n",
      "50\\%   &       0.00 &              126.00 &                  309.50 &  159.00 \\\\\n",
      "75\\%   &       1.00 &              733.00 &                 1825.00 &  475.00 \\\\\n",
      "max   &      34.00 &             1141.00 &                 2807.00 &  935.00 \\\\\n",
      "\\bottomrule\n",
      "\\end{tabular}\n",
      "\n"
     ]
    }
   ],
   "source": [
    "print (tmp.to_latex())"
   ]
  },
  {
   "cell_type": "markdown",
   "metadata": {},
   "source": [
    "The output is included within:  \n",
    "\\begin{table}[htbp] or [H]\n",
    "\n",
    "... output above ...\n",
    "\n",
    "\\label{a label}  \n",
    "\\caption{a caption}  \n",
    "\\end{table}\n"
   ]
  },
  {
   "cell_type": "markdown",
   "metadata": {},
   "source": [
    "# Select at cp2"
   ]
  },
  {
   "cell_type": "code",
   "execution_count": 11,
   "metadata": {},
   "outputs": [
    {
     "data": {
      "text/plain": [
       "627.0"
      ]
     },
     "execution_count": 11,
     "metadata": {},
     "output_type": "execute_result"
    }
   ],
   "source": [
    "# existing epidemic a cp2 with .notnull() NB, the opposit1 is .isnull()\n",
    "rundf[rundf.cp2cRed.notnull()]['ticks'].describe().loc['count']"
   ]
  },
  {
   "cell_type": "code",
   "execution_count": 12,
   "metadata": {},
   "outputs": [
    {
     "data": {
      "text/html": [
       "<div>\n",
       "<style scoped>\n",
       "    .dataframe tbody tr th:only-of-type {\n",
       "        vertical-align: middle;\n",
       "    }\n",
       "\n",
       "    .dataframe tbody tr th {\n",
       "        vertical-align: top;\n",
       "    }\n",
       "\n",
       "    .dataframe thead th {\n",
       "        text-align: right;\n",
       "    }\n",
       "</style>\n",
       "<table border=\"1\" class=\"dataframe\">\n",
       "  <thead>\n",
       "    <tr style=\"text-align: right;\">\n",
       "      <th></th>\n",
       "      <th>cumulativeRedCount</th>\n",
       "      <th>totalInfected&amp;Deceased</th>\n",
       "      <th>ticks</th>\n",
       "    </tr>\n",
       "  </thead>\n",
       "  <tbody>\n",
       "    <tr>\n",
       "      <th>count</th>\n",
       "      <td>578.00</td>\n",
       "      <td>578.00</td>\n",
       "      <td>578.00</td>\n",
       "    </tr>\n",
       "    <tr>\n",
       "      <th>mean</th>\n",
       "      <td>565.26</td>\n",
       "      <td>1401.33</td>\n",
       "      <td>408.13</td>\n",
       "    </tr>\n",
       "  </tbody>\n",
       "</table>\n",
       "</div>"
      ],
      "text/plain": [
       "       cumulativeRedCount  totalInfected&Deceased  ticks\n",
       "count              578.00                  578.00 578.00\n",
       "mean               565.26                 1401.33 408.13"
      ]
     },
     "execution_count": 12,
     "metadata": {},
     "output_type": "execute_result"
    }
   ],
   "source": [
    "rundf['cp2GT15']=rundf.cp2cRed > 15\n",
    "rundf[rundf.cp2GT15][['cumulativeRedCount','totalInfected&Deceased','ticks']]\\\n",
    ".describe().loc[['count','mean']]"
   ]
  },
  {
   "cell_type": "code",
   "execution_count": 13,
   "metadata": {},
   "outputs": [
    {
     "data": {
      "text/html": [
       "<div>\n",
       "<style scoped>\n",
       "    .dataframe tbody tr th:only-of-type {\n",
       "        vertical-align: middle;\n",
       "    }\n",
       "\n",
       "    .dataframe tbody tr th {\n",
       "        vertical-align: top;\n",
       "    }\n",
       "\n",
       "    .dataframe thead th {\n",
       "        text-align: right;\n",
       "    }\n",
       "</style>\n",
       "<table border=\"1\" class=\"dataframe\">\n",
       "  <thead>\n",
       "    <tr style=\"text-align: right;\">\n",
       "      <th></th>\n",
       "      <th>cumulativeRedCount</th>\n",
       "      <th>totalInfected&amp;Deceased</th>\n",
       "      <th>ticks</th>\n",
       "    </tr>\n",
       "  </thead>\n",
       "  <tbody>\n",
       "    <tr>\n",
       "      <th>count</th>\n",
       "      <td>49.00</td>\n",
       "      <td>49.00</td>\n",
       "      <td>49.00</td>\n",
       "    </tr>\n",
       "    <tr>\n",
       "      <th>mean</th>\n",
       "      <td>346.96</td>\n",
       "      <td>854.57</td>\n",
       "      <td>293.02</td>\n",
       "    </tr>\n",
       "  </tbody>\n",
       "</table>\n",
       "</div>"
      ],
      "text/plain": [
       "       cumulativeRedCount  totalInfected&Deceased  ticks\n",
       "count               49.00                   49.00  49.00\n",
       "mean               346.96                  854.57 293.02"
      ]
     },
     "execution_count": 13,
     "metadata": {},
     "output_type": "execute_result"
    }
   ],
   "source": [
    "rundf['cp2LE15']=rundf.cp2cRed <= 15\n",
    "rundf[rundf.cp2LE15][['cumulativeRedCount','totalInfected&Deceased','ticks']]\\\n",
    ".describe().loc[['count','mean']]"
   ]
  },
  {
   "cell_type": "code",
   "execution_count": 14,
   "metadata": {},
   "outputs": [
    {
     "data": {
      "text/html": [
       "<div>\n",
       "<style scoped>\n",
       "    .dataframe tbody tr th:only-of-type {\n",
       "        vertical-align: middle;\n",
       "    }\n",
       "\n",
       "    .dataframe tbody tr th {\n",
       "        vertical-align: top;\n",
       "    }\n",
       "\n",
       "    .dataframe thead th {\n",
       "        text-align: right;\n",
       "    }\n",
       "</style>\n",
       "<table border=\"1\" class=\"dataframe\">\n",
       "  <thead>\n",
       "    <tr style=\"text-align: right;\">\n",
       "      <th></th>\n",
       "      <th>cumulativeRedCount</th>\n",
       "      <th>totalInfected&amp;Deceased</th>\n",
       "      <th>ticks</th>\n",
       "    </tr>\n",
       "  </thead>\n",
       "  <tbody>\n",
       "    <tr>\n",
       "      <th>count</th>\n",
       "      <td>417.00</td>\n",
       "      <td>417.00</td>\n",
       "      <td>417.00</td>\n",
       "    </tr>\n",
       "    <tr>\n",
       "      <th>mean</th>\n",
       "      <td>598.39</td>\n",
       "      <td>1482.59</td>\n",
       "      <td>426.84</td>\n",
       "    </tr>\n",
       "  </tbody>\n",
       "</table>\n",
       "</div>"
      ],
      "text/plain": [
       "       cumulativeRedCount  totalInfected&Deceased  ticks\n",
       "count              417.00                  417.00 417.00\n",
       "mean               598.39                 1482.59 426.84"
      ]
     },
     "execution_count": 14,
     "metadata": {},
     "output_type": "execute_result"
    }
   ],
   "source": [
    "rundf['cp2GT60']=rundf.cp2cRed >  60\n",
    "rundf[rundf.cp2GT60][['cumulativeRedCount','totalInfected&Deceased','ticks']]\\\n",
    ".describe().loc[['count','mean']]"
   ]
  },
  {
   "cell_type": "code",
   "execution_count": 15,
   "metadata": {},
   "outputs": [
    {
     "data": {
      "text/html": [
       "<div>\n",
       "<style scoped>\n",
       "    .dataframe tbody tr th:only-of-type {\n",
       "        vertical-align: middle;\n",
       "    }\n",
       "\n",
       "    .dataframe tbody tr th {\n",
       "        vertical-align: top;\n",
       "    }\n",
       "\n",
       "    .dataframe thead th {\n",
       "        text-align: right;\n",
       "    }\n",
       "</style>\n",
       "<table border=\"1\" class=\"dataframe\">\n",
       "  <thead>\n",
       "    <tr style=\"text-align: right;\">\n",
       "      <th></th>\n",
       "      <th>cumulativeRedCount</th>\n",
       "      <th>totalInfected&amp;Deceased</th>\n",
       "      <th>ticks</th>\n",
       "    </tr>\n",
       "  </thead>\n",
       "  <tbody>\n",
       "    <tr>\n",
       "      <th>count</th>\n",
       "      <td>210.00</td>\n",
       "      <td>210.00</td>\n",
       "      <td>210.00</td>\n",
       "    </tr>\n",
       "    <tr>\n",
       "      <th>mean</th>\n",
       "      <td>448.53</td>\n",
       "      <td>1112.40</td>\n",
       "      <td>344.12</td>\n",
       "    </tr>\n",
       "  </tbody>\n",
       "</table>\n",
       "</div>"
      ],
      "text/plain": [
       "       cumulativeRedCount  totalInfected&Deceased  ticks\n",
       "count              210.00                  210.00 210.00\n",
       "mean               448.53                 1112.40 344.12"
      ]
     },
     "execution_count": 15,
     "metadata": {},
     "output_type": "execute_result"
    }
   ],
   "source": [
    "rundf['cp2LE60']=rundf.cp2cRed <= 60\n",
    "rundf[rundf.cp2LE60][['cumulativeRedCount','totalInfected&Deceased','ticks']]\\\n",
    ".describe().loc[['count','mean']]"
   ]
  },
  {
   "cell_type": "code",
   "execution_count": 16,
   "metadata": {},
   "outputs": [
    {
     "data": {
      "text/html": [
       "<div>\n",
       "<style scoped>\n",
       "    .dataframe tbody tr th:only-of-type {\n",
       "        vertical-align: middle;\n",
       "    }\n",
       "\n",
       "    .dataframe tbody tr th {\n",
       "        vertical-align: top;\n",
       "    }\n",
       "\n",
       "    .dataframe thead th {\n",
       "        text-align: right;\n",
       "    }\n",
       "</style>\n",
       "<table border=\"1\" class=\"dataframe\">\n",
       "  <thead>\n",
       "    <tr style=\"text-align: right;\">\n",
       "      <th></th>\n",
       "      <th>cumulativeRedCount</th>\n",
       "      <th>totalInfected&amp;Deceased</th>\n",
       "      <th>ticks</th>\n",
       "    </tr>\n",
       "  </thead>\n",
       "  <tbody>\n",
       "    <tr>\n",
       "      <th>count</th>\n",
       "      <td>161.00</td>\n",
       "      <td>161.00</td>\n",
       "      <td>161.00</td>\n",
       "    </tr>\n",
       "    <tr>\n",
       "      <th>mean</th>\n",
       "      <td>479.44</td>\n",
       "      <td>1190.86</td>\n",
       "      <td>359.68</td>\n",
       "    </tr>\n",
       "  </tbody>\n",
       "</table>\n",
       "</div>"
      ],
      "text/plain": [
       "       cumulativeRedCount  totalInfected&Deceased  ticks\n",
       "count              161.00                  161.00 161.00\n",
       "mean               479.44                 1190.86 359.68"
      ]
     },
     "execution_count": 16,
     "metadata": {},
     "output_type": "execute_result"
    }
   ],
   "source": [
    "rundf['realistic_cp2']=rundf['cp2GT15'] & rundf['cp2LE60']\n",
    "rundf[rundf.realistic_cp2][['cumulativeRedCount','totalInfected&Deceased','ticks']]\\\n",
    ".describe().loc[['count','mean']]"
   ]
  },
  {
   "cell_type": "raw",
   "metadata": {},
   "source": [
    "rundfS=rundf.copy()\n",
    "rundfS[\"cond1\"]=rundfS.cp3cRed < rundfS.cp2cRed * 1.4\n",
    "rundfS[rundfS.cond1][['cumulativeRedCount','totalInfected&Deceased','ticks']].describe()"
   ]
  },
  {
   "cell_type": "raw",
   "metadata": {},
   "source": [
    "rundfS[\"cond2\"]=rundfS.cp4cRed > rundfS.cp3cRed * 1.5\n",
    "rundfS[rundfS.cond2][['cumulativeRedCount','totalInfected&Deceased','ticks']].describe()"
   ]
  },
  {
   "cell_type": "raw",
   "metadata": {},
   "source": [
    "rundfS[\"cond12\"]=rundfS[\"cond1\"]&rundfS[\"cond2\"]\n",
    "rundfS[rundfS.cond12][['cumulativeRedCount','totalInfected&Deceased','ticks']].describe()"
   ]
  },
  {
   "cell_type": "raw",
   "metadata": {},
   "source": [
    "rundf=rundfS[rundfS.cond12].copy()"
   ]
  },
  {
   "cell_type": "raw",
   "metadata": {},
   "source": [
    "rundf[['cp2cRed','cp3cRed','cp4cRed']]"
   ]
  },
  {
   "cell_type": "raw",
   "metadata": {},
   "source": [
    "## 1 simulation time"
   ]
  },
  {
   "cell_type": "raw",
   "metadata": {
    "scrolled": true
   },
   "source": [
    "rundf.hist(column=\"ticks\",bins=1000,figsize=(15,8))"
   ]
  },
  {
   "cell_type": "raw",
   "metadata": {},
   "source": [
    "## 2 symptomatic agent cumulative count"
   ]
  },
  {
   "cell_type": "raw",
   "metadata": {
    "scrolled": true
   },
   "source": [
    "rundf.hist(column=\"cumulativeRedCount\",bins=1000,figsize=(15,8))"
   ]
  },
  {
   "cell_type": "raw",
   "metadata": {},
   "source": [
    "## 3 symptomatic agent cumulative count vs. time "
   ]
  },
  {
   "cell_type": "raw",
   "metadata": {
    "scrolled": true
   },
   "source": [
    "rundf.plot(x=\"ticks\",y=\"cumulativeRedCount\",s=3,kind='scatter',figsize=(15,8), \n",
    "           title=\"symptomatic agent cumulative count vs. time\",\n",
    "           ylim=(0,3600),xlim=(0,700))"
   ]
  },
  {
   "cell_type": "raw",
   "metadata": {},
   "source": [
    "## 4 symptomatic + asymptomatic agent cumulative count"
   ]
  },
  {
   "cell_type": "raw",
   "metadata": {
    "scrolled": true
   },
   "source": [
    "rundf.hist(column=\"totalInfected\",bins=1000,figsize=(15,8))"
   ]
  },
  {
   "cell_type": "raw",
   "metadata": {},
   "source": [
    "## 5 total number of deceased"
   ]
  },
  {
   "cell_type": "raw",
   "metadata": {
    "scrolled": true
   },
   "source": [
    "rundf.hist(column=\"cumulativeDeadCount\",bins=1000,figsize=(15,8))"
   ]
  },
  {
   "cell_type": "raw",
   "metadata": {},
   "source": [
    "## 6 symptomatic + asymptomatic + deceased agent cumulative count"
   ]
  },
  {
   "cell_type": "raw",
   "metadata": {
    "scrolled": true
   },
   "source": [
    "rundf.hist(column=\"totalInfected&Deceased\",bins=1000,figsize=(15,8))"
   ]
  },
  {
   "cell_type": "raw",
   "metadata": {},
   "source": [
    "## 7 symptomatic + asymptomatic + deceased agent cumulative count vs. time"
   ]
  },
  {
   "cell_type": "raw",
   "metadata": {
    "scrolled": true
   },
   "source": [
    "rundf.plot(x=\"ticks\",y=\"totalInfected&Deceased\",s=3,kind='scatter',figsize=(15,8), \n",
    "           title=\"simptomatic+asymptomatic+deceased vs. time\",ylim=(0,3600),xlim=(0,700))"
   ]
  },
  {
   "cell_type": "code",
   "execution_count": 17,
   "metadata": {
    "scrolled": true
   },
   "outputs": [
    {
     "data": {
      "text/markdown": [
       "# ------------------------------------------------------------\n",
       "# timeFunction displaying heat-maps and interval data\n",
       "### with the possibility of choosing the duration column (after a merge), if any\n",
       "# checkpoint function displaying the data\n",
       "### of the epdicemics subsisting at a given checkpoint\n",
       "# intervalCheckpoint function displaying the data\n",
       "### of the epdicemics subsisting in an interval and at a given checkpoint\n",
       "# ------------------------------------------------------------"
      ],
      "text/plain": [
       "<IPython.core.display.Markdown object>"
      ]
     },
     "execution_count": 17,
     "metadata": {},
     "output_type": "execute_result"
    }
   ],
   "source": [
    "md(\"# ------------------------------------------------------------\\n\"+\\\n",
    "    \"# timeFunction displaying heat-maps and interval data\\n\"+\\\n",
    "    \"### with the possibility of choosing the duration column (after a merge), if any\\n\"+\\\n",
    "    \"# checkpoint function displaying the data\\n\"+\\\n",
    "    \"### of the epdicemics subsisting at a given checkpoint\\n\"+\\\n",
    "    \"# intervalCheckpoint function displaying the data\\n\"+\\\n",
    "    \"### of the epdicemics subsisting in an interval and at a given checkpoint\\n\"+\\\n",
    "    \"# ------------------------------------------------------------\")"
   ]
  },
  {
   "cell_type": "code",
   "execution_count": 18,
   "metadata": {
    "scrolled": true
   },
   "outputs": [],
   "source": [
    "import matplotlib.pyplot as plt\n",
    "import matplotlib.colors as colors\n",
    "from matplotlib.colors import LogNorm\n",
    "import seaborn as sns; sns.set()\n",
    "\n",
    "def timeFunction(day0,day1,durationCol,title):\n",
    "    \n",
    "    rundfHere=rundf.copy()\n",
    "    rundfHere=rundfHere[rundfHere[durationCol]>=day0]\n",
    "    rundfHere=rundfHere[rundfHere[durationCol]<=day1]\n",
    "    \n",
    "    display(md (\"## Epidemics with duration between {} days ({}) and {} days ({})\"\\\n",
    "                   .format(day0,day(day0).strftime(\"%Y-%m-%d\"),\\\n",
    "                           day1,day(day1).strftime(\"%Y-%m-%d\"))) )\n",
    "    \n",
    "    \n",
    "    rundfHere.rename(columns={'cumulativeRedCount': 'symptomatic',\n",
    "                              'ticks':\"duration\"},inplace=True)\n",
    "    \n",
    "    tmp=rundfHere[['symptomatic','totalInfected&Deceased','duration']].describe();\n",
    "    display(tmp)\n",
    "    display(print(tmp.to_latex()))\n",
    "    \n",
    "    if rundfHere.shape[0] == 0: return\n",
    "    \n",
    "    for nBins in [10,20,30,60]:\n",
    "        display(md (\"## Epidemics with duration between {} days ({}) and {} days ({}), with {} bins\"\\\n",
    "                   .format(day0,day(day0).strftime(\"%Y-%m-%d\"),\\\n",
    "                           day1,day(day1).strftime(\"%Y-%m-%d\"),nBins)) )\n",
    "            \n",
    "        rundfHere['totalInfected&Deceased'].plot.hist(bins=nBins, color=\"r\",\n",
    "                                            title=title+\"\\ntotalInfected&Deceased\");\n",
    "        plt.show()\n",
    "        rundfHere['duration'].plot.hist(bins=nBins, color=\"g\",\n",
    "                                            title=title+\"\\ntotalInfected&Deceased\");\n",
    "        plt.show()\n",
    "\n",
    "        # preparing data for the heat-map\n",
    "        hist = plt.hist2d(x=rundfHere['duration'], y=rundfHere['totalInfected&Deceased'], \n",
    "                          bins=nBins, range=[[0, 700], [0, 3600]])\n",
    "        plt.close() #to avoid the output of hist2d\n",
    "        \n",
    "        zMax=np.amax(hist[0]) # max level z axis\n",
    "        display(md (\"With {} bins, the max value on z axis is {}, first row is {}\"\\\n",
    "                    .format(nBins,zMax,np.transpose(hist[0])[0])))\n",
    "        \n",
    "        if nBins == 60: plt.figure(figsize=(20,10))\n",
    "        else:           plt.figure(figsize=(8.5,4.25))\n",
    "        \n",
    "        lognorm = LogNorm(vmin=1.0, vmax=np.amax(hist[0]))\n",
    "        ax = sns.heatmap(\n",
    "            np.flip(np.transpose(hist[0]),0), \n",
    "            #robust=True, \n",
    "            norm=lognorm,\n",
    "            cmap='YlGnBu',\n",
    "            annot=True, fmt='.0f', \n",
    "            xticklabels=np.round(hist[1][1:],0).astype(int),\n",
    "            yticklabels=np.flip(hist[2][1:],0).astype(int),\n",
    "            annot_kws={\"size\":8}\n",
    "            )\n",
    "\n",
    "        plt.xlabel(\"Days\")\n",
    "        plt.ylabel(\"Total symptomatic + asymptomatic + deceased\")\n",
    "\n",
    "        plt.title(title)\n",
    "\n",
    "        plt.show()\n"
   ]
  },
  {
   "cell_type": "code",
   "execution_count": 19,
   "metadata": {},
   "outputs": [],
   "source": [
    "def timeQuantityFunction(q,day0,day1,durationCol,title):\n",
    "\n",
    "    rundfHere=rundf.copy()\n",
    "    rundfHere=rundfHere[rundfHere[durationCol]>=day0]\n",
    "    rundfHere=rundfHere[rundfHere[durationCol]<=day1]\n",
    "    rundfHere=rundfHere[rundfHere['totalInfected&Deceased']>=q]\n",
    "    \n",
    "    display(md (\"## Epidemics with duration between {} days ({}) and {} days ({}), q >= {}\"\\\n",
    "                   .format(day0,day(day0).strftime(\"%Y-%m-%d\"),\\\n",
    "                           day1,day(day1).strftime(\"%Y-%m-%d\"),q)) )\n",
    "    \n",
    "    \n",
    "    rundfHere.rename(columns={'cumulativeRedCount': 'symptomatic',\n",
    "                              'ticks':\"duration\"},inplace=True)\n",
    "    \n",
    "    tmp=rundfHere[['symptomatic','totalInfected&Deceased','duration']].describe();\n",
    "    display(tmp)\n",
    "    display(print(tmp.to_latex()))\n",
    "    \n",
    "    if rundfHere.shape[0] == 0: return\n",
    "    \n",
    "    for nBins in [10,20,30,60]:\n",
    "        display(md (\"## Epidemics with duration between {} days ({}) and {} days ({}), with {} bins, q >= {}\"\\\n",
    "                   .format(day0,day(day0).strftime(\"%Y-%m-%d\"),\\\n",
    "                           day1,day(day1).strftime(\"%Y-%m-%d\"),nBins,q)) )\n",
    "            \n",
    "        rundfHere['totalInfected&Deceased'].plot.hist(bins=nBins, color=\"r\",\n",
    "                                            title=title+\"\\ntotalInfected&Deceased\");\n",
    "        plt.show()\n",
    "        rundfHere['duration'].plot.hist(bins=nBins, color=\"g\",\n",
    "                                            title=title+\"\\ntotalInfected&Deceased\");\n",
    "        plt.show()\n",
    "\n",
    "        # preparing data for the heat-map\n",
    "        hist = plt.hist2d(x=rundfHere['duration'], y=rundfHere['totalInfected&Deceased'], \n",
    "                          bins=nBins, range=[[0, 700], [0, 3600]])\n",
    "        plt.close() #to avoid the output of hist2d\n",
    "        \n",
    "        zMax=np.amax(hist[0]) # max level z axis\n",
    "        display(md (\"With {} bins, the max value on z axis is {}, first row is {}\"\\\n",
    "                    .format(nBins,zMax,np.transpose(hist[0])[0])))\n",
    "        \n",
    "        if nBins == 60: plt.figure(figsize=(20,10))\n",
    "        else:           plt.figure(figsize=(8.5,4.25))\n",
    "        \n",
    "        lognorm = LogNorm(vmin=1.0, vmax=np.amax(hist[0]))\n",
    "        ax = sns.heatmap(\n",
    "            np.flip(np.transpose(hist[0]),0), \n",
    "            #robust=True, \n",
    "            norm=lognorm,\n",
    "            cmap='YlGnBu',\n",
    "            annot=True, fmt='.0f', \n",
    "            xticklabels=np.round(hist[1][1:],0).astype(int),\n",
    "            yticklabels=np.flip(hist[2][1:],0).astype(int),\n",
    "            annot_kws={\"size\":8}\n",
    "            )\n",
    "\n",
    "        plt.xlabel(\"Days\")\n",
    "        plt.ylabel(\"Total symptomatic + asymptomatic + deceased\")\n",
    "\n",
    "        plt.title(title)\n",
    "\n",
    "        plt.show()\n"
   ]
  },
  {
   "cell_type": "code",
   "execution_count": 20,
   "metadata": {},
   "outputs": [],
   "source": [
    "#checkpoint names\n",
    "start = 0\n",
    "end=1000\n",
    "cp1=[1, 30,\"cp1cRed\",\"cp1totalInfected&Deceased\"]\n",
    "cp2=[2,119,\"cp2cRed\",\"cp2totalInfected&Deceased\"]\n",
    "cp3=[3,230,\"cp3cRed\",\"cp3totalInfected&Deceased\"]\n",
    "cp4=[4,316,\"cp4cRed\",\"cp4totalInfected&Deceased\"]\n",
    "cp5=[5,364,\"cp5cRed\",\"cp5totalInfected&Deceased\"]\n",
    "cp6=[6,453,\"cp6cRed\",\"cp6totalInfected&Deceased\"]"
   ]
  },
  {
   "cell_type": "code",
   "execution_count": 21,
   "metadata": {},
   "outputs": [],
   "source": [
    "def checkPoint(cpN,durationCol,title):\n",
    "    \n",
    "    # epidemics subsisting a cpN[1] day\n",
    "    display(md(\"## \"+title))\n",
    "    display(md(\"## Checkpoint {}, data of the epidemics continuing at day {}\"\\\n",
    "               .format(cpN[0],cpN[1])))\n",
    "    \n",
    "    rundfHere2=rundf.copy()\n",
    "    #display(rundfHere.columns)\n",
    "    rundfHere2=rundfHere2[rundfHere2[durationCol]>=cpN[1]]\n",
    "\n",
    "    rundfHere2.rename(columns={cpN[2]: 'symptomatic-cp'+str(cpN[0]),\n",
    "                               cpN[3]: 'totalInfected&Deceased-cp'+str(cpN[0]),\n",
    "                               \"ticks\": \"duration\"},inplace=True)\n",
    "    \n",
    "    tmp=rundfHere2[['symptomatic-cp'+str(cpN[0]),'totalInfected&Deceased-cp'+str(cpN[0]),\\\n",
    "                    'duration']].describe();\n",
    "    display(tmp)\n",
    "    display(print(tmp.to_latex()))"
   ]
  },
  {
   "cell_type": "code",
   "execution_count": 22,
   "metadata": {},
   "outputs": [],
   "source": [
    "def checkPointInterval(day0,day1,cpN,durationCol,title):\n",
    "\n",
    "    display(md(\"## \"+title))\n",
    "\n",
    "    display(md (\"## Epidemics with duration between {} days ({}) and {} days ({})\\n## +\"\\\n",
    "                   .format(day0,day(day0).strftime(\"%Y-%m-%d\"),\\\n",
    "                           day1,day(day1).strftime(\"%Y-%m-%d\"))) )\n",
    "    display(md (\"## Checkpoint {}, data of the epidemics continuing at day {}\"\\\n",
    "                   .format(cpN[0],cpN[1])) )\n",
    "\n",
    "    rundfHere1=rundf.copy()\n",
    "    rundfHere1=rundfHere1[rundfHere1[durationCol]>=day0]\n",
    "    rundfHere1=rundfHere1[rundfHere1[durationCol]<=day1]\n",
    "\n",
    "    rundfHere1.rename(columns={'cumulativeRedCount': 'symptomatic'},inplace=True)\n",
    "    \n",
    "    #display(rundfHere1[['symptomatic','totalInfected&Deceased']].describe())\n",
    "    \n",
    "    rundfHere2=rundf.copy()\n",
    "    rundfHere2=rundfHere2.drop(['totalInfected&Deceased'], axis=1)\n",
    "    rundfHere2=rundfHere2[rundfHere2[durationCol]>=cpN[1]]\n",
    "    rundfHere2.rename(columns={cpN[2]: 'symptomatic',\n",
    "                               cpN[3]: 'totalInfected&Deceased'},inplace=True)\n",
    "    #display(rundfHere2[['symptomatic','totalInfected&Deceased']].describe())\n",
    "    \n",
    "    rundfHere12=pd.DataFrame()\n",
    "    rundfHere12[['symptomatic','totalInfected&Deceased']]=\\\n",
    "          rundfHere1[['symptomatic','totalInfected&Deceased']]\\\n",
    "          .append(rundfHere2[['symptomatic','totalInfected&Deceased']])\n",
    "    display(rundfHere12[['symptomatic','totalInfected&Deceased']].describe())\n"
   ]
  },
  {
   "cell_type": "code",
   "execution_count": 23,
   "metadata": {},
   "outputs": [
    {
     "data": {
      "text/markdown": [
       "## 1000 epidemics with non-pharmaceutical containment measures, schools open in Sep"
      ],
      "text/plain": [
       "<IPython.core.display.Markdown object>"
      ]
     },
     "metadata": {},
     "output_type": "display_data"
    },
    {
     "data": {
      "text/markdown": [
       "## Checkpoint 1, data of the epidemics continuing at day 30"
      ],
      "text/plain": [
       "<IPython.core.display.Markdown object>"
      ]
     },
     "metadata": {},
     "output_type": "display_data"
    },
    {
     "data": {
      "text/html": [
       "<div>\n",
       "<style scoped>\n",
       "    .dataframe tbody tr th:only-of-type {\n",
       "        vertical-align: middle;\n",
       "    }\n",
       "\n",
       "    .dataframe tbody tr th {\n",
       "        vertical-align: top;\n",
       "    }\n",
       "\n",
       "    .dataframe thead th {\n",
       "        text-align: right;\n",
       "    }\n",
       "</style>\n",
       "<table border=\"1\" class=\"dataframe\">\n",
       "  <thead>\n",
       "    <tr style=\"text-align: right;\">\n",
       "      <th></th>\n",
       "      <th>symptomatic-cp1</th>\n",
       "      <th>totalInfected&amp;Deceased-cp1</th>\n",
       "      <th>duration</th>\n",
       "    </tr>\n",
       "  </thead>\n",
       "  <tbody>\n",
       "    <tr>\n",
       "      <th>count</th>\n",
       "      <td>973.00</td>\n",
       "      <td>973.00</td>\n",
       "      <td>973.00</td>\n",
       "    </tr>\n",
       "    <tr>\n",
       "      <th>mean</th>\n",
       "      <td>10.63</td>\n",
       "      <td>31.04</td>\n",
       "      <td>286.64</td>\n",
       "    </tr>\n",
       "    <tr>\n",
       "      <th>std</th>\n",
       "      <td>11.92</td>\n",
       "      <td>41.19</td>\n",
       "      <td>208.49</td>\n",
       "    </tr>\n",
       "    <tr>\n",
       "      <th>min</th>\n",
       "      <td>0.00</td>\n",
       "      <td>3.00</td>\n",
       "      <td>31.00</td>\n",
       "    </tr>\n",
       "    <tr>\n",
       "      <th>25%</th>\n",
       "      <td>3.00</td>\n",
       "      <td>6.00</td>\n",
       "      <td>98.00</td>\n",
       "    </tr>\n",
       "    <tr>\n",
       "      <th>50%</th>\n",
       "      <td>5.00</td>\n",
       "      <td>11.00</td>\n",
       "      <td>172.00</td>\n",
       "    </tr>\n",
       "    <tr>\n",
       "      <th>75%</th>\n",
       "      <td>16.00</td>\n",
       "      <td>35.00</td>\n",
       "      <td>478.00</td>\n",
       "    </tr>\n",
       "    <tr>\n",
       "      <th>max</th>\n",
       "      <td>70.00</td>\n",
       "      <td>221.00</td>\n",
       "      <td>935.00</td>\n",
       "    </tr>\n",
       "  </tbody>\n",
       "</table>\n",
       "</div>"
      ],
      "text/plain": [
       "       symptomatic-cp1  totalInfected&Deceased-cp1  duration\n",
       "count           973.00                      973.00    973.00\n",
       "mean             10.63                       31.04    286.64\n",
       "std              11.92                       41.19    208.49\n",
       "min               0.00                        3.00     31.00\n",
       "25%               3.00                        6.00     98.00\n",
       "50%               5.00                       11.00    172.00\n",
       "75%              16.00                       35.00    478.00\n",
       "max              70.00                      221.00    935.00"
      ]
     },
     "metadata": {},
     "output_type": "display_data"
    },
    {
     "name": "stdout",
     "output_type": "stream",
     "text": [
      "\\begin{tabular}{lrrr}\n",
      "\\toprule\n",
      "{} &  symptomatic-cp1 &  totalInfected\\&Deceased-cp1 &  duration \\\\\n",
      "\\midrule\n",
      "count &           973.00 &                      973.00 &    973.00 \\\\\n",
      "mean  &            10.63 &                       31.04 &    286.64 \\\\\n",
      "std   &            11.92 &                       41.19 &    208.49 \\\\\n",
      "min   &             0.00 &                        3.00 &     31.00 \\\\\n",
      "25\\%   &             3.00 &                        6.00 &     98.00 \\\\\n",
      "50\\%   &             5.00 &                       11.00 &    172.00 \\\\\n",
      "75\\%   &            16.00 &                       35.00 &    478.00 \\\\\n",
      "max   &            70.00 &                      221.00 &    935.00 \\\\\n",
      "\\bottomrule\n",
      "\\end{tabular}\n",
      "\n"
     ]
    },
    {
     "data": {
      "text/plain": [
       "None"
      ]
     },
     "metadata": {},
     "output_type": "display_data"
    }
   ],
   "source": [
    "checkPoint(cp1,\"ticks\",'1000 epidemics with non-pharmaceutical containment measures, '+\n",
    "          'schools open in Sep')"
   ]
  },
  {
   "cell_type": "raw",
   "metadata": {},
   "source": [
    "timeFunction(start,cp1[1]-1,\"ticks\",'1000 epidemics with non-pharmaceutical containment measures,\\n'+\n",
    "          'schools open in Sep')"
   ]
  },
  {
   "cell_type": "raw",
   "metadata": {},
   "source": [
    "timeFunction(cp1[1],end,\"ticks\",'1000 epidemics with non-pharmaceutical containment measures,\\n'+\n",
    "          'schools open in Sep')"
   ]
  },
  {
   "cell_type": "raw",
   "metadata": {},
   "source": [
    "#### --------------------------------------------------"
   ]
  },
  {
   "cell_type": "raw",
   "metadata": {},
   "source": [
    "checkPoint(cp2,\"ticks\",'1000 epidemics with non-pharmaceutical containment measures, '+\n",
    "          'schools open in Sep')"
   ]
  },
  {
   "cell_type": "raw",
   "metadata": {},
   "source": [
    "timeFunction(start,cp2[1]-1,\"ticks\",'1000 epidemics with non-pharmaceutical containment measures,\\n'+\n",
    "          'schools open in Sep')"
   ]
  },
  {
   "cell_type": "raw",
   "metadata": {},
   "source": [
    "timeFunction(cp1[1],cp2[1]-1,\"ticks\",'1000 epidemics with non-pharmaceutical containment measures,\\n'+\n",
    "          'schools open in Sep')"
   ]
  },
  {
   "cell_type": "raw",
   "metadata": {},
   "source": [
    "timeFunction(cp2[1],end,\"ticks\",'1000 epidemics with non-pharmaceutical containment measures,\\n'+\n",
    "          'schools open in Sep')"
   ]
  },
  {
   "cell_type": "raw",
   "metadata": {},
   "source": [
    "checkPointInterval(start,cp2[1]-1,cp2,\"ticks\",\n",
    "                   '1000 epidemics with non-pharmaceutical containment measures, '+\n",
    "                   'schools open in Sep')"
   ]
  },
  {
   "cell_type": "raw",
   "metadata": {},
   "source": [
    "#### --------------------------------------------------"
   ]
  },
  {
   "cell_type": "raw",
   "metadata": {},
   "source": [
    "checkPoint(cp3,\"ticks\",'1000 epidemics with non-pharmaceutical containment measures, '+\n",
    "          'schools open in Sep')"
   ]
  },
  {
   "cell_type": "raw",
   "metadata": {},
   "source": [
    "timeFunction(start,cp3[1]-1,\"ticks\",'1000 epidemics with non-pharmaceutical containment measures,\\n'+\n",
    "          'schools open in Sep')"
   ]
  },
  {
   "cell_type": "raw",
   "metadata": {},
   "source": [
    "timeFunction(cp2[1],cp3[1]-1,\"ticks\",'1000 epidemics with non-pharmaceutical containment measures,\\n'+\n",
    "          'schools open in Sep')"
   ]
  },
  {
   "cell_type": "raw",
   "metadata": {},
   "source": [
    "timeQuantityFunction(360,cp3[1],end,\"ticks\",'1000 epidemics with non-pharmaceutical containment measures,\\n'+\n",
    "          'schools open in Sep')"
   ]
  },
  {
   "cell_type": "raw",
   "metadata": {},
   "source": [
    "timeFunction(cp3[1],end,\"ticks\",'1000 epidemics with non-pharmaceutical containment measures,\\n'+\n",
    "          'schools open in Sep')"
   ]
  },
  {
   "cell_type": "raw",
   "metadata": {},
   "source": [
    "checkPointInterval(cp2[1],cp3[1]-1,cp3,\"ticks\",\n",
    "                   '1000 epidemics with non-pharmaceutical containment measures, '+\n",
    "                   'schools open in Sep')"
   ]
  },
  {
   "cell_type": "raw",
   "metadata": {},
   "source": [
    "#### --------------------------------------------------"
   ]
  },
  {
   "cell_type": "raw",
   "metadata": {},
   "source": [
    "checkPoint(cp4,\"ticks\",'1000 epidemics with non-pharmaceutical containment measures, '+\n",
    "          'schools open in Sep')"
   ]
  },
  {
   "cell_type": "raw",
   "metadata": {},
   "source": [
    "timeFunction(start,cp4[1]-1,\"ticks\",'1000 epidemics with non-pharmaceutical containment measures,\\n'+\n",
    "          'schools open in Sep')"
   ]
  },
  {
   "cell_type": "raw",
   "metadata": {},
   "source": [
    "timeFunction(cp3[1],cp4[1]-1,\"ticks\",'1000 epidemics with non-pharmaceutical containment measures,\\n'+\n",
    "          'schools open in Sep')"
   ]
  },
  {
   "cell_type": "raw",
   "metadata": {},
   "source": [
    "timeFunction(cp4[1],end,\"ticks\",'1000 epidemics with non-pharmaceutical containment measures,\\n'+\n",
    "          'schools open in Sep')"
   ]
  },
  {
   "cell_type": "raw",
   "metadata": {},
   "source": [
    "checkPointInterval(cp3[1],cp4[1]-1,cp4,\"ticks\",\n",
    "                   '1000 epidemics with non-pharmaceutical containment measures, '+\n",
    "                   'schools open in Sep')"
   ]
  },
  {
   "cell_type": "raw",
   "metadata": {},
   "source": [
    "#### --------------------------------------------------"
   ]
  },
  {
   "cell_type": "raw",
   "metadata": {},
   "source": [
    "checkPoint(cp5,\"ticks\",'1000 epidemics with non-pharmaceutical containment measures, '+\n",
    "          'schools open in Sep')"
   ]
  },
  {
   "cell_type": "raw",
   "metadata": {},
   "source": [
    "timeFunction(start,cp5[1]-1,\"ticks\",'1000 epidemics with non-pharmaceutical containment measures,\\n'+\n",
    "          'schools open in Sep')"
   ]
  },
  {
   "cell_type": "raw",
   "metadata": {},
   "source": [
    "timeFunction(cp4[1],cp5[1]-1,\"ticks\",'1000 epidemics with non-pharmaceutical containment measures,\\n'+\n",
    "          'schools open in Sep')"
   ]
  },
  {
   "cell_type": "raw",
   "metadata": {},
   "source": [
    "timeFunction(cp5[1],end,\"ticks\",'1000 epidemics with non-pharmaceutical containment measures,\\n'+\n",
    "          'schools open in Sep')"
   ]
  },
  {
   "cell_type": "raw",
   "metadata": {},
   "source": [
    "checkPointInterval(cp4[1],cp5[1]-1,cp5,\"ticks\",\n",
    "                   '1000 epidemics with non-pharmaceutical containment measures, '+\n",
    "                   'schools open in Sep')"
   ]
  },
  {
   "cell_type": "raw",
   "metadata": {},
   "source": [
    "#### --------------------------------------------------"
   ]
  },
  {
   "cell_type": "raw",
   "metadata": {},
   "source": [
    "checkPoint(cp6,\"ticks\",'1000 epidemics with non-pharmaceutical containment measures, '+\n",
    "          'schools open in Sep')"
   ]
  },
  {
   "cell_type": "raw",
   "metadata": {},
   "source": [
    "timeFunction(start,cp6[1]-1,\"ticks\",'1000 epidemics with non-pharmaceutical containment measures,\\n'+\n",
    "          'schools open in Sep')"
   ]
  },
  {
   "cell_type": "raw",
   "metadata": {},
   "source": [
    "timeFunction(cp5[1],cp6[1]-1,\"ticks\",'1000 epidemics with non-pharmaceutical containment measures,\\n'+\n",
    "          'schools open in Sep')"
   ]
  },
  {
   "cell_type": "raw",
   "metadata": {},
   "source": [
    "timeFunction(cp6[1],end,\"ticks\",'1000 epidemics with non-pharmaceutical containment measures,\\n'+\n",
    "          'schools open in Sep')"
   ]
  },
  {
   "cell_type": "raw",
   "metadata": {},
   "source": [
    "#### --------------------------------------------------"
   ]
  },
  {
   "cell_type": "raw",
   "metadata": {
    "scrolled": true
   },
   "source": [
    "timeFunction(start,end,\"ticks\",'1000 epidemics with non-pharmaceutical containment measures,\\n'+\n",
    "          'schools open in Sep')"
   ]
  },
  {
   "cell_type": "code",
   "execution_count": null,
   "metadata": {},
   "outputs": [],
   "source": []
  }
 ],
 "metadata": {
  "kernelspec": {
   "display_name": "Python 3",
   "language": "python",
   "name": "python3"
  },
  "language_info": {
   "codemirror_mode": {
    "name": "ipython",
    "version": 3
   },
   "file_extension": ".py",
   "mimetype": "text/x-python",
   "name": "python",
   "nbconvert_exporter": "python",
   "pygments_lexer": "ipython3",
   "version": "3.8.6"
  }
 },
 "nbformat": 4,
 "nbformat_minor": 2
}
