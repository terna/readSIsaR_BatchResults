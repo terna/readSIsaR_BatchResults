{
 "cells": [
  {
   "cell_type": "code",
   "execution_count": 1,
   "metadata": {},
   "outputs": [
    {
     "data": {
      "application/javascript": [
       "// to avoid scroll in windows\n",
       "IPython.OutputArea.prototype._should_scroll = function(lines) {\n",
       "    return false;\n",
       "}\n"
      ],
      "text/plain": [
       "<IPython.core.display.Javascript object>"
      ]
     },
     "metadata": {},
     "output_type": "display_data"
    }
   ],
   "source": [
    "%%javascript\n",
    "// to avoid scroll in windows\n",
    "IPython.OutputArea.prototype._should_scroll = function(lines) {\n",
    "    return false;\n",
    "}"
   ]
  },
  {
   "cell_type": "code",
   "execution_count": 2,
   "metadata": {
    "scrolled": true
   },
   "outputs": [],
   "source": [
    "from IPython.display import Markdown as md\n",
    "import pandas as pd\n",
    "import numpy as np\n",
    "from datetime import datetime\n",
    "from datetime import timedelta\n",
    "def day(n):\n",
    "    return datetime(2020, 2, 3) + timedelta(n)"
   ]
  },
  {
   "cell_type": "code",
   "execution_count": 3,
   "metadata": {
    "scrolled": true
   },
   "outputs": [
    {
     "data": {
      "text/markdown": [
       "# 1000 epidemics with non-pharmaceutical containment measures (with h. 33% after first wave), new start, with stop only to fragile workers, in Oct., schools open in Sep, changing world, with using checkpoints"
      ],
      "text/plain": [
       "<IPython.core.display.Markdown object>"
      ]
     },
     "execution_count": 3,
     "metadata": {},
     "output_type": "execute_result"
    }
   ],
   "source": [
    "rundf = pd.read_csv('results/'+\n",
    "'SIsaR_0.9.5.4 experiments 2 seeds-tableChangeworld_1000_basic_control_schoolOnSeptNewStartNoFragOnlyWorkers.csv',\n",
    "                    sep=',',skiprows=6)\n",
    "case=\"# 1000 epidemics with non-pharmaceutical containment measures \"+\\\n",
    "     \"(with h. 33% after first wave), new start, with stop only to fragile workers, in Oct., \"+\\\n",
    "     \"schools open in Sep, changing world, with using checkpoints\"\n",
    "md(case)"
   ]
  },
  {
   "cell_type": "code",
   "execution_count": 4,
   "metadata": {
    "scrolled": true
   },
   "outputs": [],
   "source": [
    "rundf.replace(-1, np.nan, inplace=True)"
   ]
  },
  {
   "cell_type": "code",
   "execution_count": 5,
   "metadata": {
    "scrolled": true
   },
   "outputs": [],
   "source": [
    "rundf[\"totalInfected\"]=rundf[\"cumulativeRedCount\"]+rundf[\"cumulativeVioletCount\"]\n",
    "rundf[\"totalInfected&Deceased\"]=rundf[\"totalInfected\"]+rundf[\"cumulativeDeadCount\"]\n",
    "\n",
    "rundf[\"cp1totalInfected\"]=rundf[\"cp1cRed\"]+rundf[\"cp1cViolet\"]\n",
    "rundf[\"cp1totalInfected&Deceased\"]=rundf[\"cp1totalInfected\"]+rundf[\"cp1cDead\"]\n",
    "\n",
    "rundf[\"cp2totalInfected\"]=rundf[\"cp2cRed\"]+rundf[\"cp2cViolet\"]\n",
    "rundf[\"cp2totalInfected&Deceased\"]=rundf[\"cp2totalInfected\"]+rundf[\"cp2cDead\"]\n",
    "\n",
    "rundf[\"cp3totalInfected\"]=rundf[\"cp3cRed\"]+rundf[\"cp3cViolet\"]\n",
    "rundf[\"cp3totalInfected&Deceased\"]=rundf[\"cp3totalInfected\"]+rundf[\"cp3cDead\"]\n",
    "\n",
    "rundf[\"cp4totalInfected\"]=rundf[\"cp4cRed\"]+rundf[\"cp4cViolet\"]\n",
    "rundf[\"cp4totalInfected&Deceased\"]=rundf[\"cp4totalInfected\"]+rundf[\"cp4cDead\"]\n",
    "\n",
    "rundf[\"cp5totalInfected\"]=rundf[\"cp5cRed\"]+rundf[\"cp5cViolet\"]\n",
    "rundf[\"cp5totalInfected&Deceased\"]=rundf[\"cp5totalInfected\"]+rundf[\"cp5cDead\"]\n",
    "\n",
    "rundf[\"cp6totalInfected\"]=rundf[\"cp6cRed\"]+rundf[\"cp6cViolet\"]\n",
    "rundf[\"cp6totalInfected&Deceased\"]=rundf[\"cp6totalInfected\"]+rundf[\"cp6cDead\"]"
   ]
  },
  {
   "cell_type": "code",
   "execution_count": 6,
   "metadata": {
    "scrolled": true
   },
   "outputs": [
    {
     "data": {
      "text/plain": [
       "Index(['[run number]', 'run#', '[step]', 'seed0', 'seed', 'seedD', 'cp1cRed',\n",
       "       'cp1cRedNH', 'cp1cViolet', 'cp1cVioletNH', 'cp1cDead', 'cp2cRed',\n",
       "       'cp2cRedNH', 'cp2cViolet', 'cp2cVioletNH', 'cp2cDead', 'cp3cRed',\n",
       "       'cp3cRedNH', 'cp3cViolet', 'cp3cVioletNH', 'cp3cDead', 'cp4cRed',\n",
       "       'cp4cRedNH', 'cp4cViolet', 'cp4cVioletNH', 'cp4cDead', 'cp5cRed',\n",
       "       'cp5cRedNH', 'cp5cViolet', 'cp5cVioletNH', 'cp5cDead', 'cp6cRed',\n",
       "       'cp6cRedNH', 'cp6cViolet', 'cp6cVioletNH', 'cp6cDead',\n",
       "       'cumulativeRedCount', 'cumulativeVioletCount', 'cumulativeDeadCount',\n",
       "       'ticks', 'TinfSch', 'SinfSch', 'TinfNotSch', 'SinfNotSch',\n",
       "       'totalInfected', 'totalInfected&Deceased', 'cp1totalInfected',\n",
       "       'cp1totalInfected&Deceased', 'cp2totalInfected',\n",
       "       'cp2totalInfected&Deceased', 'cp3totalInfected',\n",
       "       'cp3totalInfected&Deceased', 'cp4totalInfected',\n",
       "       'cp4totalInfected&Deceased', 'cp5totalInfected',\n",
       "       'cp5totalInfected&Deceased', 'cp6totalInfected',\n",
       "       'cp6totalInfected&Deceased'],\n",
       "      dtype='object')"
      ]
     },
     "execution_count": 6,
     "metadata": {},
     "output_type": "execute_result"
    }
   ],
   "source": [
    "rundf.columns"
   ]
  },
  {
   "cell_type": "code",
   "execution_count": 7,
   "metadata": {
    "scrolled": true
   },
   "outputs": [],
   "source": [
    "pd.set_option('display.float_format', lambda x: '%.2f' % x)"
   ]
  },
  {
   "cell_type": "code",
   "execution_count": 8,
   "metadata": {
    "scrolled": true
   },
   "outputs": [
    {
     "data": {
      "text/html": [
       "<div>\n",
       "<style scoped>\n",
       "    .dataframe tbody tr th:only-of-type {\n",
       "        vertical-align: middle;\n",
       "    }\n",
       "\n",
       "    .dataframe tbody tr th {\n",
       "        vertical-align: top;\n",
       "    }\n",
       "\n",
       "    .dataframe thead th {\n",
       "        text-align: right;\n",
       "    }\n",
       "</style>\n",
       "<table border=\"1\" class=\"dataframe\">\n",
       "  <thead>\n",
       "    <tr style=\"text-align: right;\">\n",
       "      <th></th>\n",
       "      <th>cp1cRedNH</th>\n",
       "      <th>cumulativeRedCount</th>\n",
       "      <th>totalInfected&amp;Deceased</th>\n",
       "      <th>ticks</th>\n",
       "    </tr>\n",
       "  </thead>\n",
       "  <tbody>\n",
       "    <tr>\n",
       "      <th>count</th>\n",
       "      <td>1000.00</td>\n",
       "      <td>1000.00</td>\n",
       "      <td>1000.00</td>\n",
       "      <td>1000.00</td>\n",
       "    </tr>\n",
       "    <tr>\n",
       "      <th>mean</th>\n",
       "      <td>1.77</td>\n",
       "      <td>385.13</td>\n",
       "      <td>977.00</td>\n",
       "      <td>418.72</td>\n",
       "    </tr>\n",
       "    <tr>\n",
       "      <th>std</th>\n",
       "      <td>4.43</td>\n",
       "      <td>278.32</td>\n",
       "      <td>689.94</td>\n",
       "      <td>128.84</td>\n",
       "    </tr>\n",
       "    <tr>\n",
       "      <th>min</th>\n",
       "      <td>0.00</td>\n",
       "      <td>0.00</td>\n",
       "      <td>4.00</td>\n",
       "      <td>230.00</td>\n",
       "    </tr>\n",
       "    <tr>\n",
       "      <th>25%</th>\n",
       "      <td>0.00</td>\n",
       "      <td>95.25</td>\n",
       "      <td>252.75</td>\n",
       "      <td>325.50</td>\n",
       "    </tr>\n",
       "    <tr>\n",
       "      <th>50%</th>\n",
       "      <td>0.00</td>\n",
       "      <td>403.00</td>\n",
       "      <td>1086.00</td>\n",
       "      <td>397.00</td>\n",
       "    </tr>\n",
       "    <tr>\n",
       "      <th>75%</th>\n",
       "      <td>1.00</td>\n",
       "      <td>608.00</td>\n",
       "      <td>1540.00</td>\n",
       "      <td>497.00</td>\n",
       "    </tr>\n",
       "    <tr>\n",
       "      <th>max</th>\n",
       "      <td>34.00</td>\n",
       "      <td>1076.00</td>\n",
       "      <td>2678.00</td>\n",
       "      <td>1002.00</td>\n",
       "    </tr>\n",
       "  </tbody>\n",
       "</table>\n",
       "</div>"
      ],
      "text/plain": [
       "       cp1cRedNH  cumulativeRedCount  totalInfected&Deceased   ticks\n",
       "count    1000.00             1000.00                 1000.00 1000.00\n",
       "mean        1.77              385.13                  977.00  418.72\n",
       "std         4.43              278.32                  689.94  128.84\n",
       "min         0.00                0.00                    4.00  230.00\n",
       "25%         0.00               95.25                  252.75  325.50\n",
       "50%         0.00              403.00                 1086.00  397.00\n",
       "75%         1.00              608.00                 1540.00  497.00\n",
       "max        34.00             1076.00                 2678.00 1002.00"
      ]
     },
     "execution_count": 8,
     "metadata": {},
     "output_type": "execute_result"
    }
   ],
   "source": [
    "rundf[['cp1cRedNH','cumulativeRedCount','totalInfected&Deceased','ticks']].describe()"
   ]
  },
  {
   "cell_type": "code",
   "execution_count": 9,
   "metadata": {},
   "outputs": [],
   "source": [
    "rLim=1200"
   ]
  },
  {
   "cell_type": "code",
   "execution_count": 10,
   "metadata": {
    "scrolled": true
   },
   "outputs": [],
   "source": [
    "tmp=rundf[['cp1cRedNH','cumulativeRedCount','totalInfected&Deceased','ticks']].describe()"
   ]
  },
  {
   "cell_type": "code",
   "execution_count": 11,
   "metadata": {
    "scrolled": true
   },
   "outputs": [
    {
     "name": "stdout",
     "output_type": "stream",
     "text": [
      "\\begin{tabular}{lrrrr}\n",
      "\\toprule\n",
      "{} &  cp1cRedNH &  cumulativeRedCount &  totalInfected\\&Deceased &   ticks \\\\\n",
      "\\midrule\n",
      "count &    1000.00 &             1000.00 &                 1000.00 & 1000.00 \\\\\n",
      "mean  &       1.77 &              385.13 &                  977.00 &  418.72 \\\\\n",
      "std   &       4.43 &              278.32 &                  689.94 &  128.84 \\\\\n",
      "min   &       0.00 &                0.00 &                    4.00 &  230.00 \\\\\n",
      "25\\%   &       0.00 &               95.25 &                  252.75 &  325.50 \\\\\n",
      "50\\%   &       0.00 &              403.00 &                 1086.00 &  397.00 \\\\\n",
      "75\\%   &       1.00 &              608.00 &                 1540.00 &  497.00 \\\\\n",
      "max   &      34.00 &             1076.00 &                 2678.00 & 1002.00 \\\\\n",
      "\\bottomrule\n",
      "\\end{tabular}\n",
      "\n"
     ]
    }
   ],
   "source": [
    "print (tmp.to_latex())"
   ]
  },
  {
   "cell_type": "markdown",
   "metadata": {},
   "source": [
    "The output is included within:  \n",
    "\\begin{table}[htbp] or [H]\n",
    "\n",
    "... output above ...\n",
    "\n",
    "\\label{a label}  \n",
    "\\caption{a caption}  \n",
    "\\end{table}\n"
   ]
  },
  {
   "cell_type": "markdown",
   "metadata": {},
   "source": [
    "## 1 simulation time"
   ]
  },
  {
   "cell_type": "code",
   "execution_count": 12,
   "metadata": {
    "scrolled": true
   },
   "outputs": [
    {
     "data": {
      "text/plain": [
       "array([[<AxesSubplot:title={'center':'ticks'}>]], dtype=object)"
      ]
     },
     "execution_count": 12,
     "metadata": {},
     "output_type": "execute_result"
    },
    {
     "data": {
      "image/png": "[encoded data removed]",
      "text/plain": [
       "<Figure size 1080x576 with 1 Axes>"
      ]
     },
     "metadata": {
      "needs_background": "light"
     },
     "output_type": "display_data"
    }
   ],
   "source": [
    "rundf.hist(column=\"ticks\",bins=1000,figsize=(15,8))"
   ]
  },
  {
   "cell_type": "markdown",
   "metadata": {},
   "source": [
    "## 2 symptomatic agent cumulative count"
   ]
  },
  {
   "cell_type": "code",
   "execution_count": 13,
   "metadata": {
    "scrolled": true
   },
   "outputs": [
    {
     "data": {
      "text/plain": [
       "array([[<AxesSubplot:title={'center':'cumulativeRedCount'}>]],\n",
       "      dtype=object)"
      ]
     },
     "execution_count": 13,
     "metadata": {},
     "output_type": "execute_result"
    },
    {
     "data": {
      "image/png": "[encoded data removed]",
      "text/plain": [
       "<Figure size 1080x576 with 1 Axes>"
      ]
     },
     "metadata": {
      "needs_background": "light"
     },
     "output_type": "display_data"
    }
   ],
   "source": [
    "rundf.hist(column=\"cumulativeRedCount\",bins=1000,figsize=(15,8))"
   ]
  },
  {
   "cell_type": "markdown",
   "metadata": {},
   "source": [
    "## 3 symptomatic agent cumulative count vs. time "
   ]
  },
  {
   "cell_type": "code",
   "execution_count": 14,
   "metadata": {
    "scrolled": true
   },
   "outputs": [
    {
     "data": {
      "text/plain": [
       "<AxesSubplot:title={'center':'symptomatic agent cumulative count vs. time'}, xlabel='ticks', ylabel='cumulativeRedCount'>"
      ]
     },
     "execution_count": 14,
     "metadata": {},
     "output_type": "execute_result"
    },
    {
     "data": {
      "image/png": "[encoded data removed]",
      "text/plain": [
       "<Figure size 1080x576 with 1 Axes>"
      ]
     },
     "metadata": {
      "needs_background": "light"
     },
     "output_type": "display_data"
    }
   ],
   "source": [
    "rundf.plot(x=\"ticks\",y=\"cumulativeRedCount\",s=3,kind='scatter',figsize=(15,8), \n",
    "           title=\"symptomatic agent cumulative count vs. time\",\n",
    "           ylim=(0,3600),xlim=(0,rLim))"
   ]
  },
  {
   "cell_type": "markdown",
   "metadata": {},
   "source": [
    "## 4 symptomatic + asymptomatic agent cumulative count"
   ]
  },
  {
   "cell_type": "code",
   "execution_count": 15,
   "metadata": {
    "scrolled": true
   },
   "outputs": [
    {
     "data": {
      "text/plain": [
       "array([[<AxesSubplot:title={'center':'totalInfected'}>]], dtype=object)"
      ]
     },
     "execution_count": 15,
     "metadata": {},
     "output_type": "execute_result"
    },
    {
     "data": {
      "image/png": "[encoded data removed]",
      "text/plain": [
       "<Figure size 1080x576 with 1 Axes>"
      ]
     },
     "metadata": {
      "needs_background": "light"
     },
     "output_type": "display_data"
    }
   ],
   "source": [
    "rundf.hist(column=\"totalInfected\",bins=1000,figsize=(15,8))"
   ]
  },
  {
   "cell_type": "markdown",
   "metadata": {},
   "source": [
    "## 5 total number of deceased"
   ]
  },
  {
   "cell_type": "code",
   "execution_count": 16,
   "metadata": {
    "scrolled": true
   },
   "outputs": [
    {
     "data": {
      "text/plain": [
       "array([[<AxesSubplot:title={'center':'cumulativeDeadCount'}>]],\n",
       "      dtype=object)"
      ]
     },
     "execution_count": 16,
     "metadata": {},
     "output_type": "execute_result"
    },
    {
     "data": {
      "image/png": "[encoded data removed]",
      "text/plain": [
       "<Figure size 1080x576 with 1 Axes>"
      ]
     },
     "metadata": {
      "needs_background": "light"
     },
     "output_type": "display_data"
    }
   ],
   "source": [
    "rundf.hist(column=\"cumulativeDeadCount\",bins=1000,figsize=(15,8))"
   ]
  },
  {
   "cell_type": "markdown",
   "metadata": {},
   "source": [
    "## 6 symptomatic + asymptomatic + deceased agent cumulative count"
   ]
  },
  {
   "cell_type": "code",
   "execution_count": null,
   "metadata": {
    "scrolled": true
   },
   "outputs": [
    {
     "data": {
      "text/plain": [
       "array([[<AxesSubplot:title={'center':'totalInfected&Deceased'}>]],\n",
       "      dtype=object)"
      ]
     },
     "execution_count": 17,
     "metadata": {},
     "output_type": "execute_result"
    }
   ],
   "source": [
    "rundf.hist(column=\"totalInfected&Deceased\",bins=1000,figsize=(15,8))"
   ]
  },
  {
   "cell_type": "markdown",
   "metadata": {},
   "source": [
    "## 7 symptomatic + asymptomatic + deceased agent cumulative count vs. time"
   ]
  },
  {
   "cell_type": "code",
   "execution_count": null,
   "metadata": {
    "scrolled": true
   },
   "outputs": [],
   "source": [
    "rundf.plot(x=\"ticks\",y=\"totalInfected&Deceased\",s=3,kind='scatter',figsize=(15,8), \n",
    "           title=\"simptomatic+asymptomatic+deceased vs. time\",ylim=(0,3600),xlim=(0,rLim))"
   ]
  },
  {
   "cell_type": "code",
   "execution_count": null,
   "metadata": {
    "scrolled": true
   },
   "outputs": [],
   "source": [
    "md(\"# ------------------------------------------------------------\\n\"+\\\n",
    "    \"# timeFunction displaying heat-maps and interval data\\n\"+\\\n",
    "    \"### with the possibility of choosing the duration column (after a merge), if any\\n\"+\\\n",
    "    \"# checkpoint function displaying the data\\n\"+\\\n",
    "    \"### of the epdicemics subsisting at a given checkpoint\\n\"+\\\n",
    "    \"# intervalCheckpoint function displaying the data\\n\"+\\\n",
    "    \"### of the epdicemics subsisting in an interval and at a given checkpoint\\n\"+\\\n",
    "    \"# ------------------------------------------------------------\")"
   ]
  },
  {
   "cell_type": "code",
   "execution_count": null,
   "metadata": {
    "scrolled": true
   },
   "outputs": [],
   "source": [
    "import matplotlib.pyplot as plt\n",
    "import matplotlib.colors as colors\n",
    "from matplotlib.colors import LogNorm\n",
    "import seaborn as sns; sns.set()\n",
    "\n",
    "def timeFunction(day0,day1,durationCol,title):\n",
    "    \n",
    "    rundfHere=rundf.copy()\n",
    "    rundfHere=rundfHere[rundfHere[durationCol]>=day0]\n",
    "    rundfHere=rundfHere[rundfHere[durationCol]<=day1]\n",
    "    \n",
    "    display(md (\"## Epidemics with duration between {} days ({}) and {} days ({})\"\\\n",
    "                   .format(day0,day(day0).strftime(\"%Y-%m-%d\"),\\\n",
    "                           day1,day(day1).strftime(\"%Y-%m-%d\"))) )\n",
    "    \n",
    "    \n",
    "    rundfHere.rename(columns={'cumulativeRedCount': 'symptomatic',\n",
    "                              'ticks':\"duration\"},inplace=True)\n",
    "    \n",
    "    tmp=rundfHere[['symptomatic','totalInfected&Deceased','duration']].describe();\n",
    "    display(tmp)\n",
    "    display(print(tmp.to_latex()))\n",
    "    \n",
    "    if rundfHere.shape[0] == 0: return\n",
    "    \n",
    "    for nBins in [10,20,30,60]:\n",
    "        display(md (\"## Epidemics with duration between {} days ({}) and {} days ({}), with {} bins\"\\\n",
    "                   .format(day0,day(day0).strftime(\"%Y-%m-%d\"),\\\n",
    "                           day1,day(day1).strftime(\"%Y-%m-%d\"),nBins)) )\n",
    "            \n",
    "        rundfHere['totalInfected&Deceased'].plot.hist(bins=nBins, color=\"r\",\n",
    "                                            title=title+\"\\ntotalInfected&Deceased\");\n",
    "        plt.show()\n",
    "        rundfHere['duration'].plot.hist(bins=nBins, color=\"g\",\n",
    "                                            title=title+\"\\ntotalInfected&Deceased\");\n",
    "        plt.show()\n",
    "\n",
    "        # preparing data for the heat-map\n",
    "        hist = plt.hist2d(x=rundfHere['duration'], y=rundfHere['totalInfected&Deceased'], \n",
    "                          bins=nBins, range=[[0, rLim], [0, 3600]])\n",
    "        plt.close() #to avoid the output of hist2d\n",
    "        \n",
    "        zMax=np.amax(hist[0]) # max level z axis\n",
    "        display(md (\"With {} bins, the max value on z axis is {}, first row is {}\"\\\n",
    "                    .format(nBins,zMax,np.transpose(hist[0])[0])))\n",
    "        \n",
    "        if nBins == 60: plt.figure(figsize=(20,10))\n",
    "        else:           plt.figure(figsize=(8.5,4.25))\n",
    "        \n",
    "        lognorm = LogNorm(vmin=1.0, vmax=np.amax(hist[0]))\n",
    "        ax = sns.heatmap(\n",
    "            np.flip(np.transpose(hist[0]),0), \n",
    "            #robust=True, \n",
    "            norm=lognorm,\n",
    "            cmap='YlGnBu',\n",
    "            annot=True, fmt='.0f', \n",
    "            xticklabels=np.round(hist[1][1:],0).astype(int),\n",
    "            yticklabels=np.flip(hist[2][1:],0).astype(int),\n",
    "            annot_kws={\"size\":8}\n",
    "            )\n",
    "\n",
    "        plt.xlabel(\"Days\")\n",
    "        plt.ylabel(\"Total symptomatic + asymptomatic + deceased\")\n",
    "\n",
    "        plt.title(title)\n",
    "\n",
    "        plt.show()\n"
   ]
  },
  {
   "cell_type": "code",
   "execution_count": null,
   "metadata": {},
   "outputs": [],
   "source": [
    "def timeQuantityFunction(q,day0,day1,durationCol,title):\n",
    "\n",
    "    rundfHere=rundf.copy()\n",
    "    rundfHere=rundfHere[rundfHere[durationCol]>=day0]\n",
    "    rundfHere=rundfHere[rundfHere[durationCol]<=day1]\n",
    "    rundfHere=rundfHere[rundfHere['totalInfected&Deceased']>=q]\n",
    "    \n",
    "    display(md (\"## Epidemics with duration between {} days ({}) and {} days ({}), q >= {}\"\\\n",
    "                   .format(day0,day(day0).strftime(\"%Y-%m-%d\"),\\\n",
    "                           day1,day(day1).strftime(\"%Y-%m-%d\"),q)) )\n",
    "    \n",
    "    \n",
    "    rundfHere.rename(columns={'cumulativeRedCount': 'symptomatic',\n",
    "                              'ticks':\"duration\"},inplace=True)\n",
    "    \n",
    "    tmp=rundfHere[['symptomatic','totalInfected&Deceased','duration']].describe();\n",
    "    display(tmp)\n",
    "    display(print(tmp.to_latex()))\n",
    "    \n",
    "    if rundfHere.shape[0] == 0: return\n",
    "    \n",
    "    for nBins in [10,20,30,60]:\n",
    "        display(md (\"## Epidemics with duration between {} days ({}) and {} days ({}), with {} bins, q >= {}\"\\\n",
    "                   .format(day0,day(day0).strftime(\"%Y-%m-%d\"),\\\n",
    "                           day1,day(day1).strftime(\"%Y-%m-%d\"),nBins,q)) )\n",
    "            \n",
    "        rundfHere['totalInfected&Deceased'].plot.hist(bins=nBins, color=\"r\",\n",
    "                                            title=title+\"\\ntotalInfected&Deceased\");\n",
    "        plt.show()\n",
    "        rundfHere['duration'].plot.hist(bins=nBins, color=\"g\",\n",
    "                                            title=title+\"\\ntotalInfected&Deceased\");\n",
    "        plt.show()\n",
    "\n",
    "        # preparing data for the heat-map\n",
    "        hist = plt.hist2d(x=rundfHere['duration'], y=rundfHere['totalInfected&Deceased'], \n",
    "                          bins=nBins, range=[[0, rLim], [0, 3600]])\n",
    "        plt.close() #to avoid the output of hist2d\n",
    "        \n",
    "        zMax=np.amax(hist[0]) # max level z axis\n",
    "        display(md (\"With {} bins, the max value on z axis is {}, first row is {}\"\\\n",
    "                    .format(nBins,zMax,np.transpose(hist[0])[0])))\n",
    "        \n",
    "        if nBins == 60: plt.figure(figsize=(20,10))\n",
    "        else:           plt.figure(figsize=(8.5,4.25))\n",
    "        \n",
    "        lognorm = LogNorm(vmin=1.0, vmax=np.amax(hist[0]))\n",
    "        ax = sns.heatmap(\n",
    "            np.flip(np.transpose(hist[0]),0), \n",
    "            #robust=True, \n",
    "            norm=lognorm,\n",
    "            cmap='YlGnBu',\n",
    "            annot=True, fmt='.0f', \n",
    "            xticklabels=np.round(hist[1][1:],0).astype(int),\n",
    "            yticklabels=np.flip(hist[2][1:],0).astype(int),\n",
    "            annot_kws={\"size\":8}\n",
    "            )\n",
    "\n",
    "        plt.xlabel(\"Days\")\n",
    "        plt.ylabel(\"Total symptomatic + asymptomatic + deceased\")\n",
    "\n",
    "        plt.title(title)\n",
    "\n",
    "        plt.show()\n"
   ]
  },
  {
   "cell_type": "code",
   "execution_count": null,
   "metadata": {},
   "outputs": [],
   "source": [
    "#checkpoint names\n",
    "start = 0\n",
    "end=rLim\n",
    "cp1=[1, 30,\"cp1cRed\",\"cp1totalInfected&Deceased\"]\n",
    "cp2=[2,119,\"cp2cRed\",\"cp2totalInfected&Deceased\"]\n",
    "cp3=[3,230,\"cp3cRed\",\"cp3totalInfected&Deceased\"]\n",
    "cp4=[4,316,\"cp4cRed\",\"cp4totalInfected&Deceased\"]\n",
    "cp5=[5,364,\"cp5cRed\",\"cp5totalInfected&Deceased\"]\n",
    "cp6=[6,453,\"cp6cRed\",\"cp6totalInfected&Deceased\"]"
   ]
  },
  {
   "cell_type": "code",
   "execution_count": null,
   "metadata": {},
   "outputs": [],
   "source": [
    "def checkPoint(cpN,durationCol,title):\n",
    "    \n",
    "    # epidemics subsisting a cpN[1] day\n",
    "    display(md(\"## \"+title))\n",
    "    display(md(\"## Checkpoint {}, data of the epidemics continuing at day {}\"\\\n",
    "               .format(cpN[0],cpN[1])))\n",
    "    \n",
    "    rundfHere2=rundf.copy()\n",
    "    #display(rundfHere.columns)\n",
    "    rundfHere2=rundfHere2[rundfHere2[durationCol]>=cpN[1]]\n",
    "\n",
    "    rundfHere2.rename(columns={cpN[2]: 'symptomatic-cp'+str(cpN[0]),\n",
    "                               cpN[3]: 'totalInfected&Deceased-cp'+str(cpN[0]),\n",
    "                               \"ticks\": \"duration\"},inplace=True)\n",
    "    \n",
    "    tmp=rundfHere2[['symptomatic-cp'+str(cpN[0]),'totalInfected&Deceased-cp'+str(cpN[0]),\\\n",
    "                    'duration']].describe();\n",
    "    display(tmp)\n",
    "    display(print(tmp.to_latex()))"
   ]
  },
  {
   "cell_type": "code",
   "execution_count": null,
   "metadata": {},
   "outputs": [],
   "source": [
    "def checkPointInterval(day0,day1,cpN,durationCol,title):\n",
    "\n",
    "    display(md(\"## \"+title))\n",
    "\n",
    "    display(md (\"## Epidemics with duration between {} days ({}) and {} days ({})\\n## +\"\\\n",
    "                   .format(day0,day(day0).strftime(\"%Y-%m-%d\"),\\\n",
    "                           day1,day(day1).strftime(\"%Y-%m-%d\"))) )\n",
    "    display(md (\"## Checkpoint {}, data of the epidemics continuing at day {}\"\\\n",
    "                   .format(cpN[0],cpN[1])) )\n",
    "\n",
    "    rundfHere1=rundf.copy()\n",
    "    rundfHere1=rundfHere1[rundfHere1[durationCol]>=day0]\n",
    "    rundfHere1=rundfHere1[rundfHere1[durationCol]<=day1]\n",
    "\n",
    "    rundfHere1.rename(columns={'cumulativeRedCount': 'symptomatic'},inplace=True)\n",
    "    \n",
    "    #display(rundfHere1[['symptomatic','totalInfected&Deceased']].describe())\n",
    "    \n",
    "    rundfHere2=rundf.copy()\n",
    "    rundfHere2=rundfHere2.drop(['totalInfected&Deceased'], axis=1)\n",
    "    rundfHere2=rundfHere2[rundfHere2[durationCol]>=cpN[1]]\n",
    "    rundfHere2.rename(columns={cpN[2]: 'symptomatic',\n",
    "                               cpN[3]: 'totalInfected&Deceased'},inplace=True)\n",
    "    #display(rundfHere2[['symptomatic','totalInfected&Deceased']].describe())\n",
    "    \n",
    "    rundfHere12=pd.DataFrame()\n",
    "    rundfHere12[['symptomatic','totalInfected&Deceased']]=\\\n",
    "          rundfHere1[['symptomatic','totalInfected&Deceased']]\\\n",
    "          .append(rundfHere2[['symptomatic','totalInfected&Deceased']])\n",
    "    display(rundfHere12[['symptomatic','totalInfected&Deceased']].describe())\n"
   ]
  },
  {
   "cell_type": "raw",
   "metadata": {},
   "source": [
    "checkPoint(cp1,\"ticks\",'1000 epidemics with non-pharmaceutical containment measures, '+\n",
    "          'schools open in Sep')"
   ]
  },
  {
   "cell_type": "raw",
   "metadata": {},
   "source": [
    "timeFunction(start,cp1[1]-1,\"ticks\",'1000 epidemics with non-pharmaceutical containment measures,\\n'+\n",
    "          'schools open in Sep')"
   ]
  },
  {
   "cell_type": "raw",
   "metadata": {},
   "source": [
    "timeFunction(cp1[1],end,\"ticks\",'1000 epidemics with non-pharmaceutical containment measures,\\n'+\n",
    "          'schools open in Sep')"
   ]
  },
  {
   "cell_type": "raw",
   "metadata": {},
   "source": [
    "#### --------------------------------------------------"
   ]
  },
  {
   "cell_type": "raw",
   "metadata": {},
   "source": [
    "checkPoint(cp2,\"ticks\",'1000 epidemics with non-pharmaceutical containment measures, '+\n",
    "          'schools open in Sep')"
   ]
  },
  {
   "cell_type": "raw",
   "metadata": {},
   "source": [
    "timeFunction(start,cp2[1]-1,\"ticks\",'1000 epidemics with non-pharmaceutical containment measures,\\n'+\n",
    "          'schools open in Sep')"
   ]
  },
  {
   "cell_type": "raw",
   "metadata": {},
   "source": [
    "timeFunction(cp1[1],cp2[1]-1,\"ticks\",'1000 epidemics with non-pharmaceutical containment measures,\\n'+\n",
    "          'schools open in Sep')"
   ]
  },
  {
   "cell_type": "raw",
   "metadata": {},
   "source": [
    "timeFunction(cp2[1],end,\"ticks\",'1000 epidemics with non-pharmaceutical containment measures,\\n'+\n",
    "          'schools open in Sep')"
   ]
  },
  {
   "cell_type": "raw",
   "metadata": {},
   "source": [
    "checkPointInterval(start,cp2[1]-1,cp2,\"ticks\",\n",
    "                   '1000 epidemics with non-pharmaceutical containment measures, '+\n",
    "                   'schools open in Sep')"
   ]
  },
  {
   "cell_type": "raw",
   "metadata": {},
   "source": [
    "#### --------------------------------------------------"
   ]
  },
  {
   "cell_type": "raw",
   "metadata": {},
   "source": [
    "checkPoint(cp3,\"ticks\",'1000 epidemics with non-pharmaceutical containment measures, '+\n",
    "          'schools open in Sep')"
   ]
  },
  {
   "cell_type": "raw",
   "metadata": {},
   "source": [
    "timeFunction(start,cp3[1]-1,\"ticks\",'1000 epidemics with non-pharmaceutical containment measures,\\n'+\n",
    "          'schools open in Sep')"
   ]
  },
  {
   "cell_type": "raw",
   "metadata": {},
   "source": [
    "timeFunction(cp2[1],cp3[1]-1,\"ticks\",'1000 epidemics with non-pharmaceutical containment measures,\\n'+\n",
    "          'schools open in Sep')"
   ]
  },
  {
   "cell_type": "raw",
   "metadata": {},
   "source": [
    "timeQuantityFunction(360,cp3[1],end,\"ticks\",'1000 epidemics with non-pharmaceutical containment measures,\\n'+\n",
    "          'schools open in Sep')"
   ]
  },
  {
   "cell_type": "raw",
   "metadata": {},
   "source": [
    "timeFunction(cp3[1],end,\"ticks\",'1000 epidemics with non-pharmaceutical containment measures,\\n'+\n",
    "          'schools open in Sep')"
   ]
  },
  {
   "cell_type": "raw",
   "metadata": {},
   "source": [
    "checkPointInterval(cp2[1],cp3[1]-1,cp3,\"ticks\",\n",
    "                   '1000 epidemics with non-pharmaceutical containment measures, '+\n",
    "                   'schools open in Sep')"
   ]
  },
  {
   "cell_type": "raw",
   "metadata": {},
   "source": [
    "#### --------------------------------------------------"
   ]
  },
  {
   "cell_type": "raw",
   "metadata": {},
   "source": [
    "checkPoint(cp4,\"ticks\",'1000 epidemics with non-pharmaceutical containment measures, '+\n",
    "          'schools open in Sep')"
   ]
  },
  {
   "cell_type": "raw",
   "metadata": {},
   "source": [
    "timeFunction(start,cp4[1]-1,\"ticks\",'1000 epidemics with non-pharmaceutical containment measures,\\n'+\n",
    "          'schools open in Sep')"
   ]
  },
  {
   "cell_type": "raw",
   "metadata": {},
   "source": [
    "timeFunction(cp3[1],cp4[1]-1,\"ticks\",'1000 epidemics with non-pharmaceutical containment measures,\\n'+\n",
    "          'schools open in Sep')"
   ]
  },
  {
   "cell_type": "raw",
   "metadata": {},
   "source": [
    "timeFunction(cp4[1],end,\"ticks\",'1000 epidemics with non-pharmaceutical containment measures,\\n'+\n",
    "          'schools open in Sep')"
   ]
  },
  {
   "cell_type": "raw",
   "metadata": {},
   "source": [
    "checkPointInterval(cp3[1],cp4[1]-1,cp4,\"ticks\",\n",
    "                   '1000 epidemics with non-pharmaceutical containment measures, '+\n",
    "                   'schools open in Sep')"
   ]
  },
  {
   "cell_type": "raw",
   "metadata": {},
   "source": [
    "#### --------------------------------------------------"
   ]
  },
  {
   "cell_type": "raw",
   "metadata": {},
   "source": [
    "checkPoint(cp5,\"ticks\",'1000 epidemics with non-pharmaceutical containment measures, '+\n",
    "          'schools open in Sep')"
   ]
  },
  {
   "cell_type": "raw",
   "metadata": {},
   "source": [
    "timeFunction(start,cp5[1]-1,\"ticks\",'1000 epidemics with non-pharmaceutical containment measures,\\n'+\n",
    "          'schools open in Sep')"
   ]
  },
  {
   "cell_type": "raw",
   "metadata": {},
   "source": [
    "timeFunction(cp4[1],cp5[1]-1,\"ticks\",'1000 epidemics with non-pharmaceutical containment measures,\\n'+\n",
    "          'schools open in Sep')"
   ]
  },
  {
   "cell_type": "raw",
   "metadata": {},
   "source": [
    "timeFunction(cp5[1],end,\"ticks\",'1000 epidemics with non-pharmaceutical containment measures,\\n'+\n",
    "          'schools open in Sep')"
   ]
  },
  {
   "cell_type": "raw",
   "metadata": {},
   "source": [
    "checkPointInterval(cp4[1],cp5[1]-1,cp5,\"ticks\",\n",
    "                   '1000 epidemics with non-pharmaceutical containment measures, '+\n",
    "                   'schools open in Sep')"
   ]
  },
  {
   "cell_type": "raw",
   "metadata": {},
   "source": [
    "#### --------------------------------------------------"
   ]
  },
  {
   "cell_type": "raw",
   "metadata": {},
   "source": [
    "checkPoint(cp6,\"ticks\",'1000 epidemics with non-pharmaceutical containment measures, '+\n",
    "          'schools open in Sep')"
   ]
  },
  {
   "cell_type": "raw",
   "metadata": {},
   "source": [
    "timeFunction(start,cp6[1]-1,\"ticks\",'1000 epidemics with non-pharmaceutical containment measures,\\n'+\n",
    "          'schools open in Sep')"
   ]
  },
  {
   "cell_type": "raw",
   "metadata": {},
   "source": [
    "timeFunction(cp5[1],cp6[1]-1,\"ticks\",'1000 epidemics with non-pharmaceutical containment measures,\\n'+\n",
    "          'schools open in Sep')"
   ]
  },
  {
   "cell_type": "raw",
   "metadata": {},
   "source": [
    "timeFunction(cp6[1],end,\"ticks\",'1000 epidemics with non-pharmaceutical containment measures,\\n'+\n",
    "          'schools open in Sep')"
   ]
  },
  {
   "cell_type": "markdown",
   "metadata": {},
   "source": [
    "#### --------------------------------------------------"
   ]
  },
  {
   "cell_type": "code",
   "execution_count": null,
   "metadata": {
    "scrolled": true
   },
   "outputs": [],
   "source": [
    "timeFunction(start,end,\"ticks\",'1000 epidemics with non-pharmaceutical containment measures in 1st wave and\\n'+\\\n",
    " 'uniquely with stop only to fragile workers, in 2nd wave, forcing the restart, schools open in Sep')"
   ]
  },
  {
   "cell_type": "code",
   "execution_count": null,
   "metadata": {},
   "outputs": [],
   "source": []
  }
 ],
 "metadata": {
  "kernelspec": {
   "display_name": "Python 3",
   "language": "python",
   "name": "python3"
  },
  "language_info": {
   "codemirror_mode": {
    "name": "ipython",
    "version": 3
   },
   "file_extension": ".py",
   "mimetype": "text/x-python",
   "name": "python",
   "nbconvert_exporter": "python",
   "pygments_lexer": "ipython3",
   "version": "3.8.6"
  }
 },
 "nbformat": 4,
 "nbformat_minor": 2
}
