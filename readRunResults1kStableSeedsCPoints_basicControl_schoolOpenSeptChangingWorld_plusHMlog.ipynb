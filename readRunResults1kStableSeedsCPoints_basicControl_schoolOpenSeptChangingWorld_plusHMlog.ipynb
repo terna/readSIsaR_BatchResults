{
 "cells": [
  {
   "cell_type": "code",
   "execution_count": null,
   "metadata": {},
   "outputs": [],
   "source": [
    "%%javascript\n",
    "// to avoid scroll in windows\n",
    "IPython.OutputArea.prototype._should_scroll = function(lines) {\n",
    "    return false;\n",
    "}"
   ]
  },
  {
   "cell_type": "code",
   "execution_count": null,
   "metadata": {
    "scrolled": true
   },
   "outputs": [],
   "source": [
    "from IPython.display import Markdown as md\n",
    "import pandas as pd\n",
    "import numpy as np\n",
    "from datetime import datetime\n",
    "from datetime import timedelta\n",
    "def day(n):\n",
    "    return datetime(2020, 2, 3) + timedelta(n)"
   ]
  },
  {
   "cell_type": "code",
   "execution_count": null,
   "metadata": {
    "scrolled": true
   },
   "outputs": [],
   "source": [
    "rundf = pd.read_csv('results/'+\n",
    "        'SIsaR_0.9.5.2 experiments 2 seeds-table_1000_basic_control_schoolOnSept.csv',\n",
    "                    sep=',',skiprows=6)\n",
    "case=\"# 1000 epidemics with non-pharmaceutical containment measures, \"+\\\n",
    "          \"schools open in Sep, changing world, using checkpoints\"\n",
    "md(case)"
   ]
  },
  {
   "cell_type": "code",
   "execution_count": null,
   "metadata": {
    "scrolled": true
   },
   "outputs": [],
   "source": [
    "rundf[\"totalInfected\"]=rundf[\"cumulativeRedCount\"]+rundf[\"cumulativeVioletCount\"]\n",
    "rundf[\"totalInfected&Deceased\"]=rundf[\"totalInfected\"]+rundf[\"cumulativeDeadCount\"]\n",
    "\n",
    "rundf[\"cp1totalInfected\"]=rundf[\"cp1cRed\"]+rundf[\"cp1cViolet\"]\n",
    "rundf[\"cp1totalInfected&Deceased\"]=rundf[\"cp1totalInfected\"]+rundf[\"cp1cDead\"]\n",
    "\n",
    "rundf[\"cp2totalInfected\"]=rundf[\"cp1cRed\"]+rundf[\"cp2cViolet\"]\n",
    "rundf[\"cp2totalInfected&Deceased\"]=rundf[\"cp2totalInfected\"]+rundf[\"cp1cDead\"]\n",
    "\n",
    "rundf[\"cp3totalInfected\"]=rundf[\"cp1cRed\"]+rundf[\"cp3cViolet\"]\n",
    "rundf[\"cp3totalInfected&Deceased\"]=rundf[\"cp3totalInfected\"]+rundf[\"cp1cDead\"]\n",
    "\n",
    "rundf[\"cp4totalInfected\"]=rundf[\"cp1cRed\"]+rundf[\"cp4cViolet\"]\n",
    "rundf[\"cp4totalInfected&Deceased\"]=rundf[\"cp4totalInfected\"]+rundf[\"cp1cDead\"]\n",
    "\n",
    "rundf[\"cp5totalInfected\"]=rundf[\"cp1cRed\"]+rundf[\"cp5cViolet\"]\n",
    "rundf[\"cp5totalInfected&Deceased\"]=rundf[\"cp5totalInfected\"]+rundf[\"cp1cDead\"]\n",
    "\n",
    "rundf[\"cp6totalInfected\"]=rundf[\"cp1cRed\"]+rundf[\"cp6cViolet\"]\n",
    "rundf[\"cp6totalInfected&Deceased\"]=rundf[\"cp6totalInfected\"]+rundf[\"cp1cDead\"]"
   ]
  },
  {
   "cell_type": "code",
   "execution_count": null,
   "metadata": {
    "scrolled": true
   },
   "outputs": [],
   "source": [
    "rundf.columns"
   ]
  },
  {
   "cell_type": "code",
   "execution_count": null,
   "metadata": {
    "scrolled": true
   },
   "outputs": [],
   "source": [
    "rundf.replace(-1, np.nan, inplace=True)"
   ]
  },
  {
   "cell_type": "code",
   "execution_count": null,
   "metadata": {
    "scrolled": true
   },
   "outputs": [],
   "source": [
    "pd.set_option('display.float_format', lambda x: '%.2f' % x)"
   ]
  },
  {
   "cell_type": "code",
   "execution_count": null,
   "metadata": {
    "scrolled": true
   },
   "outputs": [],
   "source": [
    "rundf[['cp1cRedNH','cumulativeRedCount','totalInfected&Deceased','ticks']].describe()"
   ]
  },
  {
   "cell_type": "code",
   "execution_count": null,
   "metadata": {
    "scrolled": true
   },
   "outputs": [],
   "source": [
    "tmp=rundf[['cp1cRedNH','cumulativeRedCount','totalInfected&Deceased','ticks']].describe()"
   ]
  },
  {
   "cell_type": "code",
   "execution_count": null,
   "metadata": {
    "scrolled": true
   },
   "outputs": [],
   "source": [
    "print (tmp.to_latex())"
   ]
  },
  {
   "cell_type": "markdown",
   "metadata": {},
   "source": [
    "The output is included within:  \n",
    "\\begin{table}[htbp] or [H]\n",
    "\n",
    "... output above ...\n",
    "\n",
    "\\label{a label}  \n",
    "\\caption{a caption}  \n",
    "\\end{table}\n"
   ]
  },
  {
   "cell_type": "markdown",
   "metadata": {},
   "source": [
    "## 1 simulation time"
   ]
  },
  {
   "cell_type": "code",
   "execution_count": null,
   "metadata": {
    "scrolled": true
   },
   "outputs": [],
   "source": [
    "rundf.hist(column=\"ticks\",bins=1000,figsize=(15,8))"
   ]
  },
  {
   "cell_type": "markdown",
   "metadata": {},
   "source": [
    "## 2 symptomatic agent cumulative count"
   ]
  },
  {
   "cell_type": "code",
   "execution_count": null,
   "metadata": {
    "scrolled": true
   },
   "outputs": [],
   "source": [
    "rundf.hist(column=\"cumulativeRedCount\",bins=1000,figsize=(15,8))"
   ]
  },
  {
   "cell_type": "markdown",
   "metadata": {},
   "source": [
    "## 3 symptomatic agent cumulative count vs. time "
   ]
  },
  {
   "cell_type": "code",
   "execution_count": null,
   "metadata": {
    "scrolled": true
   },
   "outputs": [],
   "source": [
    "rundf.plot(x=\"ticks\",y=\"cumulativeRedCount\",s=3,kind='scatter',figsize=(15,8), \n",
    "           title=\"symptomatic agent cumulative count vs. time\",\n",
    "           ylim=(0,3600),xlim=(0,700))"
   ]
  },
  {
   "cell_type": "markdown",
   "metadata": {},
   "source": [
    "## 4 symptomatic + asymptomatic agent cumulative count"
   ]
  },
  {
   "cell_type": "code",
   "execution_count": null,
   "metadata": {
    "scrolled": true
   },
   "outputs": [],
   "source": [
    "rundf.hist(column=\"totalInfected\",bins=1000,figsize=(15,8))"
   ]
  },
  {
   "cell_type": "markdown",
   "metadata": {},
   "source": [
    "## 5 total number of deceased"
   ]
  },
  {
   "cell_type": "code",
   "execution_count": null,
   "metadata": {
    "scrolled": true
   },
   "outputs": [],
   "source": [
    "rundf.hist(column=\"cumulativeDeadCount\",bins=1000,figsize=(15,8))"
   ]
  },
  {
   "cell_type": "markdown",
   "metadata": {},
   "source": [
    "## 6 symptomatic + asymptomatic + deceased agent cumulative count"
   ]
  },
  {
   "cell_type": "code",
   "execution_count": null,
   "metadata": {
    "scrolled": true
   },
   "outputs": [],
   "source": [
    "rundf.hist(column=\"totalInfected&Deceased\",bins=1000,figsize=(15,8))"
   ]
  },
  {
   "cell_type": "markdown",
   "metadata": {},
   "source": [
    "## 7 symptomatic + asymptomatic + deceased agent cumulative count vs. time"
   ]
  },
  {
   "cell_type": "code",
   "execution_count": null,
   "metadata": {
    "scrolled": true
   },
   "outputs": [],
   "source": [
    "rundf.plot(x=\"ticks\",y=\"totalInfected&Deceased\",s=3,kind='scatter',figsize=(15,8), \n",
    "           title=\"simptomatic+asymptomatic+deceased vs. time\",ylim=(0,3600),xlim=(0,700))"
   ]
  },
  {
   "cell_type": "code",
   "execution_count": null,
   "metadata": {
    "scrolled": true
   },
   "outputs": [],
   "source": [
    "md(\"# ------------------------------------------------------------\\n\"+\\\n",
    "    \"# timeFunction displaying heat-maps and interval data\\n\"+\\\n",
    "    \"### with the possibility of choosing the duration column (after a merge), if any\\n\"+\\\n",
    "    \"# checkpoint function displaying the data\\n\"+\\\n",
    "    \"### of the epdicemics subsisting at a given checkpoint\\n\"+\\\n",
    "    \"# intervalCheckpoint function displaying the data\\n\"+\\\n",
    "    \"### of the epdicemics subsisting in an interval and at a given checkpoint\\n\"+\\\n",
    "    \"# ------------------------------------------------------------\")"
   ]
  },
  {
   "cell_type": "code",
   "execution_count": null,
   "metadata": {
    "scrolled": true
   },
   "outputs": [],
   "source": [
    "import matplotlib.pyplot as plt\n",
    "import matplotlib.colors as colors\n",
    "from matplotlib.colors import LogNorm\n",
    "import seaborn as sns; sns.set()\n",
    "\n",
    "def timeFunction(day0,day1,durationCol,title):\n",
    "    \n",
    "    rundfHere=rundf.copy()\n",
    "    rundfHere=rundfHere[rundfHere[durationCol]>=day0]\n",
    "    rundfHere=rundfHere[rundfHere[durationCol]<=day1]\n",
    "    \n",
    "    display(md (\"## Epidemics with duration between {} days ({}) and {} days ({})\"\\\n",
    "                   .format(day0,day(day0).strftime(\"%Y-%m-%d\"),\\\n",
    "                           day1,day(day1).strftime(\"%Y-%m-%d\"))) )\n",
    "    \n",
    "    \n",
    "    rundfHere.rename(columns={'cumulativeRedCount': 'symptomatic',\n",
    "                              'ticks':\"duration\"},inplace=True)\n",
    "    \n",
    "    tmp=rundfHere[['symptomatic','totalInfected&Deceased','duration']].describe();\n",
    "    display(tmp)\n",
    "    display(print(tmp.to_latex()))\n",
    "    \n",
    "    if rundfHere.shape[0] == 0: return\n",
    "    \n",
    "    for nBins in [10,20,30,60]:\n",
    "        display(md (\"## Epidemics with duration between {} days ({}) and {} days ({}), with {} bins\"\\\n",
    "                   .format(day0,day(day0).strftime(\"%Y-%m-%d\"),\\\n",
    "                           day1,day(day1).strftime(\"%Y-%m-%d\"),nBins)) )\n",
    "            \n",
    "        rundfHere['totalInfected&Deceased'].plot.hist(bins=nBins, color=\"r\",\n",
    "                                            title=title+\"\\ntotalInfected&Deceased\");\n",
    "        plt.show()\n",
    "        rundfHere['duration'].plot.hist(bins=nBins, color=\"g\",\n",
    "                                            title=title+\"\\ntotalInfected&Deceased\");\n",
    "        plt.show()\n",
    "\n",
    "        # preparing data for the heat-map\n",
    "        hist = plt.hist2d(x=rundfHere['duration'], y=rundfHere['totalInfected&Deceased'], \n",
    "                          bins=nBins, range=[[0, 700], [0, 3600]])\n",
    "        plt.close() #to avoid the output of hist2d\n",
    "        \n",
    "        zMax=np.amax(hist[0]) # max level z axis\n",
    "        display(md (\"With {} bins, the max value on z axis is {}, first row is {}\"\\\n",
    "                    .format(nBins,zMax,np.transpose(hist[0])[0])))\n",
    "        \n",
    "        if nBins == 60: plt.figure(figsize=(20,10))\n",
    "        else:           plt.figure(figsize=(8.5,4.25))\n",
    "        \n",
    "        lognorm = LogNorm(vmin=1.0, vmax=np.amax(hist[0]))\n",
    "        ax = sns.heatmap(\n",
    "            np.flip(np.transpose(hist[0]),0), \n",
    "            #robust=True, \n",
    "            norm=lognorm,\n",
    "            cmap='YlGnBu',\n",
    "            annot=True, fmt='.0f', \n",
    "            xticklabels=np.round(hist[1][1:],0).astype(int),\n",
    "            yticklabels=np.flip(hist[2][1:],0).astype(int),\n",
    "            annot_kws={\"size\":8}\n",
    "            )\n",
    "\n",
    "        plt.xlabel(\"Days\")\n",
    "        plt.ylabel(\"Total symptomatic + asymptomatic + deceased\")\n",
    "\n",
    "        plt.title(title)\n",
    "\n",
    "        plt.show()\n"
   ]
  },
  {
   "cell_type": "code",
   "execution_count": null,
   "metadata": {},
   "outputs": [],
   "source": [
    "#checkpoint names\n",
    "start = 0\n",
    "end=1000\n",
    "cp1=[1, 30,\"cp1cRed\",\"cp1totalInfected&Deceased\"]\n",
    "cp2=[2,119,\"cp2cRed\",\"cp2totalInfected&Deceased\"]\n",
    "cp3=[3,230,\"cp3cRed\",\"cp3totalInfected&Deceased\"]\n",
    "cp4=[4,316,\"cp4cRed\",\"cp4totalInfected&Deceased\"]\n",
    "cp5=[5,364,\"cp5cRed\",\"cp5totalInfected&Deceased\"]\n",
    "cp6=[6.453,\"cp6cRed\",\"cp6totalInfected&Deceased\"]"
   ]
  },
  {
   "cell_type": "code",
   "execution_count": null,
   "metadata": {},
   "outputs": [],
   "source": [
    "def checkPoint(cpN,durationCol,title):\n",
    "    \n",
    "    # epidemics subsisting a cpN[1] day\n",
    "    display(md(\"## \"+title))\n",
    "    display(md(\"## Checkpoint {}, data of the epidemics subsisting at day {}\"\\\n",
    "               .format(cpN[0],cpN[1])))\n",
    "    \n",
    "    rundfHere2=rundf.copy()\n",
    "    #display(rundfHere.columns)\n",
    "    rundfHere2=rundfHere2[rundfHere2[durationCol]>=cpN[1]]\n",
    "\n",
    "    rundfHere2.rename(columns={cpN[2]: 'symptomatic-cp'+str(cpN[0]),\n",
    "                               cpN[3]: 'totalInfected&Deceased-cp'+str(cpN[0]),\n",
    "                               \"ticks\": \"duration\"},inplace=True)\n",
    "    \n",
    "    tmp=rundfHere2[['symptomatic-cp'+str(cpN[0]),'totalInfected&Deceased-cp'+str(cpN[0]),\\\n",
    "                    'duration']].describe();\n",
    "    display(tmp)\n",
    "    display(print(tmp.to_latex()))"
   ]
  },
  {
   "cell_type": "code",
   "execution_count": null,
   "metadata": {},
   "outputs": [],
   "source": [
    "def checkPointInterval(day0,day1,cpN,durationCol,title):\n",
    "\n",
    "    display(md(\"## \"+title))\n",
    "\n",
    "    display(md (\"## Epidemics with duration between {} days ({}) and {} days ({})\\n## +\"\\\n",
    "                   .format(day0,day(day0).strftime(\"%Y-%m-%d\"),\\\n",
    "                           day1,day(day1).strftime(\"%Y-%m-%d\"))) )\n",
    "    display(md (\"## Checkpoint {}, data of the epidemics subsisting at day {}\"\\\n",
    "                   .format(cpN[0],cpN[1])) )\n",
    "\n",
    "    rundfHere1=rundf.copy()\n",
    "    rundfHere1=rundfHere1[rundfHere1[durationCol]>=day0]\n",
    "    rundfHere1=rundfHere1[rundfHere1[durationCol]<=day1]\n",
    "\n",
    "    rundfHere1.rename(columns={'cumulativeRedCount': 'symptomatic'},inplace=True)\n",
    "    \n",
    "    #display(rundfHere1[['symptomatic','totalInfected&Deceased']].describe())\n",
    "    \n",
    "    rundfHere2=rundf.copy()\n",
    "    rundfHere2=rundfHere2.drop(['totalInfected&Deceased'], axis=1)\n",
    "    rundfHere2=rundfHere2[rundfHere2[durationCol]>=cpN[1]]\n",
    "    rundfHere2.rename(columns={cpN[2]: 'symptomatic',\n",
    "                               cpN[3]: 'totalInfected&Deceased'},inplace=True)\n",
    "    #display(rundfHere2[['symptomatic','totalInfected&Deceased']].describe())\n",
    "    \n",
    "    rundfHere12=pd.DataFrame()\n",
    "    rundfHere12[['symptomatic','totalInfected&Deceased']]=\\\n",
    "          rundfHere1[['symptomatic','totalInfected&Deceased']]\\\n",
    "          .append(rundfHere2[['symptomatic','totalInfected&Deceased']])\n",
    "    display(rundfHere12[['symptomatic','totalInfected&Deceased']].describe())\n"
   ]
  },
  {
   "cell_type": "code",
   "execution_count": null,
   "metadata": {},
   "outputs": [],
   "source": [
    "checkPoint(cp1,\"ticks\",'1000 epidemics with non-pharmaceutical containment measures, '+\n",
    "          'schools open in Sep')"
   ]
  },
  {
   "cell_type": "code",
   "execution_count": null,
   "metadata": {},
   "outputs": [],
   "source": [
    "timeFunction(start,cp1[1]-1,\"ticks\",'1000 epidemics with non-pharmaceutical containment measures,\\n'+\n",
    "          'schools open in Sep')"
   ]
  },
  {
   "cell_type": "code",
   "execution_count": null,
   "metadata": {},
   "outputs": [],
   "source": [
    "timeFunction(cp1[1],end,\"ticks\",'1000 epidemics with non-pharmaceutical containment measures,\\n'+\n",
    "          'schools open in Sep')"
   ]
  },
  {
   "cell_type": "markdown",
   "metadata": {},
   "source": [
    "#### --------------------------------------------------"
   ]
  },
  {
   "cell_type": "code",
   "execution_count": null,
   "metadata": {},
   "outputs": [],
   "source": [
    "checkPoint(cp2,\"ticks\",'1000 epidemics with non-pharmaceutical containment measures, '+\n",
    "          'schools open in Sep')"
   ]
  },
  {
   "cell_type": "code",
   "execution_count": null,
   "metadata": {},
   "outputs": [],
   "source": [
    "timeFunction(start,cp2[1]-1,\"ticks\",'1000 epidemics with non-pharmaceutical containment measures,\\n'+\n",
    "          'schools open in Sep')"
   ]
  },
  {
   "cell_type": "code",
   "execution_count": null,
   "metadata": {},
   "outputs": [],
   "source": [
    "timeFunction(cp1[1],cp2[1]-1,\"ticks\",'1000 epidemics with non-pharmaceutical containment measures,\\n'+\n",
    "          'schools open in Sep')"
   ]
  },
  {
   "cell_type": "code",
   "execution_count": null,
   "metadata": {},
   "outputs": [],
   "source": [
    "timeFunction(cp2[1],end,\"ticks\",'1000 epidemics with non-pharmaceutical containment measures,\\n'+\n",
    "          'schools open in Sep')"
   ]
  },
  {
   "cell_type": "code",
   "execution_count": null,
   "metadata": {},
   "outputs": [],
   "source": [
    "checkPointInterval(start,cp2[1]-1,cp2,\"ticks\",\n",
    "                   '1000 epidemics with non-pharmaceutical containment measures, '+\n",
    "                   'schools open in Sep')"
   ]
  },
  {
   "cell_type": "markdown",
   "metadata": {},
   "source": [
    "#### --------------------------------------------------"
   ]
  },
  {
   "cell_type": "code",
   "execution_count": null,
   "metadata": {},
   "outputs": [],
   "source": [
    "checkPoint(cp3,\"ticks\",'1000 epidemics with non-pharmaceutical containment measures, '+\n",
    "          'schools open in Sep')"
   ]
  },
  {
   "cell_type": "code",
   "execution_count": null,
   "metadata": {},
   "outputs": [],
   "source": [
    "timeFunction(start,cp3[1]-1,\"ticks\",'1000 epidemics with non-pharmaceutical containment measures,\\n'+\n",
    "          'schools open in Sep')"
   ]
  },
  {
   "cell_type": "code",
   "execution_count": null,
   "metadata": {},
   "outputs": [],
   "source": [
    "timeFunction(cp2[1],cp3[1]-1,\"ticks\",'1000 epidemics with non-pharmaceutical containment measures,\\n'+\n",
    "          'schools open in Sep')"
   ]
  },
  {
   "cell_type": "code",
   "execution_count": null,
   "metadata": {},
   "outputs": [],
   "source": [
    "timeFunction(cp3[1],end,\"ticks\",'1000 epidemics with non-pharmaceutical containment measures,\\n'+\n",
    "          'schools open in Sep')"
   ]
  },
  {
   "cell_type": "code",
   "execution_count": null,
   "metadata": {},
   "outputs": [],
   "source": [
    "checkPointInterval(cp2[1],cp3[1]-1,cp3,\"ticks\",\n",
    "                   '1000 epidemics with non-pharmaceutical containment measures, '+\n",
    "                   'schools open in Sep')"
   ]
  },
  {
   "cell_type": "markdown",
   "metadata": {},
   "source": [
    "#### --------------------------------------------------"
   ]
  },
  {
   "cell_type": "code",
   "execution_count": null,
   "metadata": {},
   "outputs": [],
   "source": [
    "checkPoint(cp4,\"ticks\",'1000 epidemics with non-pharmaceutical containment measures, '+\n",
    "          'schools open in Sep')"
   ]
  },
  {
   "cell_type": "code",
   "execution_count": null,
   "metadata": {},
   "outputs": [],
   "source": [
    "timeFunction(start,cp4[1]-1,\"ticks\",'1000 epidemics with non-pharmaceutical containment measures,\\n'+\n",
    "          'schools open in Sep')"
   ]
  },
  {
   "cell_type": "code",
   "execution_count": null,
   "metadata": {},
   "outputs": [],
   "source": [
    "timeFunction(cp3[1],cp4[1]-1,\"ticks\",'1000 epidemics with non-pharmaceutical containment measures,\\n'+\n",
    "          'schools open in Sep')"
   ]
  },
  {
   "cell_type": "code",
   "execution_count": null,
   "metadata": {},
   "outputs": [],
   "source": [
    "timeFunction(cp4[1],end,\"ticks\",'1000 epidemics with non-pharmaceutical containment measures,\\n'+\n",
    "          'schools open in Sep')"
   ]
  },
  {
   "cell_type": "code",
   "execution_count": null,
   "metadata": {},
   "outputs": [],
   "source": [
    "checkPointInterval(cp3[1],cp4[1]-1,cp4,\"ticks\",\n",
    "                   '1000 epidemics with non-pharmaceutical containment measures, '+\n",
    "                   'schools open in Sep')"
   ]
  },
  {
   "cell_type": "markdown",
   "metadata": {},
   "source": [
    "#### --------------------------------------------------"
   ]
  },
  {
   "cell_type": "code",
   "execution_count": null,
   "metadata": {},
   "outputs": [],
   "source": [
    "checkPoint(cp5,\"ticks\",'1000 epidemics with non-pharmaceutical containment measures, '+\n",
    "          'schools open in Sep')"
   ]
  },
  {
   "cell_type": "code",
   "execution_count": null,
   "metadata": {},
   "outputs": [],
   "source": [
    "timeFunction(start,cp5[1]-1,\"ticks\",'1000 epidemics with non-pharmaceutical containment measures,\\n'+\n",
    "          'schools open in Sep')"
   ]
  },
  {
   "cell_type": "code",
   "execution_count": null,
   "metadata": {},
   "outputs": [],
   "source": [
    "timeFunction(cp4[1],cp5[1]-1,\"ticks\",'1000 epidemics with non-pharmaceutical containment measures,\\n'+\n",
    "          'schools open in Sep')"
   ]
  },
  {
   "cell_type": "code",
   "execution_count": null,
   "metadata": {},
   "outputs": [],
   "source": [
    "timeFunction(cp5[1],end,\"ticks\",'1000 epidemics with non-pharmaceutical containment measures,\\n'+\n",
    "          'schools open in Sep')"
   ]
  },
  {
   "cell_type": "code",
   "execution_count": null,
   "metadata": {},
   "outputs": [],
   "source": [
    "checkPointInterval(cp4[1],cp5[1]-1,cp5,\"ticks\",\n",
    "                   '1000 epidemics with non-pharmaceutical containment measures, '+\n",
    "                   'schools open in Sep')"
   ]
  },
  {
   "cell_type": "markdown",
   "metadata": {},
   "source": [
    "#### --------------------------------------------------"
   ]
  },
  {
   "cell_type": "code",
   "execution_count": null,
   "metadata": {},
   "outputs": [],
   "source": [
    "checkPoint(cp6,\"ticks\",'1000 epidemics with non-pharmaceutical containment measures, '+\n",
    "          'schools open in Sep')"
   ]
  },
  {
   "cell_type": "code",
   "execution_count": null,
   "metadata": {},
   "outputs": [],
   "source": [
    "timeFunction(start,cp6[1]-1,\"ticks\",'1000 epidemics with non-pharmaceutical containment measures,\\n'+\n",
    "          'schools open in Sep')"
   ]
  },
  {
   "cell_type": "code",
   "execution_count": null,
   "metadata": {},
   "outputs": [],
   "source": [
    "timeFunction(cp5[1],cp6[1]-1,\"ticks\",'1000 epidemics with non-pharmaceutical containment measures,\\n'+\n",
    "          'schools open in Sep')"
   ]
  },
  {
   "cell_type": "code",
   "execution_count": null,
   "metadata": {},
   "outputs": [],
   "source": [
    "timeFunction(cp6[1],end,\"ticks\",'1000 epidemics with non-pharmaceutical containment measures,\\n'+\n",
    "          'schools open in Sep')"
   ]
  },
  {
   "cell_type": "markdown",
   "metadata": {},
   "source": [
    "#### --------------------------------------------------"
   ]
  },
  {
   "cell_type": "code",
   "execution_count": null,
   "metadata": {},
   "outputs": [],
   "source": [
    "timeFunction(start,end,\"ticks\",'1000 epidemics with non-pharmaceutical containment measures,\\n'+\n",
    "          'schools open in Sep')"
   ]
  },
  {
   "cell_type": "code",
   "execution_count": null,
   "metadata": {},
   "outputs": [],
   "source": []
  }
 ],
 "metadata": {
  "kernelspec": {
   "display_name": "Python 3",
   "language": "python",
   "name": "python3"
  },
  "language_info": {
   "codemirror_mode": {
    "name": "ipython",
    "version": 3
   },
   "file_extension": ".py",
   "mimetype": "text/x-python",
   "name": "python",
   "nbconvert_exporter": "python",
   "pygments_lexer": "ipython3",
   "version": "3.8.6"
  }
 },
 "nbformat": 4,
 "nbformat_minor": 2
}
