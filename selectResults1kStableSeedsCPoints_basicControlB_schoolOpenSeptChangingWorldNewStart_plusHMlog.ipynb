{
 "cells": [
  {
   "cell_type": "code",
   "execution_count": 1,
   "metadata": {},
   "outputs": [
    {
     "data": {
      "application/javascript": [
       "// to avoid scroll in windows\n",
       "IPython.OutputArea.prototype._should_scroll = function(lines) {\n",
       "    return false;\n",
       "}\n"
      ],
      "text/plain": [
       "<IPython.core.display.Javascript object>"
      ]
     },
     "metadata": {},
     "output_type": "display_data"
    }
   ],
   "source": [
    "%%javascript\n",
    "// to avoid scroll in windows\n",
    "IPython.OutputArea.prototype._should_scroll = function(lines) {\n",
    "    return false;\n",
    "}"
   ]
  },
  {
   "cell_type": "code",
   "execution_count": 2,
   "metadata": {
    "scrolled": true
   },
   "outputs": [],
   "source": [
    "from IPython.display import Markdown as md\n",
    "import pandas as pd\n",
    "import numpy as np\n",
    "from datetime import datetime\n",
    "from datetime import timedelta\n",
    "def day(n):\n",
    "    return datetime(2020, 2, 3) + timedelta(n)"
   ]
  },
  {
   "cell_type": "code",
   "execution_count": 3,
   "metadata": {
    "scrolled": true
   },
   "outputs": [
    {
     "data": {
      "text/markdown": [
       "# select 1000 epidemics with non-pharmaceutical containment measures, schools open in Sep, changing world, new start, using checkpoints"
      ],
      "text/plain": [
       "<IPython.core.display.Markdown object>"
      ]
     },
     "execution_count": 3,
     "metadata": {},
     "output_type": "execute_result"
    }
   ],
   "source": [
    "rundf = pd.read_csv('results/'+\n",
    "    'SIsaR_0.9.5.4 experiments 2 seeds-tableChangeworld_1000_basic_control_schoolOnSeptNewStart.csv',\n",
    "                    sep=',',skiprows=6)\n",
    "case=\"# select 1000 epidemics with non-pharmaceutical containment measures, \"+\\\n",
    "          \"schools open in Sep, changing world, new start, using checkpoints\"\n",
    "md(case)"
   ]
  },
  {
   "cell_type": "code",
   "execution_count": 4,
   "metadata": {},
   "outputs": [],
   "source": [
    "rundf.replace(-1, np.nan, inplace=True)"
   ]
  },
  {
   "cell_type": "code",
   "execution_count": 5,
   "metadata": {
    "scrolled": true
   },
   "outputs": [],
   "source": [
    "rundf[\"totalInfected\"]=rundf[\"cumulativeRedCount\"]+rundf[\"cumulativeVioletCount\"]\n",
    "rundf[\"totalInfected&Deceased\"]=rundf[\"totalInfected\"]+rundf[\"cumulativeDeadCount\"]\n",
    "\n",
    "rundf[\"cp1totalInfected\"]=rundf[\"cp1cRed\"]+rundf[\"cp1cViolet\"]\n",
    "rundf[\"cp1totalInfected&Deceased\"]=rundf[\"cp1totalInfected\"]+rundf[\"cp1cDead\"]\n",
    "\n",
    "rundf[\"cp2totalInfected\"]=rundf[\"cp2cRed\"]+rundf[\"cp2cViolet\"]\n",
    "rundf[\"cp2totalInfected&Deceased\"]=rundf[\"cp2totalInfected\"]+rundf[\"cp2cDead\"]\n",
    "\n",
    "rundf[\"cp3totalInfected\"]=rundf[\"cp3cRed\"]+rundf[\"cp3cViolet\"]\n",
    "rundf[\"cp3totalInfected&Deceased\"]=rundf[\"cp3totalInfected\"]+rundf[\"cp2cDead\"]\n",
    "\n",
    "rundf[\"cp4totalInfected\"]=rundf[\"cp4cRed\"]+rundf[\"cp4cViolet\"]\n",
    "rundf[\"cp4totalInfected&Deceased\"]=rundf[\"cp4totalInfected\"]+rundf[\"cp4cDead\"]\n",
    "\n",
    "rundf[\"cp5totalInfected\"]=rundf[\"cp5cRed\"]+rundf[\"cp5cViolet\"]\n",
    "rundf[\"cp5totalInfected&Deceased\"]=rundf[\"cp5totalInfected\"]+rundf[\"cp5cDead\"]\n",
    "\n",
    "rundf[\"cp6totalInfected\"]=rundf[\"cp6cRed\"]+rundf[\"cp6cViolet\"]\n",
    "rundf[\"cp6totalInfected&Deceased\"]=rundf[\"cp6totalInfected\"]+rundf[\"cp6cDead\"]"
   ]
  },
  {
   "cell_type": "code",
   "execution_count": 6,
   "metadata": {
    "scrolled": true
   },
   "outputs": [
    {
     "data": {
      "text/plain": [
       "Index(['[run number]', 'run#', '[step]', 'seed0', 'seed', 'seedD', 'cp1cRed',\n",
       "       'cp1cRedNH', 'cp1cViolet', 'cp1cVioletNH', 'cp1cDead', 'cp2cRed',\n",
       "       'cp2cRedNH', 'cp2cViolet', 'cp2cVioletNH', 'cp2cDead', 'cp3cRed',\n",
       "       'cp3cRedNH', 'cp3cViolet', 'cp3cVioletNH', 'cp3cDead', 'cp4cRed',\n",
       "       'cp4cRedNH', 'cp4cViolet', 'cp4cVioletNH', 'cp4cDead', 'cp5cRed',\n",
       "       'cp5cRedNH', 'cp5cViolet', 'cp5cVioletNH', 'cp5cDead', 'cp6cRed',\n",
       "       'cp6cRedNH', 'cp6cViolet', 'cp6cVioletNH', 'cp6cDead',\n",
       "       'cumulativeRedCount', 'cumulativeVioletCount', 'cumulativeDeadCount',\n",
       "       'ticks', 'TinfSch', 'SinfSch', 'TinfNotSch', 'SinfNotSch',\n",
       "       'totalInfected', 'totalInfected&Deceased', 'cp1totalInfected',\n",
       "       'cp1totalInfected&Deceased', 'cp2totalInfected',\n",
       "       'cp2totalInfected&Deceased', 'cp3totalInfected',\n",
       "       'cp3totalInfected&Deceased', 'cp4totalInfected',\n",
       "       'cp4totalInfected&Deceased', 'cp5totalInfected',\n",
       "       'cp5totalInfected&Deceased', 'cp6totalInfected',\n",
       "       'cp6totalInfected&Deceased'],\n",
       "      dtype='object')"
      ]
     },
     "execution_count": 6,
     "metadata": {},
     "output_type": "execute_result"
    }
   ],
   "source": [
    "rundf.columns"
   ]
  },
  {
   "cell_type": "code",
   "execution_count": 7,
   "metadata": {
    "scrolled": true
   },
   "outputs": [],
   "source": [
    "pd.set_option('display.float_format', lambda x: '%.2f' % x)"
   ]
  },
  {
   "cell_type": "code",
   "execution_count": 8,
   "metadata": {
    "scrolled": true
   },
   "outputs": [
    {
     "data": {
      "text/html": [
       "<div>\n",
       "<style scoped>\n",
       "    .dataframe tbody tr th:only-of-type {\n",
       "        vertical-align: middle;\n",
       "    }\n",
       "\n",
       "    .dataframe tbody tr th {\n",
       "        vertical-align: top;\n",
       "    }\n",
       "\n",
       "    .dataframe thead th {\n",
       "        text-align: right;\n",
       "    }\n",
       "</style>\n",
       "<table border=\"1\" class=\"dataframe\">\n",
       "  <thead>\n",
       "    <tr style=\"text-align: right;\">\n",
       "      <th></th>\n",
       "      <th>cp1cRedNH</th>\n",
       "      <th>cumulativeRedCount</th>\n",
       "      <th>totalInfected&amp;Deceased</th>\n",
       "      <th>ticks</th>\n",
       "    </tr>\n",
       "  </thead>\n",
       "  <tbody>\n",
       "    <tr>\n",
       "      <th>count</th>\n",
       "      <td>1000.00</td>\n",
       "      <td>1000.00</td>\n",
       "      <td>1000.00</td>\n",
       "      <td>1000.00</td>\n",
       "    </tr>\n",
       "    <tr>\n",
       "      <th>mean</th>\n",
       "      <td>1.77</td>\n",
       "      <td>617.91</td>\n",
       "      <td>1533.65</td>\n",
       "      <td>504.32</td>\n",
       "    </tr>\n",
       "    <tr>\n",
       "      <th>std</th>\n",
       "      <td>4.43</td>\n",
       "      <td>318.26</td>\n",
       "      <td>785.85</td>\n",
       "      <td>157.07</td>\n",
       "    </tr>\n",
       "    <tr>\n",
       "      <th>min</th>\n",
       "      <td>0.00</td>\n",
       "      <td>0.00</td>\n",
       "      <td>4.00</td>\n",
       "      <td>230.00</td>\n",
       "    </tr>\n",
       "    <tr>\n",
       "      <th>25%</th>\n",
       "      <td>0.00</td>\n",
       "      <td>526.50</td>\n",
       "      <td>1394.00</td>\n",
       "      <td>397.50</td>\n",
       "    </tr>\n",
       "    <tr>\n",
       "      <th>50%</th>\n",
       "      <td>0.00</td>\n",
       "      <td>730.00</td>\n",
       "      <td>1825.50</td>\n",
       "      <td>516.00</td>\n",
       "    </tr>\n",
       "    <tr>\n",
       "      <th>75%</th>\n",
       "      <td>1.00</td>\n",
       "      <td>834.50</td>\n",
       "      <td>2059.25</td>\n",
       "      <td>618.00</td>\n",
       "    </tr>\n",
       "    <tr>\n",
       "      <th>max</th>\n",
       "      <td>34.00</td>\n",
       "      <td>1147.00</td>\n",
       "      <td>2775.00</td>\n",
       "      <td>1116.00</td>\n",
       "    </tr>\n",
       "  </tbody>\n",
       "</table>\n",
       "</div>"
      ],
      "text/plain": [
       "       cp1cRedNH  cumulativeRedCount  totalInfected&Deceased   ticks\n",
       "count    1000.00             1000.00                 1000.00 1000.00\n",
       "mean        1.77              617.91                 1533.65  504.32\n",
       "std         4.43              318.26                  785.85  157.07\n",
       "min         0.00                0.00                    4.00  230.00\n",
       "25%         0.00              526.50                 1394.00  397.50\n",
       "50%         0.00              730.00                 1825.50  516.00\n",
       "75%         1.00              834.50                 2059.25  618.00\n",
       "max        34.00             1147.00                 2775.00 1116.00"
      ]
     },
     "execution_count": 8,
     "metadata": {},
     "output_type": "execute_result"
    }
   ],
   "source": [
    "rundf[['cp1cRedNH','cumulativeRedCount','totalInfected&Deceased','ticks']].describe()"
   ]
  },
  {
   "cell_type": "code",
   "execution_count": 9,
   "metadata": {
    "scrolled": true
   },
   "outputs": [],
   "source": [
    "tmp=rundf[['cp1cRedNH','cumulativeRedCount','totalInfected&Deceased','ticks']].describe()"
   ]
  },
  {
   "cell_type": "code",
   "execution_count": 10,
   "metadata": {
    "scrolled": true
   },
   "outputs": [
    {
     "name": "stdout",
     "output_type": "stream",
     "text": [
      "\\begin{tabular}{lrrrr}\n",
      "\\toprule\n",
      "{} &  cp1cRedNH &  cumulativeRedCount &  totalInfected\\&Deceased &   ticks \\\\\n",
      "\\midrule\n",
      "count &    1000.00 &             1000.00 &                 1000.00 & 1000.00 \\\\\n",
      "mean  &       1.77 &              617.91 &                 1533.65 &  504.32 \\\\\n",
      "std   &       4.43 &              318.26 &                  785.85 &  157.07 \\\\\n",
      "min   &       0.00 &                0.00 &                    4.00 &  230.00 \\\\\n",
      "25\\%   &       0.00 &              526.50 &                 1394.00 &  397.50 \\\\\n",
      "50\\%   &       0.00 &              730.00 &                 1825.50 &  516.00 \\\\\n",
      "75\\%   &       1.00 &              834.50 &                 2059.25 &  618.00 \\\\\n",
      "max   &      34.00 &             1147.00 &                 2775.00 & 1116.00 \\\\\n",
      "\\bottomrule\n",
      "\\end{tabular}\n",
      "\n"
     ]
    }
   ],
   "source": [
    "print (tmp.to_latex())"
   ]
  },
  {
   "cell_type": "markdown",
   "metadata": {},
   "source": [
    "The output is included within:  \n",
    "\\begin{table}[htbp] or [H]\n",
    "\n",
    "... output above ...\n",
    "\n",
    "\\label{a label}  \n",
    "\\caption{a caption}  \n",
    "\\end{table}\n"
   ]
  },
  {
   "cell_type": "markdown",
   "metadata": {},
   "source": [
    "# Select at cp2 (actual cumulative value, using symptomatic only,  $\\approx$ 33.3, implicitly with *nan* as 0)"
   ]
  },
  {
   "cell_type": "code",
   "execution_count": 11,
   "metadata": {},
   "outputs": [
    {
     "data": {
      "text/plain": [
       "1000.0"
      ]
     },
     "execution_count": 11,
     "metadata": {},
     "output_type": "execute_result"
    }
   ],
   "source": [
    "# existing epidemic a cp2 with .notnull() NB, the opposit1 is .isnull()\n",
    "rundf[rundf['cp2cRed'].notnull()]['ticks'].describe().loc['count']"
   ]
  },
  {
   "cell_type": "code",
   "execution_count": 12,
   "metadata": {},
   "outputs": [
    {
     "data": {
      "text/html": [
       "<div>\n",
       "<style scoped>\n",
       "    .dataframe tbody tr th:only-of-type {\n",
       "        vertical-align: middle;\n",
       "    }\n",
       "\n",
       "    .dataframe tbody tr th {\n",
       "        vertical-align: top;\n",
       "    }\n",
       "\n",
       "    .dataframe thead th {\n",
       "        text-align: right;\n",
       "    }\n",
       "</style>\n",
       "<table border=\"1\" class=\"dataframe\">\n",
       "  <thead>\n",
       "    <tr style=\"text-align: right;\">\n",
       "      <th></th>\n",
       "      <th>cp2cRed</th>\n",
       "      <th>cp2totalInfected&amp;Deceased</th>\n",
       "    </tr>\n",
       "  </thead>\n",
       "  <tbody>\n",
       "    <tr>\n",
       "      <th>count</th>\n",
       "      <td>1000.00</td>\n",
       "      <td>1000.00</td>\n",
       "    </tr>\n",
       "    <tr>\n",
       "      <th>mean</th>\n",
       "      <td>87.03</td>\n",
       "      <td>208.44</td>\n",
       "    </tr>\n",
       "    <tr>\n",
       "      <th>std</th>\n",
       "      <td>103.69</td>\n",
       "      <td>248.47</td>\n",
       "    </tr>\n",
       "    <tr>\n",
       "      <th>min</th>\n",
       "      <td>0.00</td>\n",
       "      <td>2.00</td>\n",
       "    </tr>\n",
       "    <tr>\n",
       "      <th>25%</th>\n",
       "      <td>9.75</td>\n",
       "      <td>21.00</td>\n",
       "    </tr>\n",
       "    <tr>\n",
       "      <th>50%</th>\n",
       "      <td>42.00</td>\n",
       "      <td>87.50</td>\n",
       "    </tr>\n",
       "    <tr>\n",
       "      <th>75%</th>\n",
       "      <td>136.00</td>\n",
       "      <td>341.00</td>\n",
       "    </tr>\n",
       "    <tr>\n",
       "      <th>max</th>\n",
       "      <td>646.00</td>\n",
       "      <td>1485.00</td>\n",
       "    </tr>\n",
       "  </tbody>\n",
       "</table>\n",
       "</div>"
      ],
      "text/plain": [
       "       cp2cRed  cp2totalInfected&Deceased\n",
       "count  1000.00                    1000.00\n",
       "mean     87.03                     208.44\n",
       "std     103.69                     248.47\n",
       "min       0.00                       2.00\n",
       "25%       9.75                      21.00\n",
       "50%      42.00                      87.50\n",
       "75%     136.00                     341.00\n",
       "max     646.00                    1485.00"
      ]
     },
     "execution_count": 12,
     "metadata": {},
     "output_type": "execute_result"
    }
   ],
   "source": [
    "rundf[rundf['cp2cRed'].notnull()][['cp2cRed','cp2totalInfected&Deceased']].describe()"
   ]
  },
  {
   "cell_type": "code",
   "execution_count": 13,
   "metadata": {},
   "outputs": [
    {
     "data": {
      "text/html": [
       "<div>\n",
       "<style scoped>\n",
       "    .dataframe tbody tr th:only-of-type {\n",
       "        vertical-align: middle;\n",
       "    }\n",
       "\n",
       "    .dataframe tbody tr th {\n",
       "        vertical-align: top;\n",
       "    }\n",
       "\n",
       "    .dataframe thead th {\n",
       "        text-align: right;\n",
       "    }\n",
       "</style>\n",
       "<table border=\"1\" class=\"dataframe\">\n",
       "  <thead>\n",
       "    <tr style=\"text-align: right;\">\n",
       "      <th></th>\n",
       "      <th>cp2cRed</th>\n",
       "      <th>cp2totalInfected&amp;Deceased</th>\n",
       "    </tr>\n",
       "  </thead>\n",
       "  <tbody>\n",
       "    <tr>\n",
       "      <th>count</th>\n",
       "      <td>986.00</td>\n",
       "      <td>986.00</td>\n",
       "    </tr>\n",
       "    <tr>\n",
       "      <th>mean</th>\n",
       "      <td>88.27</td>\n",
       "      <td>211.37</td>\n",
       "    </tr>\n",
       "    <tr>\n",
       "      <th>std</th>\n",
       "      <td>103.90</td>\n",
       "      <td>249.01</td>\n",
       "    </tr>\n",
       "    <tr>\n",
       "      <th>min</th>\n",
       "      <td>1.00</td>\n",
       "      <td>2.00</td>\n",
       "    </tr>\n",
       "    <tr>\n",
       "      <th>25%</th>\n",
       "      <td>10.00</td>\n",
       "      <td>22.00</td>\n",
       "    </tr>\n",
       "    <tr>\n",
       "      <th>50%</th>\n",
       "      <td>43.00</td>\n",
       "      <td>90.00</td>\n",
       "    </tr>\n",
       "    <tr>\n",
       "      <th>75%</th>\n",
       "      <td>137.00</td>\n",
       "      <td>343.75</td>\n",
       "    </tr>\n",
       "    <tr>\n",
       "      <th>max</th>\n",
       "      <td>646.00</td>\n",
       "      <td>1485.00</td>\n",
       "    </tr>\n",
       "  </tbody>\n",
       "</table>\n",
       "</div>"
      ],
      "text/plain": [
       "       cp2cRed  cp2totalInfected&Deceased\n",
       "count   986.00                     986.00\n",
       "mean     88.27                     211.37\n",
       "std     103.90                     249.01\n",
       "min       1.00                       2.00\n",
       "25%      10.00                      22.00\n",
       "50%      43.00                      90.00\n",
       "75%     137.00                     343.75\n",
       "max     646.00                    1485.00"
      ]
     },
     "execution_count": 13,
     "metadata": {},
     "output_type": "execute_result"
    }
   ],
   "source": [
    "rundf[rundf['cp2cRed']>0]\\\n",
    "     [['cp2cRed','cp2totalInfected&Deceased']].describe()\n",
    "# with data of epidemics that would have ended without New Start"
   ]
  },
  {
   "cell_type": "code",
   "execution_count": 14,
   "metadata": {},
   "outputs": [
    {
     "data": {
      "text/html": [
       "<div>\n",
       "<style scoped>\n",
       "    .dataframe tbody tr th:only-of-type {\n",
       "        vertical-align: middle;\n",
       "    }\n",
       "\n",
       "    .dataframe tbody tr th {\n",
       "        vertical-align: top;\n",
       "    }\n",
       "\n",
       "    .dataframe thead th {\n",
       "        text-align: right;\n",
       "    }\n",
       "</style>\n",
       "<table border=\"1\" class=\"dataframe\">\n",
       "  <thead>\n",
       "    <tr style=\"text-align: right;\">\n",
       "      <th></th>\n",
       "      <th>cp2cRed</th>\n",
       "      <th>cp2totalInfected&amp;Deceased</th>\n",
       "      <th>ticks</th>\n",
       "    </tr>\n",
       "  </thead>\n",
       "  <tbody>\n",
       "    <tr>\n",
       "      <th>count</th>\n",
       "      <td>400.00</td>\n",
       "      <td>400.00</td>\n",
       "      <td>400.00</td>\n",
       "    </tr>\n",
       "    <tr>\n",
       "      <th>mean</th>\n",
       "      <td>187.14</td>\n",
       "      <td>452.52</td>\n",
       "      <td>491.57</td>\n",
       "    </tr>\n",
       "  </tbody>\n",
       "</table>\n",
       "</div>"
      ],
      "text/plain": [
       "       cp2cRed  cp2totalInfected&Deceased  ticks\n",
       "count   400.00                     400.00 400.00\n",
       "mean    187.14                     452.52 491.57"
      ]
     },
     "execution_count": 14,
     "metadata": {},
     "output_type": "execute_result"
    }
   ],
   "source": [
    "rundf['cp2GT70']=rundf['cp2cRed'] > 70\n",
    "rundf[rundf.cp2GT70][['cp2cRed','cp2totalInfected&Deceased','ticks']]\\\n",
    ".describe().loc[['count','mean']]"
   ]
  },
  {
   "cell_type": "code",
   "execution_count": 15,
   "metadata": {},
   "outputs": [
    {
     "data": {
      "text/html": [
       "<div>\n",
       "<style scoped>\n",
       "    .dataframe tbody tr th:only-of-type {\n",
       "        vertical-align: middle;\n",
       "    }\n",
       "\n",
       "    .dataframe tbody tr th {\n",
       "        vertical-align: top;\n",
       "    }\n",
       "\n",
       "    .dataframe thead th {\n",
       "        text-align: right;\n",
       "    }\n",
       "</style>\n",
       "<table border=\"1\" class=\"dataframe\">\n",
       "  <thead>\n",
       "    <tr style=\"text-align: right;\">\n",
       "      <th></th>\n",
       "      <th>cp2cRed</th>\n",
       "      <th>cp2totalInfected&amp;Deceased</th>\n",
       "      <th>ticks</th>\n",
       "    </tr>\n",
       "  </thead>\n",
       "  <tbody>\n",
       "    <tr>\n",
       "      <th>count</th>\n",
       "      <td>600.00</td>\n",
       "      <td>600.00</td>\n",
       "      <td>600.00</td>\n",
       "    </tr>\n",
       "    <tr>\n",
       "      <th>mean</th>\n",
       "      <td>20.30</td>\n",
       "      <td>45.72</td>\n",
       "      <td>512.81</td>\n",
       "    </tr>\n",
       "  </tbody>\n",
       "</table>\n",
       "</div>"
      ],
      "text/plain": [
       "       cp2cRed  cp2totalInfected&Deceased  ticks\n",
       "count   600.00                     600.00 600.00\n",
       "mean     20.30                      45.72 512.81"
      ]
     },
     "execution_count": 15,
     "metadata": {},
     "output_type": "execute_result"
    }
   ],
   "source": [
    "rundf['cp2LE70']=rundf['cp2cRed'] <= 70\n",
    "rundf[rundf.cp2LE70][['cp2cRed','cp2totalInfected&Deceased','ticks']]\\\n",
    ".describe().loc[['count','mean']]"
   ]
  },
  {
   "cell_type": "code",
   "execution_count": 16,
   "metadata": {},
   "outputs": [
    {
     "data": {
      "text/html": [
       "<div>\n",
       "<style scoped>\n",
       "    .dataframe tbody tr th:only-of-type {\n",
       "        vertical-align: middle;\n",
       "    }\n",
       "\n",
       "    .dataframe tbody tr th {\n",
       "        vertical-align: top;\n",
       "    }\n",
       "\n",
       "    .dataframe thead th {\n",
       "        text-align: right;\n",
       "    }\n",
       "</style>\n",
       "<table border=\"1\" class=\"dataframe\">\n",
       "  <thead>\n",
       "    <tr style=\"text-align: right;\">\n",
       "      <th></th>\n",
       "      <th>cp2cRed</th>\n",
       "      <th>cp2totalInfected&amp;Deceased</th>\n",
       "      <th>ticks</th>\n",
       "    </tr>\n",
       "  </thead>\n",
       "  <tbody>\n",
       "    <tr>\n",
       "      <th>count</th>\n",
       "      <td>731.00</td>\n",
       "      <td>731.00</td>\n",
       "      <td>731.00</td>\n",
       "    </tr>\n",
       "    <tr>\n",
       "      <th>mean</th>\n",
       "      <td>117.26</td>\n",
       "      <td>281.06</td>\n",
       "      <td>499.82</td>\n",
       "    </tr>\n",
       "  </tbody>\n",
       "</table>\n",
       "</div>"
      ],
      "text/plain": [
       "       cp2cRed  cp2totalInfected&Deceased  ticks\n",
       "count   731.00                     731.00 731.00\n",
       "mean    117.26                     281.06 499.82"
      ]
     },
     "execution_count": 16,
     "metadata": {},
     "output_type": "execute_result"
    }
   ],
   "source": [
    "rundf['cp2GT10']=rundf['cp2cRed'] > 10\n",
    "rundf[rundf.cp2GT10][['cp2cRed','cp2totalInfected&Deceased','ticks']]\\\n",
    ".describe().loc[['count','mean']]"
   ]
  },
  {
   "cell_type": "code",
   "execution_count": 17,
   "metadata": {},
   "outputs": [
    {
     "data": {
      "text/html": [
       "<div>\n",
       "<style scoped>\n",
       "    .dataframe tbody tr th:only-of-type {\n",
       "        vertical-align: middle;\n",
       "    }\n",
       "\n",
       "    .dataframe tbody tr th {\n",
       "        vertical-align: top;\n",
       "    }\n",
       "\n",
       "    .dataframe thead th {\n",
       "        text-align: right;\n",
       "    }\n",
       "</style>\n",
       "<table border=\"1\" class=\"dataframe\">\n",
       "  <thead>\n",
       "    <tr style=\"text-align: right;\">\n",
       "      <th></th>\n",
       "      <th>cp2cRed</th>\n",
       "      <th>cp2totalInfected&amp;Deceased</th>\n",
       "      <th>ticks</th>\n",
       "    </tr>\n",
       "  </thead>\n",
       "  <tbody>\n",
       "    <tr>\n",
       "      <th>count</th>\n",
       "      <td>269.00</td>\n",
       "      <td>269.00</td>\n",
       "      <td>269.00</td>\n",
       "    </tr>\n",
       "    <tr>\n",
       "      <th>mean</th>\n",
       "      <td>4.89</td>\n",
       "      <td>11.10</td>\n",
       "      <td>516.55</td>\n",
       "    </tr>\n",
       "  </tbody>\n",
       "</table>\n",
       "</div>"
      ],
      "text/plain": [
       "       cp2cRed  cp2totalInfected&Deceased  ticks\n",
       "count   269.00                     269.00 269.00\n",
       "mean      4.89                      11.10 516.55"
      ]
     },
     "execution_count": 17,
     "metadata": {},
     "output_type": "execute_result"
    }
   ],
   "source": [
    "rundf['cp2LE10']=rundf['cp2cRed'] <= 10\n",
    "rundf[rundf.cp2LE10][['cp2cRed','cp2totalInfected&Deceased','ticks']]\\\n",
    ".describe().loc[['count','mean']]"
   ]
  },
  {
   "cell_type": "code",
   "execution_count": 18,
   "metadata": {},
   "outputs": [
    {
     "data": {
      "text/html": [
       "<div>\n",
       "<style scoped>\n",
       "    .dataframe tbody tr th:only-of-type {\n",
       "        vertical-align: middle;\n",
       "    }\n",
       "\n",
       "    .dataframe tbody tr th {\n",
       "        vertical-align: top;\n",
       "    }\n",
       "\n",
       "    .dataframe thead th {\n",
       "        text-align: right;\n",
       "    }\n",
       "</style>\n",
       "<table border=\"1\" class=\"dataframe\">\n",
       "  <thead>\n",
       "    <tr style=\"text-align: right;\">\n",
       "      <th></th>\n",
       "      <th>cp2cRed</th>\n",
       "      <th>cp2totalInfected&amp;Deceased</th>\n",
       "      <th>ticks</th>\n",
       "    </tr>\n",
       "  </thead>\n",
       "  <tbody>\n",
       "    <tr>\n",
       "      <th>count</th>\n",
       "      <td>331.00</td>\n",
       "      <td>331.00</td>\n",
       "      <td>331.00</td>\n",
       "    </tr>\n",
       "    <tr>\n",
       "      <th>mean</th>\n",
       "      <td>32.82</td>\n",
       "      <td>73.85</td>\n",
       "      <td>509.78</td>\n",
       "    </tr>\n",
       "  </tbody>\n",
       "</table>\n",
       "</div>"
      ],
      "text/plain": [
       "       cp2cRed  cp2totalInfected&Deceased  ticks\n",
       "count   331.00                     331.00 331.00\n",
       "mean     32.82                      73.85 509.78"
      ]
     },
     "execution_count": 18,
     "metadata": {},
     "output_type": "execute_result"
    }
   ],
   "source": [
    "rundf['realistic_cp2']=rundf['cp2GT10'] & rundf['cp2LE70']\n",
    "rundf[rundf.realistic_cp2][['cp2cRed','cp2totalInfected&Deceased','ticks']]\\\n",
    ".describe().loc[['count','mean']]"
   ]
  },
  {
   "cell_type": "markdown",
   "metadata": {},
   "source": [
    "# Select at cp3 (actual cumulative value, using symptomatic only,  $\\approx$ 57.4, implicitly with *nan* as 0)"
   ]
  },
  {
   "cell_type": "code",
   "execution_count": 19,
   "metadata": {},
   "outputs": [
    {
     "data": {
      "text/plain": [
       "1000.0"
      ]
     },
     "execution_count": 19,
     "metadata": {},
     "output_type": "execute_result"
    }
   ],
   "source": [
    "# existing epidemic a cp3 with .notnull() NB, the opposit1 is .isnull()\n",
    "rundf[rundf['cp3cRed'].notnull()]['ticks'].describe().loc['count']"
   ]
  },
  {
   "cell_type": "code",
   "execution_count": 20,
   "metadata": {},
   "outputs": [
    {
     "data": {
      "text/html": [
       "<div>\n",
       "<style scoped>\n",
       "    .dataframe tbody tr th:only-of-type {\n",
       "        vertical-align: middle;\n",
       "    }\n",
       "\n",
       "    .dataframe tbody tr th {\n",
       "        vertical-align: top;\n",
       "    }\n",
       "\n",
       "    .dataframe thead th {\n",
       "        text-align: right;\n",
       "    }\n",
       "</style>\n",
       "<table border=\"1\" class=\"dataframe\">\n",
       "  <thead>\n",
       "    <tr style=\"text-align: right;\">\n",
       "      <th></th>\n",
       "      <th>cp3cRed</th>\n",
       "      <th>cp3totalInfected&amp;Deceased</th>\n",
       "      <th>ticks</th>\n",
       "    </tr>\n",
       "  </thead>\n",
       "  <tbody>\n",
       "    <tr>\n",
       "      <th>count</th>\n",
       "      <td>506.00</td>\n",
       "      <td>506.00</td>\n",
       "      <td>506.00</td>\n",
       "    </tr>\n",
       "    <tr>\n",
       "      <th>mean</th>\n",
       "      <td>385.34</td>\n",
       "      <td>964.56</td>\n",
       "      <td>493.04</td>\n",
       "    </tr>\n",
       "  </tbody>\n",
       "</table>\n",
       "</div>"
      ],
      "text/plain": [
       "       cp3cRed  cp3totalInfected&Deceased  ticks\n",
       "count   506.00                     506.00 506.00\n",
       "mean    385.34                     964.56 493.04"
      ]
     },
     "execution_count": 20,
     "metadata": {},
     "output_type": "execute_result"
    }
   ],
   "source": [
    "rundf['cp3GT90']=rundf['cp3cRed'] > 90 \n",
    "rundf[rundf.cp3GT90][['cp3cRed','cp3totalInfected&Deceased','ticks']]\\\n",
    ".describe().loc[['count','mean']]"
   ]
  },
  {
   "cell_type": "code",
   "execution_count": 21,
   "metadata": {},
   "outputs": [
    {
     "data": {
      "text/html": [
       "<div>\n",
       "<style scoped>\n",
       "    .dataframe tbody tr th:only-of-type {\n",
       "        vertical-align: middle;\n",
       "    }\n",
       "\n",
       "    .dataframe tbody tr th {\n",
       "        vertical-align: top;\n",
       "    }\n",
       "\n",
       "    .dataframe thead th {\n",
       "        text-align: right;\n",
       "    }\n",
       "</style>\n",
       "<table border=\"1\" class=\"dataframe\">\n",
       "  <thead>\n",
       "    <tr style=\"text-align: right;\">\n",
       "      <th></th>\n",
       "      <th>cp3cRed</th>\n",
       "      <th>cp3totalInfected&amp;Deceased</th>\n",
       "      <th>ticks</th>\n",
       "    </tr>\n",
       "  </thead>\n",
       "  <tbody>\n",
       "    <tr>\n",
       "      <th>count</th>\n",
       "      <td>494.00</td>\n",
       "      <td>494.00</td>\n",
       "      <td>494.00</td>\n",
       "    </tr>\n",
       "    <tr>\n",
       "      <th>mean</th>\n",
       "      <td>19.59</td>\n",
       "      <td>42.89</td>\n",
       "      <td>515.86</td>\n",
       "    </tr>\n",
       "  </tbody>\n",
       "</table>\n",
       "</div>"
      ],
      "text/plain": [
       "       cp3cRed  cp3totalInfected&Deceased  ticks\n",
       "count   494.00                     494.00 494.00\n",
       "mean     19.59                      42.89 515.86"
      ]
     },
     "execution_count": 21,
     "metadata": {},
     "output_type": "execute_result"
    }
   ],
   "source": [
    "rundf['cp3LE90']=rundf['cp3cRed'] <= 90 \n",
    "rundf[rundf.cp3LE90][['cp3cRed','cp3totalInfected&Deceased','ticks']]\\\n",
    ".describe().loc[['count','mean']]"
   ]
  },
  {
   "cell_type": "code",
   "execution_count": 22,
   "metadata": {},
   "outputs": [
    {
     "data": {
      "text/html": [
       "<div>\n",
       "<style scoped>\n",
       "    .dataframe tbody tr th:only-of-type {\n",
       "        vertical-align: middle;\n",
       "    }\n",
       "\n",
       "    .dataframe tbody tr th {\n",
       "        vertical-align: top;\n",
       "    }\n",
       "\n",
       "    .dataframe thead th {\n",
       "        text-align: right;\n",
       "    }\n",
       "</style>\n",
       "<table border=\"1\" class=\"dataframe\">\n",
       "  <thead>\n",
       "    <tr style=\"text-align: right;\">\n",
       "      <th></th>\n",
       "      <th>cp3cRed</th>\n",
       "      <th>cp3totalInfected&amp;Deceased</th>\n",
       "      <th>ticks</th>\n",
       "    </tr>\n",
       "  </thead>\n",
       "  <tbody>\n",
       "    <tr>\n",
       "      <th>count</th>\n",
       "      <td>659.00</td>\n",
       "      <td>659.00</td>\n",
       "      <td>659.00</td>\n",
       "    </tr>\n",
       "    <tr>\n",
       "      <th>mean</th>\n",
       "      <td>306.26</td>\n",
       "      <td>763.12</td>\n",
       "      <td>497.20</td>\n",
       "    </tr>\n",
       "  </tbody>\n",
       "</table>\n",
       "</div>"
      ],
      "text/plain": [
       "       cp3cRed  cp3totalInfected&Deceased  ticks\n",
       "count   659.00                     659.00 659.00\n",
       "mean    306.26                     763.12 497.20"
      ]
     },
     "execution_count": 22,
     "metadata": {},
     "output_type": "execute_result"
    }
   ],
   "source": [
    "rundf['cp3GT20']=rundf['cp3cRed'] > 20 \n",
    "rundf[rundf.cp3GT20][['cp3cRed','cp3totalInfected&Deceased','ticks']]\\\n",
    ".describe().loc[['count','mean']]"
   ]
  },
  {
   "cell_type": "code",
   "execution_count": 23,
   "metadata": {},
   "outputs": [
    {
     "data": {
      "text/html": [
       "<div>\n",
       "<style scoped>\n",
       "    .dataframe tbody tr th:only-of-type {\n",
       "        vertical-align: middle;\n",
       "    }\n",
       "\n",
       "    .dataframe tbody tr th {\n",
       "        vertical-align: top;\n",
       "    }\n",
       "\n",
       "    .dataframe thead th {\n",
       "        text-align: right;\n",
       "    }\n",
       "</style>\n",
       "<table border=\"1\" class=\"dataframe\">\n",
       "  <thead>\n",
       "    <tr style=\"text-align: right;\">\n",
       "      <th></th>\n",
       "      <th>cp3cRed</th>\n",
       "      <th>cp3totalInfected&amp;Deceased</th>\n",
       "      <th>ticks</th>\n",
       "    </tr>\n",
       "  </thead>\n",
       "  <tbody>\n",
       "    <tr>\n",
       "      <th>count</th>\n",
       "      <td>341.00</td>\n",
       "      <td>341.00</td>\n",
       "      <td>341.00</td>\n",
       "    </tr>\n",
       "    <tr>\n",
       "      <th>mean</th>\n",
       "      <td>8.30</td>\n",
       "      <td>18.66</td>\n",
       "      <td>518.08</td>\n",
       "    </tr>\n",
       "  </tbody>\n",
       "</table>\n",
       "</div>"
      ],
      "text/plain": [
       "       cp3cRed  cp3totalInfected&Deceased  ticks\n",
       "count   341.00                     341.00 341.00\n",
       "mean      8.30                      18.66 518.08"
      ]
     },
     "execution_count": 23,
     "metadata": {},
     "output_type": "execute_result"
    }
   ],
   "source": [
    "rundf['cp3LE20']=rundf['cp3cRed'] <= 20 \n",
    "rundf[rundf.cp3LE20][['cp3cRed','cp3totalInfected&Deceased','ticks']]\\\n",
    ".describe().loc[['count','mean']]"
   ]
  },
  {
   "cell_type": "code",
   "execution_count": 24,
   "metadata": {},
   "outputs": [],
   "source": [
    "rundf['realistic_cp2_cp3']=rundf['realistic_cp2'] & rundf['cp3LE90'] & rundf['cp3GT20']"
   ]
  },
  {
   "cell_type": "code",
   "execution_count": 25,
   "metadata": {},
   "outputs": [
    {
     "data": {
      "text/html": [
       "<div>\n",
       "<style scoped>\n",
       "    .dataframe tbody tr th:only-of-type {\n",
       "        vertical-align: middle;\n",
       "    }\n",
       "\n",
       "    .dataframe tbody tr th {\n",
       "        vertical-align: top;\n",
       "    }\n",
       "\n",
       "    .dataframe thead th {\n",
       "        text-align: right;\n",
       "    }\n",
       "</style>\n",
       "<table border=\"1\" class=\"dataframe\">\n",
       "  <thead>\n",
       "    <tr style=\"text-align: right;\">\n",
       "      <th></th>\n",
       "      <th>cp2cRed</th>\n",
       "      <th>cp2totalInfected&amp;Deceased</th>\n",
       "      <th>cp3cRed</th>\n",
       "      <th>cp3totalInfected&amp;Deceased</th>\n",
       "      <th>ticks</th>\n",
       "    </tr>\n",
       "  </thead>\n",
       "  <tbody>\n",
       "    <tr>\n",
       "      <th>count</th>\n",
       "      <td>143.00</td>\n",
       "      <td>143.00</td>\n",
       "      <td>143.00</td>\n",
       "      <td>143.00</td>\n",
       "      <td>143.00</td>\n",
       "    </tr>\n",
       "    <tr>\n",
       "      <th>mean</th>\n",
       "      <td>37.60</td>\n",
       "      <td>78.70</td>\n",
       "      <td>42.02</td>\n",
       "      <td>89.69</td>\n",
       "      <td>511.38</td>\n",
       "    </tr>\n",
       "  </tbody>\n",
       "</table>\n",
       "</div>"
      ],
      "text/plain": [
       "       cp2cRed  cp2totalInfected&Deceased  cp3cRed  cp3totalInfected&Deceased  \\\n",
       "count   143.00                     143.00   143.00                     143.00   \n",
       "mean     37.60                      78.70    42.02                      89.69   \n",
       "\n",
       "       ticks  \n",
       "count 143.00  \n",
       "mean  511.38  "
      ]
     },
     "execution_count": 25,
     "metadata": {},
     "output_type": "execute_result"
    }
   ],
   "source": [
    "rundf[rundf.realistic_cp2_cp3][['cp2cRed','cp2totalInfected&Deceased','cp3cRed',\n",
    "                                'cp3totalInfected&Deceased','ticks']]\\\n",
    ".describe().loc[['count','mean']]"
   ]
  },
  {
   "cell_type": "code",
   "execution_count": 26,
   "metadata": {},
   "outputs": [
    {
     "data": {
      "text/html": [
       "<div>\n",
       "<style scoped>\n",
       "    .dataframe tbody tr th:only-of-type {\n",
       "        vertical-align: middle;\n",
       "    }\n",
       "\n",
       "    .dataframe tbody tr th {\n",
       "        vertical-align: top;\n",
       "    }\n",
       "\n",
       "    .dataframe thead th {\n",
       "        text-align: right;\n",
       "    }\n",
       "</style>\n",
       "<table border=\"1\" class=\"dataframe\">\n",
       "  <thead>\n",
       "    <tr style=\"text-align: right;\">\n",
       "      <th></th>\n",
       "      <th>cp4cRed</th>\n",
       "      <th>cp4totalInfected&amp;Deceased</th>\n",
       "      <th>ticks</th>\n",
       "    </tr>\n",
       "  </thead>\n",
       "  <tbody>\n",
       "    <tr>\n",
       "      <th>count</th>\n",
       "      <td>102.00</td>\n",
       "      <td>102.00</td>\n",
       "      <td>143.00</td>\n",
       "    </tr>\n",
       "    <tr>\n",
       "      <th>mean</th>\n",
       "      <td>595.61</td>\n",
       "      <td>1485.46</td>\n",
       "      <td>511.38</td>\n",
       "    </tr>\n",
       "  </tbody>\n",
       "</table>\n",
       "</div>"
      ],
      "text/plain": [
       "       cp4cRed  cp4totalInfected&Deceased  ticks\n",
       "count   102.00                     102.00 143.00\n",
       "mean    595.61                    1485.46 511.38"
      ]
     },
     "execution_count": 26,
     "metadata": {},
     "output_type": "execute_result"
    }
   ],
   "source": [
    "rundf[rundf.realistic_cp2_cp3][['cp4cRed',\n",
    "                                'cp4totalInfected&Deceased','ticks']]\\\n",
    ".describe().loc[['count','mean']]"
   ]
  },
  {
   "cell_type": "code",
   "execution_count": 39,
   "metadata": {},
   "outputs": [
    {
     "data": {
      "text/html": [
       "<div>\n",
       "<style scoped>\n",
       "    .dataframe tbody tr th:only-of-type {\n",
       "        vertical-align: middle;\n",
       "    }\n",
       "\n",
       "    .dataframe tbody tr th {\n",
       "        vertical-align: top;\n",
       "    }\n",
       "\n",
       "    .dataframe thead th {\n",
       "        text-align: right;\n",
       "    }\n",
       "</style>\n",
       "<table border=\"1\" class=\"dataframe\">\n",
       "  <thead>\n",
       "    <tr style=\"text-align: right;\">\n",
       "      <th></th>\n",
       "      <th>cp4cRed</th>\n",
       "      <th>cp4totalInfected&amp;Deceased</th>\n",
       "      <th>ticks</th>\n",
       "    </tr>\n",
       "  </thead>\n",
       "  <tbody>\n",
       "    <tr>\n",
       "      <th>count</th>\n",
       "      <td>0.00</td>\n",
       "      <td>0.00</td>\n",
       "      <td>0.00</td>\n",
       "    </tr>\n",
       "    <tr>\n",
       "      <th>mean</th>\n",
       "      <td>nan</td>\n",
       "      <td>nan</td>\n",
       "      <td>nan</td>\n",
       "    </tr>\n",
       "  </tbody>\n",
       "</table>\n",
       "</div>"
      ],
      "text/plain": [
       "       cp4cRed  cp4totalInfected&Deceased  ticks\n",
       "count     0.00                       0.00   0.00\n",
       "mean       nan                        nan    nan"
      ]
     },
     "execution_count": 39,
     "metadata": {},
     "output_type": "execute_result"
    }
   ],
   "source": [
    "rundf[rundf.realistic_cp2_cp3 & (rundf['cp4totalInfected&Deceased']==0)][['cp4cRed',\n",
    "                                'cp4totalInfected&Deceased','ticks']]\\\n",
    ".describe().loc[['count','mean']]"
   ]
  },
  {
   "cell_type": "code",
   "execution_count": 40,
   "metadata": {},
   "outputs": [
    {
     "data": {
      "text/html": [
       "<div>\n",
       "<style scoped>\n",
       "    .dataframe tbody tr th:only-of-type {\n",
       "        vertical-align: middle;\n",
       "    }\n",
       "\n",
       "    .dataframe tbody tr th {\n",
       "        vertical-align: top;\n",
       "    }\n",
       "\n",
       "    .dataframe thead th {\n",
       "        text-align: right;\n",
       "    }\n",
       "</style>\n",
       "<table border=\"1\" class=\"dataframe\">\n",
       "  <thead>\n",
       "    <tr style=\"text-align: right;\">\n",
       "      <th></th>\n",
       "      <th>cp4cRed</th>\n",
       "      <th>cp4totalInfected&amp;Deceased</th>\n",
       "      <th>ticks</th>\n",
       "    </tr>\n",
       "  </thead>\n",
       "  <tbody>\n",
       "    <tr>\n",
       "      <th>count</th>\n",
       "      <td>102.00</td>\n",
       "      <td>102.00</td>\n",
       "      <td>102.00</td>\n",
       "    </tr>\n",
       "    <tr>\n",
       "      <th>mean</th>\n",
       "      <td>595.61</td>\n",
       "      <td>1485.46</td>\n",
       "      <td>611.30</td>\n",
       "    </tr>\n",
       "  </tbody>\n",
       "</table>\n",
       "</div>"
      ],
      "text/plain": [
       "       cp4cRed  cp4totalInfected&Deceased  ticks\n",
       "count   102.00                     102.00 102.00\n",
       "mean    595.61                    1485.46 611.30"
      ]
     },
     "execution_count": 40,
     "metadata": {},
     "output_type": "execute_result"
    }
   ],
   "source": [
    "rundf[rundf.realistic_cp2_cp3 & (rundf['cp4totalInfected&Deceased']>0)][['cp4cRed',\n",
    "                                'cp4totalInfected&Deceased','ticks']]\\\n",
    ".describe().loc[['count','mean']]"
   ]
  },
  {
   "cell_type": "code",
   "execution_count": 41,
   "metadata": {},
   "outputs": [
    {
     "data": {
      "text/html": [
       "<div>\n",
       "<style scoped>\n",
       "    .dataframe tbody tr th:only-of-type {\n",
       "        vertical-align: middle;\n",
       "    }\n",
       "\n",
       "    .dataframe tbody tr th {\n",
       "        vertical-align: top;\n",
       "    }\n",
       "\n",
       "    .dataframe thead th {\n",
       "        text-align: right;\n",
       "    }\n",
       "</style>\n",
       "<table border=\"1\" class=\"dataframe\">\n",
       "  <thead>\n",
       "    <tr style=\"text-align: right;\">\n",
       "      <th></th>\n",
       "      <th>cp4cRed</th>\n",
       "      <th>cp4totalInfected&amp;Deceased</th>\n",
       "      <th>ticks</th>\n",
       "    </tr>\n",
       "  </thead>\n",
       "  <tbody>\n",
       "    <tr>\n",
       "      <th>count</th>\n",
       "      <td>819.00</td>\n",
       "      <td>819.00</td>\n",
       "      <td>819.00</td>\n",
       "    </tr>\n",
       "    <tr>\n",
       "      <th>mean</th>\n",
       "      <td>660.62</td>\n",
       "      <td>1647.51</td>\n",
       "      <td>557.68</td>\n",
       "    </tr>\n",
       "  </tbody>\n",
       "</table>\n",
       "</div>"
      ],
      "text/plain": [
       "       cp4cRed  cp4totalInfected&Deceased  ticks\n",
       "count   819.00                     819.00 819.00\n",
       "mean    660.62                    1647.51 557.68"
      ]
     },
     "execution_count": 41,
     "metadata": {},
     "output_type": "execute_result"
    }
   ],
   "source": [
    "rundf[rundf['cp4totalInfected&Deceased']>0][['cp4cRed',\n",
    "                                'cp4totalInfected&Deceased','ticks']]\\\n",
    ".describe().loc[['count','mean']]"
   ]
  },
  {
   "cell_type": "code",
   "execution_count": 43,
   "metadata": {},
   "outputs": [
    {
     "data": {
      "text/html": [
       "<div>\n",
       "<style scoped>\n",
       "    .dataframe tbody tr th:only-of-type {\n",
       "        vertical-align: middle;\n",
       "    }\n",
       "\n",
       "    .dataframe tbody tr th {\n",
       "        vertical-align: top;\n",
       "    }\n",
       "\n",
       "    .dataframe thead th {\n",
       "        text-align: right;\n",
       "    }\n",
       "</style>\n",
       "<table border=\"1\" class=\"dataframe\">\n",
       "  <thead>\n",
       "    <tr style=\"text-align: right;\">\n",
       "      <th></th>\n",
       "      <th>cp4cRed</th>\n",
       "      <th>cp4totalInfected&amp;Deceased</th>\n",
       "      <th>ticks</th>\n",
       "    </tr>\n",
       "  </thead>\n",
       "  <tbody>\n",
       "    <tr>\n",
       "      <th>count</th>\n",
       "      <td>763.00</td>\n",
       "      <td>763.00</td>\n",
       "      <td>763.00</td>\n",
       "    </tr>\n",
       "    <tr>\n",
       "      <th>mean</th>\n",
       "      <td>702.64</td>\n",
       "      <td>1752.91</td>\n",
       "      <td>559.73</td>\n",
       "    </tr>\n",
       "  </tbody>\n",
       "</table>\n",
       "</div>"
      ],
      "text/plain": [
       "       cp4cRed  cp4totalInfected&Deceased  ticks\n",
       "count   763.00                     763.00 763.00\n",
       "mean    702.64                    1752.91 559.73"
      ]
     },
     "execution_count": 43,
     "metadata": {},
     "output_type": "execute_result"
    }
   ],
   "source": [
    "rundf[rundf['cp4totalInfected&Deceased']>500][['cp4cRed',\n",
    "                                'cp4totalInfected&Deceased','ticks']]\\\n",
    ".describe().loc[['count','mean']]"
   ]
  },
  {
   "cell_type": "raw",
   "metadata": {},
   "source": [
    "rundfS=rundf.copy()\n",
    "rundfS[\"cond1\"]=rundfS.cp3cRed < rundfS.cp2cRed * 1.4\n",
    "rundfS[rundfS.cond1][['cumulativeRedCount','totalInfected&Deceased','ticks']].describe()"
   ]
  },
  {
   "cell_type": "raw",
   "metadata": {},
   "source": [
    "rundfS[\"cond2\"]=rundfS.cp4cRed > rundfS.cp3cRed * 1.5\n",
    "rundfS[rundfS.cond2][['cumulativeRedCount','totalInfected&Deceased','ticks']].describe()"
   ]
  },
  {
   "cell_type": "raw",
   "metadata": {},
   "source": [
    "rundfS[\"cond12\"]=rundfS[\"cond1\"]&rundfS[\"cond2\"]\n",
    "rundfS[rundfS.cond12][['cumulativeRedCount','totalInfected&Deceased','ticks']].describe()"
   ]
  },
  {
   "cell_type": "raw",
   "metadata": {},
   "source": [
    "rundf=rundfS[rundfS.cond12].copy()"
   ]
  },
  {
   "cell_type": "raw",
   "metadata": {},
   "source": [
    "rundf[['cp2cRed','cp3cRed','cp4cRed']]"
   ]
  },
  {
   "cell_type": "raw",
   "metadata": {},
   "source": [
    "## 1 simulation time"
   ]
  },
  {
   "cell_type": "raw",
   "metadata": {
    "scrolled": true
   },
   "source": [
    "rundf.hist(column=\"ticks\",bins=1000,figsize=(15,8))"
   ]
  },
  {
   "cell_type": "raw",
   "metadata": {},
   "source": [
    "## 2 symptomatic agent cumulative count"
   ]
  },
  {
   "cell_type": "raw",
   "metadata": {
    "scrolled": true
   },
   "source": [
    "rundf.hist(column=\"cumulativeRedCount\",bins=1000,figsize=(15,8))"
   ]
  },
  {
   "cell_type": "raw",
   "metadata": {},
   "source": [
    "## 3 symptomatic agent cumulative count vs. time "
   ]
  },
  {
   "cell_type": "raw",
   "metadata": {
    "scrolled": true
   },
   "source": [
    "rundf.plot(x=\"ticks\",y=\"cumulativeRedCount\",s=3,kind='scatter',figsize=(15,8), \n",
    "           title=\"symptomatic agent cumulative count vs. time\",\n",
    "           ylim=(0,3600),xlim=(0,700))"
   ]
  },
  {
   "cell_type": "raw",
   "metadata": {},
   "source": [
    "## 4 symptomatic + asymptomatic agent cumulative count"
   ]
  },
  {
   "cell_type": "raw",
   "metadata": {
    "scrolled": true
   },
   "source": [
    "rundf.hist(column=\"totalInfected\",bins=1000,figsize=(15,8))"
   ]
  },
  {
   "cell_type": "raw",
   "metadata": {},
   "source": [
    "## 5 total number of deceased"
   ]
  },
  {
   "cell_type": "raw",
   "metadata": {
    "scrolled": true
   },
   "source": [
    "rundf.hist(column=\"cumulativeDeadCount\",bins=1000,figsize=(15,8))"
   ]
  },
  {
   "cell_type": "raw",
   "metadata": {},
   "source": [
    "## 6 symptomatic + asymptomatic + deceased agent cumulative count"
   ]
  },
  {
   "cell_type": "raw",
   "metadata": {
    "scrolled": true
   },
   "source": [
    "rundf.hist(column=\"totalInfected&Deceased\",bins=1000,figsize=(15,8))"
   ]
  },
  {
   "cell_type": "raw",
   "metadata": {},
   "source": [
    "## 7 symptomatic + asymptomatic + deceased agent cumulative count vs. time"
   ]
  },
  {
   "cell_type": "raw",
   "metadata": {
    "scrolled": true
   },
   "source": [
    "rundf.plot(x=\"ticks\",y=\"totalInfected&Deceased\",s=3,kind='scatter',figsize=(15,8), \n",
    "           title=\"simptomatic+asymptomatic+deceased vs. time\",ylim=(0,3600),xlim=(0,700))"
   ]
  },
  {
   "cell_type": "code",
   "execution_count": 31,
   "metadata": {
    "scrolled": true
   },
   "outputs": [
    {
     "data": {
      "text/markdown": [
       "# ------------------------------------------------------------\n",
       "# timeFunction displaying heat-maps and interval data\n",
       "### with the possibility of choosing the duration column (after a merge), if any\n",
       "# checkpoint function displaying the data\n",
       "### of the epdicemics subsisting at a given checkpoint\n",
       "# intervalCheckpoint function displaying the data\n",
       "### of the epdicemics subsisting in an interval and at a given checkpoint\n",
       "# ------------------------------------------------------------"
      ],
      "text/plain": [
       "<IPython.core.display.Markdown object>"
      ]
     },
     "execution_count": 31,
     "metadata": {},
     "output_type": "execute_result"
    }
   ],
   "source": [
    "md(\"# ------------------------------------------------------------\\n\"+\\\n",
    "    \"# timeFunction displaying heat-maps and interval data\\n\"+\\\n",
    "    \"### with the possibility of choosing the duration column (after a merge), if any\\n\"+\\\n",
    "    \"# checkpoint function displaying the data\\n\"+\\\n",
    "    \"### of the epdicemics subsisting at a given checkpoint\\n\"+\\\n",
    "    \"# intervalCheckpoint function displaying the data\\n\"+\\\n",
    "    \"### of the epdicemics subsisting in an interval and at a given checkpoint\\n\"+\\\n",
    "    \"# ------------------------------------------------------------\")"
   ]
  },
  {
   "cell_type": "code",
   "execution_count": 32,
   "metadata": {
    "scrolled": true
   },
   "outputs": [],
   "source": [
    "import matplotlib.pyplot as plt\n",
    "import matplotlib.colors as colors\n",
    "from matplotlib.colors import LogNorm\n",
    "import seaborn as sns; sns.set()\n",
    "\n",
    "def timeFunction(day0,day1,durationCol,title):\n",
    "    \n",
    "    rundfHere=rundf.copy()\n",
    "    rundfHere=rundfHere[rundfHere[durationCol]>=day0]\n",
    "    rundfHere=rundfHere[rundfHere[durationCol]<=day1]\n",
    "    \n",
    "    display(md (\"## Epidemics with duration between {} days ({}) and {} days ({})\"\\\n",
    "                   .format(day0,day(day0).strftime(\"%Y-%m-%d\"),\\\n",
    "                           day1,day(day1).strftime(\"%Y-%m-%d\"))) )\n",
    "    \n",
    "    \n",
    "    rundfHere.rename(columns={'cumulativeRedCount': 'symptomatic',\n",
    "                              'ticks':\"duration\"},inplace=True)\n",
    "    \n",
    "    tmp=rundfHere[['symptomatic','totalInfected&Deceased','duration']].describe();\n",
    "    display(tmp)\n",
    "    display(print(tmp.to_latex()))\n",
    "    \n",
    "    if rundfHere.shape[0] == 0: return\n",
    "    \n",
    "    for nBins in [10,20,30,60]:\n",
    "        display(md (\"## Epidemics with duration between {} days ({}) and {} days ({}), with {} bins\"\\\n",
    "                   .format(day0,day(day0).strftime(\"%Y-%m-%d\"),\\\n",
    "                           day1,day(day1).strftime(\"%Y-%m-%d\"),nBins)) )\n",
    "            \n",
    "        rundfHere['totalInfected&Deceased'].plot.hist(bins=nBins, color=\"r\",\n",
    "                                            title=title+\"\\ntotalInfected&Deceased\");\n",
    "        plt.show()\n",
    "        rundfHere['duration'].plot.hist(bins=nBins, color=\"g\",\n",
    "                                            title=title+\"\\ntotalInfected&Deceased\");\n",
    "        plt.show()\n",
    "\n",
    "        # preparing data for the heat-map\n",
    "        hist = plt.hist2d(x=rundfHere['duration'], y=rundfHere['totalInfected&Deceased'], \n",
    "                          bins=nBins, range=[[0, 700], [0, 3600]])\n",
    "        plt.close() #to avoid the output of hist2d\n",
    "        \n",
    "        zMax=np.amax(hist[0]) # max level z axis\n",
    "        display(md (\"With {} bins, the max value on z axis is {}, first row is {}\"\\\n",
    "                    .format(nBins,zMax,np.transpose(hist[0])[0])))\n",
    "        \n",
    "        if nBins == 60: plt.figure(figsize=(20,10))\n",
    "        else:           plt.figure(figsize=(8.5,4.25))\n",
    "        \n",
    "        lognorm = LogNorm(vmin=1.0, vmax=np.amax(hist[0]))\n",
    "        ax = sns.heatmap(\n",
    "            np.flip(np.transpose(hist[0]),0), \n",
    "            #robust=True, \n",
    "            norm=lognorm,\n",
    "            cmap='YlGnBu',\n",
    "            annot=True, fmt='.0f', \n",
    "            xticklabels=np.round(hist[1][1:],0).astype(int),\n",
    "            yticklabels=np.flip(hist[2][1:],0).astype(int),\n",
    "            annot_kws={\"size\":8}\n",
    "            )\n",
    "\n",
    "        plt.xlabel(\"Days\")\n",
    "        plt.ylabel(\"Total symptomatic + asymptomatic + deceased\")\n",
    "\n",
    "        plt.title(title)\n",
    "\n",
    "        plt.show()\n"
   ]
  },
  {
   "cell_type": "code",
   "execution_count": 33,
   "metadata": {},
   "outputs": [],
   "source": [
    "def timeQuantityFunction(q,day0,day1,durationCol,title):\n",
    "\n",
    "    rundfHere=rundf.copy()\n",
    "    rundfHere=rundfHere[rundfHere[durationCol]>=day0]\n",
    "    rundfHere=rundfHere[rundfHere[durationCol]<=day1]\n",
    "    rundfHere=rundfHere[rundfHere['totalInfected&Deceased']>=q]\n",
    "    \n",
    "    display(md (\"## Epidemics with duration between {} days ({}) and {} days ({}), q >= {}\"\\\n",
    "                   .format(day0,day(day0).strftime(\"%Y-%m-%d\"),\\\n",
    "                           day1,day(day1).strftime(\"%Y-%m-%d\"),q)) )\n",
    "    \n",
    "    \n",
    "    rundfHere.rename(columns={'cumulativeRedCount': 'symptomatic',\n",
    "                              'ticks':\"duration\"},inplace=True)\n",
    "    \n",
    "    tmp=rundfHere[['symptomatic','totalInfected&Deceased','duration']].describe();\n",
    "    display(tmp)\n",
    "    display(print(tmp.to_latex()))\n",
    "    \n",
    "    if rundfHere.shape[0] == 0: return\n",
    "    \n",
    "    for nBins in [10,20,30,60]:\n",
    "        display(md (\"## Epidemics with duration between {} days ({}) and {} days ({}), with {} bins, q >= {}\"\\\n",
    "                   .format(day0,day(day0).strftime(\"%Y-%m-%d\"),\\\n",
    "                           day1,day(day1).strftime(\"%Y-%m-%d\"),nBins,q)) )\n",
    "            \n",
    "        rundfHere['totalInfected&Deceased'].plot.hist(bins=nBins, color=\"r\",\n",
    "                                            title=title+\"\\ntotalInfected&Deceased\");\n",
    "        plt.show()\n",
    "        rundfHere['duration'].plot.hist(bins=nBins, color=\"g\",\n",
    "                                            title=title+\"\\ntotalInfected&Deceased\");\n",
    "        plt.show()\n",
    "\n",
    "        # preparing data for the heat-map\n",
    "        hist = plt.hist2d(x=rundfHere['duration'], y=rundfHere['totalInfected&Deceased'], \n",
    "                          bins=nBins, range=[[0, 700], [0, 3600]])\n",
    "        plt.close() #to avoid the output of hist2d\n",
    "        \n",
    "        zMax=np.amax(hist[0]) # max level z axis\n",
    "        display(md (\"With {} bins, the max value on z axis is {}, first row is {}\"\\\n",
    "                    .format(nBins,zMax,np.transpose(hist[0])[0])))\n",
    "        \n",
    "        if nBins == 60: plt.figure(figsize=(20,10))\n",
    "        else:           plt.figure(figsize=(8.5,4.25))\n",
    "        \n",
    "        lognorm = LogNorm(vmin=1.0, vmax=np.amax(hist[0]))\n",
    "        ax = sns.heatmap(\n",
    "            np.flip(np.transpose(hist[0]),0), \n",
    "            #robust=True, \n",
    "            norm=lognorm,\n",
    "            cmap='YlGnBu',\n",
    "            annot=True, fmt='.0f', \n",
    "            xticklabels=np.round(hist[1][1:],0).astype(int),\n",
    "            yticklabels=np.flip(hist[2][1:],0).astype(int),\n",
    "            annot_kws={\"size\":8}\n",
    "            )\n",
    "\n",
    "        plt.xlabel(\"Days\")\n",
    "        plt.ylabel(\"Total symptomatic + asymptomatic + deceased\")\n",
    "\n",
    "        plt.title(title)\n",
    "\n",
    "        plt.show()\n"
   ]
  },
  {
   "cell_type": "code",
   "execution_count": 34,
   "metadata": {},
   "outputs": [],
   "source": [
    "#checkpoint names\n",
    "start = 0\n",
    "end=1000\n",
    "cp1=[1, 30,\"cp1cRed\",\"cp1totalInfected&Deceased\"]\n",
    "cp2=[2,119,\"cp2cRed\",\"cp2totalInfected&Deceased\"]\n",
    "cp3=[3,230,\"cp3cRed\",\"cp3totalInfected&Deceased\"]\n",
    "cp4=[4,316,\"cp4cRed\",\"cp4totalInfected&Deceased\"]\n",
    "cp5=[5,364,\"cp5cRed\",\"cp5totalInfected&Deceased\"]\n",
    "cp6=[6,453,\"cp6cRed\",\"cp6totalInfected&Deceased\"]"
   ]
  },
  {
   "cell_type": "code",
   "execution_count": 35,
   "metadata": {},
   "outputs": [],
   "source": [
    "def checkPoint(cpN,durationCol,title):\n",
    "    \n",
    "    # epidemics subsisting a cpN[1] day\n",
    "    display(md(\"## \"+title))\n",
    "    display(md(\"## Checkpoint {}, data of the epidemics continuing at day {}\"\\\n",
    "               .format(cpN[0],cpN[1])))\n",
    "    \n",
    "    rundfHere2=rundf.copy()\n",
    "    #display(rundfHere.columns)\n",
    "    rundfHere2=rundfHere2[rundfHere2[durationCol]>=cpN[1]]\n",
    "\n",
    "    rundfHere2.rename(columns={cpN[2]: 'symptomatic-cp'+str(cpN[0]),\n",
    "                               cpN[3]: 'totalInfected&Deceased-cp'+str(cpN[0]),\n",
    "                               \"ticks\": \"duration\"},inplace=True)\n",
    "    \n",
    "    tmp=rundfHere2[['symptomatic-cp'+str(cpN[0]),'totalInfected&Deceased-cp'+str(cpN[0]),\\\n",
    "                    'duration']].describe();\n",
    "    display(tmp)\n",
    "    display(print(tmp.to_latex()))"
   ]
  },
  {
   "cell_type": "code",
   "execution_count": 36,
   "metadata": {},
   "outputs": [],
   "source": [
    "def checkPointInterval(day0,day1,cpN,durationCol,title):\n",
    "\n",
    "    display(md(\"## \"+title))\n",
    "\n",
    "    display(md (\"## Epidemics with duration between {} days ({}) and {} days ({})\\n## +\"\\\n",
    "                   .format(day0,day(day0).strftime(\"%Y-%m-%d\"),\\\n",
    "                           day1,day(day1).strftime(\"%Y-%m-%d\"))) )\n",
    "    display(md (\"## Checkpoint {}, data of the epidemics continuing at day {}\"\\\n",
    "                   .format(cpN[0],cpN[1])) )\n",
    "\n",
    "    rundfHere1=rundf.copy()\n",
    "    rundfHere1=rundfHere1[rundfHere1[durationCol]>=day0]\n",
    "    rundfHere1=rundfHere1[rundfHere1[durationCol]<=day1]\n",
    "\n",
    "    rundfHere1.rename(columns={'cumulativeRedCount': 'symptomatic'},inplace=True)\n",
    "    \n",
    "    #display(rundfHere1[['symptomatic','totalInfected&Deceased']].describe())\n",
    "    \n",
    "    rundfHere2=rundf.copy()\n",
    "    rundfHere2=rundfHere2.drop(['totalInfected&Deceased'], axis=1)\n",
    "    rundfHere2=rundfHere2[rundfHere2[durationCol]>=cpN[1]]\n",
    "    rundfHere2.rename(columns={cpN[2]: 'symptomatic',\n",
    "                               cpN[3]: 'totalInfected&Deceased'},inplace=True)\n",
    "    #display(rundfHere2[['symptomatic','totalInfected&Deceased']].describe())\n",
    "    \n",
    "    rundfHere12=pd.DataFrame()\n",
    "    rundfHere12[['symptomatic','totalInfected&Deceased']]=\\\n",
    "          rundfHere1[['symptomatic','totalInfected&Deceased']]\\\n",
    "          .append(rundfHere2[['symptomatic','totalInfected&Deceased']])\n",
    "    display(rundfHere12[['symptomatic','totalInfected&Deceased']].describe())\n"
   ]
  },
  {
   "cell_type": "code",
   "execution_count": 37,
   "metadata": {},
   "outputs": [
    {
     "data": {
      "text/markdown": [
       "## 1000 epidemics with non-pharmaceutical containment measures, schools open in Sep"
      ],
      "text/plain": [
       "<IPython.core.display.Markdown object>"
      ]
     },
     "metadata": {},
     "output_type": "display_data"
    },
    {
     "data": {
      "text/markdown": [
       "## Checkpoint 1, data of the epidemics continuing at day 30"
      ],
      "text/plain": [
       "<IPython.core.display.Markdown object>"
      ]
     },
     "metadata": {},
     "output_type": "display_data"
    },
    {
     "data": {
      "text/html": [
       "<div>\n",
       "<style scoped>\n",
       "    .dataframe tbody tr th:only-of-type {\n",
       "        vertical-align: middle;\n",
       "    }\n",
       "\n",
       "    .dataframe tbody tr th {\n",
       "        vertical-align: top;\n",
       "    }\n",
       "\n",
       "    .dataframe thead th {\n",
       "        text-align: right;\n",
       "    }\n",
       "</style>\n",
       "<table border=\"1\" class=\"dataframe\">\n",
       "  <thead>\n",
       "    <tr style=\"text-align: right;\">\n",
       "      <th></th>\n",
       "      <th>symptomatic-cp1</th>\n",
       "      <th>totalInfected&amp;Deceased-cp1</th>\n",
       "      <th>duration</th>\n",
       "    </tr>\n",
       "  </thead>\n",
       "  <tbody>\n",
       "    <tr>\n",
       "      <th>count</th>\n",
       "      <td>1000.00</td>\n",
       "      <td>1000.00</td>\n",
       "      <td>1000.00</td>\n",
       "    </tr>\n",
       "    <tr>\n",
       "      <th>mean</th>\n",
       "      <td>10.37</td>\n",
       "      <td>30.26</td>\n",
       "      <td>504.32</td>\n",
       "    </tr>\n",
       "    <tr>\n",
       "      <th>std</th>\n",
       "      <td>11.87</td>\n",
       "      <td>40.89</td>\n",
       "      <td>157.07</td>\n",
       "    </tr>\n",
       "    <tr>\n",
       "      <th>min</th>\n",
       "      <td>0.00</td>\n",
       "      <td>2.00</td>\n",
       "      <td>230.00</td>\n",
       "    </tr>\n",
       "    <tr>\n",
       "      <th>25%</th>\n",
       "      <td>2.75</td>\n",
       "      <td>6.00</td>\n",
       "      <td>397.50</td>\n",
       "    </tr>\n",
       "    <tr>\n",
       "      <th>50%</th>\n",
       "      <td>5.00</td>\n",
       "      <td>11.00</td>\n",
       "      <td>516.00</td>\n",
       "    </tr>\n",
       "    <tr>\n",
       "      <th>75%</th>\n",
       "      <td>15.25</td>\n",
       "      <td>32.25</td>\n",
       "      <td>618.00</td>\n",
       "    </tr>\n",
       "    <tr>\n",
       "      <th>max</th>\n",
       "      <td>70.00</td>\n",
       "      <td>221.00</td>\n",
       "      <td>1116.00</td>\n",
       "    </tr>\n",
       "  </tbody>\n",
       "</table>\n",
       "</div>"
      ],
      "text/plain": [
       "       symptomatic-cp1  totalInfected&Deceased-cp1  duration\n",
       "count          1000.00                     1000.00   1000.00\n",
       "mean             10.37                       30.26    504.32\n",
       "std              11.87                       40.89    157.07\n",
       "min               0.00                        2.00    230.00\n",
       "25%               2.75                        6.00    397.50\n",
       "50%               5.00                       11.00    516.00\n",
       "75%              15.25                       32.25    618.00\n",
       "max              70.00                      221.00   1116.00"
      ]
     },
     "metadata": {},
     "output_type": "display_data"
    },
    {
     "name": "stdout",
     "output_type": "stream",
     "text": [
      "\\begin{tabular}{lrrr}\n",
      "\\toprule\n",
      "{} &  symptomatic-cp1 &  totalInfected\\&Deceased-cp1 &  duration \\\\\n",
      "\\midrule\n",
      "count &          1000.00 &                     1000.00 &   1000.00 \\\\\n",
      "mean  &            10.37 &                       30.26 &    504.32 \\\\\n",
      "std   &            11.87 &                       40.89 &    157.07 \\\\\n",
      "min   &             0.00 &                        2.00 &    230.00 \\\\\n",
      "25\\%   &             2.75 &                        6.00 &    397.50 \\\\\n",
      "50\\%   &             5.00 &                       11.00 &    516.00 \\\\\n",
      "75\\%   &            15.25 &                       32.25 &    618.00 \\\\\n",
      "max   &            70.00 &                      221.00 &   1116.00 \\\\\n",
      "\\bottomrule\n",
      "\\end{tabular}\n",
      "\n"
     ]
    },
    {
     "data": {
      "text/plain": [
       "None"
      ]
     },
     "metadata": {},
     "output_type": "display_data"
    }
   ],
   "source": [
    "checkPoint(cp1,\"ticks\",'1000 epidemics with non-pharmaceutical containment measures, '+\n",
    "          'schools open in Sep')"
   ]
  },
  {
   "cell_type": "raw",
   "metadata": {},
   "source": [
    "timeFunction(start,cp1[1]-1,\"ticks\",'1000 epidemics with non-pharmaceutical containment measures,\\n'+\n",
    "          'schools open in Sep')"
   ]
  },
  {
   "cell_type": "raw",
   "metadata": {},
   "source": [
    "timeFunction(cp1[1],end,\"ticks\",'1000 epidemics with non-pharmaceutical containment measures,\\n'+\n",
    "          'schools open in Sep')"
   ]
  },
  {
   "cell_type": "raw",
   "metadata": {},
   "source": [
    "#### --------------------------------------------------"
   ]
  },
  {
   "cell_type": "raw",
   "metadata": {},
   "source": [
    "checkPoint(cp2,\"ticks\",'1000 epidemics with non-pharmaceutical containment measures, '+\n",
    "          'schools open in Sep')"
   ]
  },
  {
   "cell_type": "raw",
   "metadata": {},
   "source": [
    "timeFunction(start,cp2[1]-1,\"ticks\",'1000 epidemics with non-pharmaceutical containment measures,\\n'+\n",
    "          'schools open in Sep')"
   ]
  },
  {
   "cell_type": "raw",
   "metadata": {},
   "source": [
    "timeFunction(cp1[1],cp2[1]-1,\"ticks\",'1000 epidemics with non-pharmaceutical containment measures,\\n'+\n",
    "          'schools open in Sep')"
   ]
  },
  {
   "cell_type": "raw",
   "metadata": {},
   "source": [
    "timeFunction(cp2[1],end,\"ticks\",'1000 epidemics with non-pharmaceutical containment measures,\\n'+\n",
    "          'schools open in Sep')"
   ]
  },
  {
   "cell_type": "raw",
   "metadata": {},
   "source": [
    "checkPointInterval(start,cp2[1]-1,cp2,\"ticks\",\n",
    "                   '1000 epidemics with non-pharmaceutical containment measures, '+\n",
    "                   'schools open in Sep')"
   ]
  },
  {
   "cell_type": "raw",
   "metadata": {},
   "source": [
    "#### --------------------------------------------------"
   ]
  },
  {
   "cell_type": "raw",
   "metadata": {},
   "source": [
    "checkPoint(cp3,\"ticks\",'1000 epidemics with non-pharmaceutical containment measures, '+\n",
    "          'schools open in Sep')"
   ]
  },
  {
   "cell_type": "raw",
   "metadata": {},
   "source": [
    "timeFunction(start,cp3[1]-1,\"ticks\",'1000 epidemics with non-pharmaceutical containment measures,\\n'+\n",
    "          'schools open in Sep')"
   ]
  },
  {
   "cell_type": "raw",
   "metadata": {},
   "source": [
    "timeFunction(cp2[1],cp3[1]-1,\"ticks\",'1000 epidemics with non-pharmaceutical containment measures,\\n'+\n",
    "          'schools open in Sep')"
   ]
  },
  {
   "cell_type": "raw",
   "metadata": {},
   "source": [
    "timeQuantityFunction(360,cp3[1],end,\"ticks\",'1000 epidemics with non-pharmaceutical containment measures,\\n'+\n",
    "          'schools open in Sep')"
   ]
  },
  {
   "cell_type": "raw",
   "metadata": {},
   "source": [
    "timeFunction(cp3[1],end,\"ticks\",'1000 epidemics with non-pharmaceutical containment measures,\\n'+\n",
    "          'schools open in Sep')"
   ]
  },
  {
   "cell_type": "raw",
   "metadata": {},
   "source": [
    "checkPointInterval(cp2[1],cp3[1]-1,cp3,\"ticks\",\n",
    "                   '1000 epidemics with non-pharmaceutical containment measures, '+\n",
    "                   'schools open in Sep')"
   ]
  },
  {
   "cell_type": "raw",
   "metadata": {},
   "source": [
    "#### --------------------------------------------------"
   ]
  },
  {
   "cell_type": "raw",
   "metadata": {},
   "source": [
    "checkPoint(cp4,\"ticks\",'1000 epidemics with non-pharmaceutical containment measures, '+\n",
    "          'schools open in Sep')"
   ]
  },
  {
   "cell_type": "raw",
   "metadata": {},
   "source": [
    "timeFunction(start,cp4[1]-1,\"ticks\",'1000 epidemics with non-pharmaceutical containment measures,\\n'+\n",
    "          'schools open in Sep')"
   ]
  },
  {
   "cell_type": "raw",
   "metadata": {},
   "source": [
    "timeFunction(cp3[1],cp4[1]-1,\"ticks\",'1000 epidemics with non-pharmaceutical containment measures,\\n'+\n",
    "          'schools open in Sep')"
   ]
  },
  {
   "cell_type": "raw",
   "metadata": {},
   "source": [
    "timeFunction(cp4[1],end,\"ticks\",'1000 epidemics with non-pharmaceutical containment measures,\\n'+\n",
    "          'schools open in Sep')"
   ]
  },
  {
   "cell_type": "raw",
   "metadata": {},
   "source": [
    "checkPointInterval(cp3[1],cp4[1]-1,cp4,\"ticks\",\n",
    "                   '1000 epidemics with non-pharmaceutical containment measures, '+\n",
    "                   'schools open in Sep')"
   ]
  },
  {
   "cell_type": "raw",
   "metadata": {},
   "source": [
    "#### --------------------------------------------------"
   ]
  },
  {
   "cell_type": "raw",
   "metadata": {},
   "source": [
    "checkPoint(cp5,\"ticks\",'1000 epidemics with non-pharmaceutical containment measures, '+\n",
    "          'schools open in Sep')"
   ]
  },
  {
   "cell_type": "raw",
   "metadata": {},
   "source": [
    "timeFunction(start,cp5[1]-1,\"ticks\",'1000 epidemics with non-pharmaceutical containment measures,\\n'+\n",
    "          'schools open in Sep')"
   ]
  },
  {
   "cell_type": "raw",
   "metadata": {},
   "source": [
    "timeFunction(cp4[1],cp5[1]-1,\"ticks\",'1000 epidemics with non-pharmaceutical containment measures,\\n'+\n",
    "          'schools open in Sep')"
   ]
  },
  {
   "cell_type": "raw",
   "metadata": {},
   "source": [
    "timeFunction(cp5[1],end,\"ticks\",'1000 epidemics with non-pharmaceutical containment measures,\\n'+\n",
    "          'schools open in Sep')"
   ]
  },
  {
   "cell_type": "raw",
   "metadata": {},
   "source": [
    "checkPointInterval(cp4[1],cp5[1]-1,cp5,\"ticks\",\n",
    "                   '1000 epidemics with non-pharmaceutical containment measures, '+\n",
    "                   'schools open in Sep')"
   ]
  },
  {
   "cell_type": "raw",
   "metadata": {},
   "source": [
    "#### --------------------------------------------------"
   ]
  },
  {
   "cell_type": "raw",
   "metadata": {},
   "source": [
    "checkPoint(cp6,\"ticks\",'1000 epidemics with non-pharmaceutical containment measures, '+\n",
    "          'schools open in Sep')"
   ]
  },
  {
   "cell_type": "raw",
   "metadata": {},
   "source": [
    "timeFunction(start,cp6[1]-1,\"ticks\",'1000 epidemics with non-pharmaceutical containment measures,\\n'+\n",
    "          'schools open in Sep')"
   ]
  },
  {
   "cell_type": "raw",
   "metadata": {},
   "source": [
    "timeFunction(cp5[1],cp6[1]-1,\"ticks\",'1000 epidemics with non-pharmaceutical containment measures,\\n'+\n",
    "          'schools open in Sep')"
   ]
  },
  {
   "cell_type": "raw",
   "metadata": {},
   "source": [
    "timeFunction(cp6[1],end,\"ticks\",'1000 epidemics with non-pharmaceutical containment measures,\\n'+\n",
    "          'schools open in Sep')"
   ]
  },
  {
   "cell_type": "raw",
   "metadata": {},
   "source": [
    "#### --------------------------------------------------"
   ]
  },
  {
   "cell_type": "raw",
   "metadata": {
    "scrolled": true
   },
   "source": [
    "timeFunction(start,end,\"ticks\",'1000 epidemics with non-pharmaceutical containment measures,\\n'+\n",
    "          'schools open in Sep')"
   ]
  },
  {
   "cell_type": "code",
   "execution_count": null,
   "metadata": {},
   "outputs": [],
   "source": []
  }
 ],
 "metadata": {
  "kernelspec": {
   "display_name": "Python 3",
   "language": "python",
   "name": "python3"
  },
  "language_info": {
   "codemirror_mode": {
    "name": "ipython",
    "version": 3
   },
   "file_extension": ".py",
   "mimetype": "text/x-python",
   "name": "python",
   "nbconvert_exporter": "python",
   "pygments_lexer": "ipython3",
   "version": "3.8.6"
  }
 },
 "nbformat": 4,
 "nbformat_minor": 2
}
